{
 "cells": [
  {
   "cell_type": "markdown",
   "metadata": {},
   "source": [
    "# Colab Preperations"
   ]
  },
  {
   "cell_type": "code",
   "execution_count": null,
   "metadata": {},
   "outputs": [],
   "source": [
    "from google.colab import drive\n",
    "drive.mount('/content/gdrive')"
   ]
  },
  {
   "cell_type": "code",
   "execution_count": null,
   "metadata": {},
   "outputs": [],
   "source": [
    "%cd 'gdrive/My Drive/Colab Notebooks/project_folder/MSC-RecSys-Project'\n",
    "!pip install optuna\n",
    "!pip install pytorch-ignite"
   ]
  },
  {
   "cell_type": "markdown",
   "metadata": {},
   "source": [
    "# Imports"
   ]
  },
  {
   "cell_type": "code",
   "execution_count": 1,
   "metadata": {},
   "outputs": [],
   "source": [
    "import torch\n",
    "import matplotlib.pyplot as plt\n",
    "\n",
    "%load_ext autoreload\n",
    "%autoreload 2\n",
    "\n",
    "from src.hyperparams_tuning import tune_params, final_train"
   ]
  },
  {
   "cell_type": "code",
   "execution_count": 2,
   "metadata": {},
   "outputs": [
    {
     "name": "stdout",
     "output_type": "stream",
     "text": [
      "Using device: cpu\n"
     ]
    }
   ],
   "source": [
    "plt.rcParams.update({'font.size': 12})\n",
    "device = torch.device('cuda' if torch.cuda.is_available() else 'cpu')\n",
    "print('Using device:', device)"
   ]
  },
  {
   "cell_type": "markdown",
   "metadata": {},
   "source": [
    "# MovieLens 1M"
   ]
  },
  {
   "cell_type": "code",
   "execution_count": 3,
   "metadata": {},
   "outputs": [],
   "source": [
    "max_epochs_ml = 3"
   ]
  },
  {
   "cell_type": "markdown",
   "metadata": {},
   "source": [
    "## HyperParameter Tuning"
   ]
  },
  {
   "cell_type": "code",
   "execution_count": 4,
   "metadata": {},
   "outputs": [
    {
     "name": "stderr",
     "output_type": "stream",
     "text": [
      "\u001b[32m[I 2022-02-06 11:24:45,960]\u001b[0m A new study created in memory with name: no-name-1d8539ac-bce5-4d60-b5c7-d18e69cb1cad\u001b[0m\n",
      "/Users/guyattia/miniconda3/envs/RecSys/lib/python3.8/site-packages/optuna/distributions.py:427: UserWarning: Choices for a categorical distribution should be a tuple of None, bool, int, float and str for persistent storage but contains [200, 600] which is of type list.\n",
      "  warnings.warn(message)\n",
      "/Users/guyattia/miniconda3/envs/RecSys/lib/python3.8/site-packages/optuna/distributions.py:427: UserWarning: Choices for a categorical distribution should be a tuple of None, bool, int, float and str for persistent storage but contains [250, 500] which is of type list.\n",
      "  warnings.warn(message)\n"
     ]
    },
    {
     "name": "stdout",
     "output_type": "stream",
     "text": [
      "Movie-lens file already exists\n",
      "Training Results - Epoch[1] Avg loss: 40311.97\n",
      "Validation Results - Epoch[1] Avg loss: 41154.94\n",
      "Validation Results - Epoch[1] MRR: 0.63\n",
      "Training Results - Epoch[2] Avg loss: 92207.63\n",
      "Validation Results - Epoch[2] Avg loss: 93612.25\n",
      "Validation Results - Epoch[2] MRR: 0.60\n",
      "Training Results - Epoch[3] Avg loss: 43219.53\n",
      "Validation Results - Epoch[3] Avg loss: 44095.81\n"
     ]
    },
    {
     "name": "stderr",
     "output_type": "stream",
     "text": [
      "\u001b[32m[I 2022-02-06 11:25:57,616]\u001b[0m Trial 0 finished with value: 41154.94009713977 and parameters: {'learning_rate': 0.01, 'activation_func': 'tanh', 'p_dims': [200, 600], 'optimizer': 'RMSprop', 'batch_size': 256}. Best is trial 0 with value: 41154.94009713977.\u001b[0m\n"
     ]
    },
    {
     "name": "stdout",
     "output_type": "stream",
     "text": [
      "Validation Results - Epoch[3] MRR: 0.66\n",
      "Movie-lens file already exists\n"
     ]
    },
    {
     "name": "stderr",
     "output_type": "stream",
     "text": [
      "/Users/guyattia/miniconda3/envs/RecSys/lib/python3.8/site-packages/optuna/distributions.py:427: UserWarning: Choices for a categorical distribution should be a tuple of None, bool, int, float and str for persistent storage but contains [200, 600] which is of type list.\n",
      "  warnings.warn(message)\n",
      "/Users/guyattia/miniconda3/envs/RecSys/lib/python3.8/site-packages/optuna/distributions.py:427: UserWarning: Choices for a categorical distribution should be a tuple of None, bool, int, float and str for persistent storage but contains [250, 500] which is of type list.\n",
      "  warnings.warn(message)\n"
     ]
    },
    {
     "name": "stdout",
     "output_type": "stream",
     "text": [
      "Training Results - Epoch[1] Avg loss: 7840.82\n",
      "Validation Results - Epoch[1] Avg loss: 8000.68\n",
      "Validation Results - Epoch[1] MRR: 0.67\n",
      "Training Results - Epoch[2] Avg loss: 7737.29\n",
      "Validation Results - Epoch[2] Avg loss: 7892.21\n",
      "Validation Results - Epoch[2] MRR: 0.66\n",
      "Training Results - Epoch[3] Avg loss: 7607.45\n",
      "Validation Results - Epoch[3] Avg loss: 7760.64\n"
     ]
    },
    {
     "name": "stderr",
     "output_type": "stream",
     "text": [
      "\u001b[32m[I 2022-02-06 11:26:47,511]\u001b[0m Trial 1 finished with value: 7760.643281165677 and parameters: {'learning_rate': 0.001, 'activation_func': 'selu', 'p_dims': [200, 600], 'optimizer': 'Adam', 'batch_size': 512}. Best is trial 1 with value: 7760.643281165677.\u001b[0m\n"
     ]
    },
    {
     "name": "stdout",
     "output_type": "stream",
     "text": [
      "Validation Results - Epoch[3] MRR: 0.70\n"
     ]
    }
   ],
   "source": [
    "n_trials = 2\n",
    "\n",
    "study_ml, df_tuning_results_ml = tune_params(\n",
    "    model_name='VAE', \n",
    "    dataset_name='movielens', \n",
    "    max_epochs=max_epochs_ml,\n",
    "    n_trials=n_trials, \n",
    "    device=device\n",
    "    )"
   ]
  },
  {
   "cell_type": "code",
   "execution_count": 5,
   "metadata": {},
   "outputs": [
    {
     "data": {
      "text/html": [
       "<div>\n",
       "<style scoped>\n",
       "    .dataframe tbody tr th:only-of-type {\n",
       "        vertical-align: middle;\n",
       "    }\n",
       "\n",
       "    .dataframe tbody tr th {\n",
       "        vertical-align: top;\n",
       "    }\n",
       "\n",
       "    .dataframe thead th {\n",
       "        text-align: right;\n",
       "    }\n",
       "</style>\n",
       "<table border=\"1\" class=\"dataframe\">\n",
       "  <thead>\n",
       "    <tr style=\"text-align: right;\">\n",
       "      <th></th>\n",
       "      <th>number</th>\n",
       "      <th>value</th>\n",
       "      <th>datetime_start</th>\n",
       "      <th>datetime_complete</th>\n",
       "      <th>duration</th>\n",
       "      <th>params_activation_func</th>\n",
       "      <th>params_batch_size</th>\n",
       "      <th>params_learning_rate</th>\n",
       "      <th>params_optimizer</th>\n",
       "      <th>params_p_dims</th>\n",
       "      <th>state</th>\n",
       "    </tr>\n",
       "  </thead>\n",
       "  <tbody>\n",
       "    <tr>\n",
       "      <th>1</th>\n",
       "      <td>1</td>\n",
       "      <td>7760.643281</td>\n",
       "      <td>2022-02-06 11:25:57.617658</td>\n",
       "      <td>2022-02-06 11:26:47.510826</td>\n",
       "      <td>0 days 00:00:49.893168</td>\n",
       "      <td>selu</td>\n",
       "      <td>512</td>\n",
       "      <td>0.001</td>\n",
       "      <td>Adam</td>\n",
       "      <td>[200, 600]</td>\n",
       "      <td>COMPLETE</td>\n",
       "    </tr>\n",
       "    <tr>\n",
       "      <th>0</th>\n",
       "      <td>0</td>\n",
       "      <td>41154.940097</td>\n",
       "      <td>2022-02-06 11:24:45.961672</td>\n",
       "      <td>2022-02-06 11:25:57.615825</td>\n",
       "      <td>0 days 00:01:11.654153</td>\n",
       "      <td>tanh</td>\n",
       "      <td>256</td>\n",
       "      <td>0.010</td>\n",
       "      <td>RMSprop</td>\n",
       "      <td>[200, 600]</td>\n",
       "      <td>COMPLETE</td>\n",
       "    </tr>\n",
       "  </tbody>\n",
       "</table>\n",
       "</div>"
      ],
      "text/plain": [
       "   number         value             datetime_start          datetime_complete  \\\n",
       "1       1   7760.643281 2022-02-06 11:25:57.617658 2022-02-06 11:26:47.510826   \n",
       "0       0  41154.940097 2022-02-06 11:24:45.961672 2022-02-06 11:25:57.615825   \n",
       "\n",
       "                duration params_activation_func  params_batch_size  \\\n",
       "1 0 days 00:00:49.893168                   selu                512   \n",
       "0 0 days 00:01:11.654153                   tanh                256   \n",
       "\n",
       "   params_learning_rate params_optimizer params_p_dims     state  \n",
       "1                 0.001             Adam    [200, 600]  COMPLETE  \n",
       "0                 0.010          RMSprop    [200, 600]  COMPLETE  "
      ]
     },
     "metadata": {},
     "output_type": "display_data"
    }
   ],
   "source": [
    "display(df_tuning_results_ml.sort_values(by='value').head(15))\n",
    "best_params_ml = study_ml.best_params"
   ]
  },
  {
   "cell_type": "markdown",
   "metadata": {},
   "source": [
    "## Full Training\n",
    "- Use the best hyperparameters to build the final model\n",
    "- Train the final model on the train+validation data sets (full_train)\n",
    "- Test it against the test set for final results"
   ]
  },
  {
   "cell_type": "code",
   "execution_count": 7,
   "metadata": {},
   "outputs": [
    {
     "name": "stdout",
     "output_type": "stream",
     "text": [
      "Movie-lens file already exists\n",
      "Training Results - Epoch[1] Avg loss: 8037.25\n",
      "Validation Results - Epoch[1] Avg loss: 8206.52\n",
      "Validation Results - Epoch[1] MRR: 0.66\n",
      "Training Results - Epoch[2] Avg loss: 7921.91\n",
      "Validation Results - Epoch[2] Avg loss: 8081.56\n",
      "Validation Results - Epoch[2] MRR: 0.64\n",
      "Training Results - Epoch[3] Avg loss: 7779.43\n",
      "Validation Results - Epoch[3] Avg loss: 7940.12\n",
      "Validation Results - Epoch[3] MRR: 0.69\n",
      "Final test loss = 7940.115488397194\n",
      "Final test MRR = 0.6945059893722406\n"
     ]
    }
   ],
   "source": [
    "test_loss_ml, final_model_ml, test_mrr_ml = final_train(\n",
    "    model_name='VAE', \n",
    "    dataset_name='movielens', \n",
    "    max_epochs=max_epochs_ml,\n",
    "    best_params=best_params_ml, \n",
    "    device=device\n",
    "    )\n",
    "print(f'Final test loss = {test_loss_ml}\\nFinal test MRR = {test_mrr_ml}')"
   ]
  },
  {
   "cell_type": "code",
   "execution_count": null,
   "metadata": {},
   "outputs": [],
   "source": []
  },
  {
   "cell_type": "code",
   "execution_count": null,
   "metadata": {},
   "outputs": [],
   "source": []
  },
  {
   "cell_type": "code",
   "execution_count": null,
   "metadata": {},
   "outputs": [],
   "source": []
  },
  {
   "cell_type": "markdown",
   "metadata": {},
   "source": [
    "# Netflix"
   ]
  },
  {
   "cell_type": "code",
   "execution_count": null,
   "metadata": {},
   "outputs": [],
   "source": []
  },
  {
   "cell_type": "code",
   "execution_count": null,
   "metadata": {},
   "outputs": [],
   "source": []
  },
  {
   "cell_type": "code",
   "execution_count": null,
   "metadata": {},
   "outputs": [],
   "source": []
  },
  {
   "cell_type": "code",
   "execution_count": null,
   "metadata": {},
   "outputs": [],
   "source": []
  },
  {
   "cell_type": "code",
   "execution_count": null,
   "metadata": {},
   "outputs": [],
   "source": []
  },
  {
   "cell_type": "code",
   "execution_count": null,
   "metadata": {},
   "outputs": [],
   "source": [
    "%load_ext tensorboard\n",
    "%tensorboard --logdir=."
   ]
  },
  {
   "cell_type": "code",
   "execution_count": null,
   "metadata": {},
   "outputs": [],
   "source": []
  }
 ],
 "metadata": {
  "interpreter": {
   "hash": "8fa3c1106efc00f2c52b2a02cc212ceecaeaa00ccc3be33bf7c9b17ece6d5fb5"
  },
  "kernelspec": {
   "display_name": "Python 3.8.12 64-bit ('RecSys': conda)",
   "language": "python",
   "name": "python3"
  },
  "language_info": {
   "codemirror_mode": {
    "name": "ipython",
    "version": 3
   },
   "file_extension": ".py",
   "mimetype": "text/x-python",
   "name": "python",
   "nbconvert_exporter": "python",
   "pygments_lexer": "ipython3",
   "version": "3.8.12"
  },
  "orig_nbformat": 4
 },
 "nbformat": 4,
 "nbformat_minor": 2
}
