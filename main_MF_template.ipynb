{
 "cells": [
  {
   "cell_type": "markdown",
   "metadata": {},
   "source": [
    "# Colab Preperations"
   ]
  },
  {
   "cell_type": "code",
   "execution_count": null,
   "metadata": {},
   "outputs": [],
   "source": [
    "from google.colab import drive\n",
    "drive.mount('/content/gdrive')"
   ]
  },
  {
   "cell_type": "code",
   "execution_count": null,
   "metadata": {},
   "outputs": [],
   "source": [
    "%cd 'gdrive/My Drive/Colab Notebooks/MSC-RecSys-Project'\n",
    "!pip install optuna\n",
    "!pip install pytorch-ignite"
   ]
  },
  {
   "cell_type": "markdown",
   "metadata": {},
   "source": [
    "# Imports"
   ]
  },
  {
   "cell_type": "code",
   "execution_count": 5,
   "metadata": {},
   "outputs": [],
   "source": [
    "import torch\n",
    "import matplotlib.pyplot as plt\n",
    "\n",
    "%load_ext autoreload\n",
    "%autoreload 2\n",
    "\n",
    "from src.hyperparams_tuning import tune_params, final_train"
   ]
  },
  {
   "cell_type": "code",
   "execution_count": 6,
   "metadata": {},
   "outputs": [
    {
     "name": "stdout",
     "output_type": "stream",
     "text": [
      "Using device: cpu\n"
     ]
    }
   ],
   "source": [
    "plt.rcParams.update({'font.size': 12})\n",
    "device = torch.device('cuda' if torch.cuda.is_available() else 'cpu')\n",
    "print('Using device:', device)"
   ]
  },
  {
   "cell_type": "markdown",
   "metadata": {},
   "source": [
    "# MovieLens 1M"
   ]
  },
  {
   "cell_type": "code",
   "execution_count": 7,
   "metadata": {},
   "outputs": [],
   "source": [
    "max_epochs_ml = 1"
   ]
  },
  {
   "cell_type": "markdown",
   "metadata": {},
   "source": [
    "## HyperParameter Tuning"
   ]
  },
  {
   "cell_type": "code",
   "execution_count": 8,
   "metadata": {},
   "outputs": [
    {
     "name": "stderr",
     "output_type": "stream",
     "text": [
      "\u001b[32m[I 2022-02-08 21:27:24,307]\u001b[0m A new study created in memory with name: no-name-3fff90ad-4d8d-4068-b76d-2c99c083ef3e\u001b[0m\n"
     ]
    },
    {
     "name": "stdout",
     "output_type": "stream",
     "text": [
      "Movie-lens file already exists\n",
      "Movielens ratings shape: (1000209, 4)\n",
      "Number of users: 6040\n",
      "Number of items: 3706\n",
      "Training Results - Epoch[1] Avg loss: 4.77\n",
      "Validation Results - Epoch[1] Avg loss: 4.72\n"
     ]
    },
    {
     "name": "stderr",
     "output_type": "stream",
     "text": [
      "\u001b[32m[I 2022-02-08 21:28:07,862]\u001b[0m Trial 0 finished with value: 4.723997829209586 and parameters: {'learning_rate': 0.1, 'optimizer': 'SGD', 'latent_dim': 10, 'batch_size': 512}. Best is trial 0 with value: 4.723997829209586.\u001b[0m\n"
     ]
    },
    {
     "name": "stdout",
     "output_type": "stream",
     "text": [
      "Validation Results - Epoch[1] MRR: 0.75\n"
     ]
    }
   ],
   "source": [
    "n_trials = 1\n",
    "\n",
    "study_ml, df_tuning_results_ml = tune_params(\n",
    "    model_name='MF', \n",
    "    dataset_name='movielens', \n",
    "    max_epochs=max_epochs_ml,\n",
    "    n_trials=n_trials, \n",
    "    device=device\n",
    "    )"
   ]
  },
  {
   "cell_type": "code",
   "execution_count": 9,
   "metadata": {},
   "outputs": [
    {
     "data": {
      "text/html": [
       "<div>\n",
       "<style scoped>\n",
       "    .dataframe tbody tr th:only-of-type {\n",
       "        vertical-align: middle;\n",
       "    }\n",
       "\n",
       "    .dataframe tbody tr th {\n",
       "        vertical-align: top;\n",
       "    }\n",
       "\n",
       "    .dataframe thead th {\n",
       "        text-align: right;\n",
       "    }\n",
       "</style>\n",
       "<table border=\"1\" class=\"dataframe\">\n",
       "  <thead>\n",
       "    <tr style=\"text-align: right;\">\n",
       "      <th></th>\n",
       "      <th>number</th>\n",
       "      <th>value</th>\n",
       "      <th>datetime_start</th>\n",
       "      <th>datetime_complete</th>\n",
       "      <th>duration</th>\n",
       "      <th>params_batch_size</th>\n",
       "      <th>params_latent_dim</th>\n",
       "      <th>params_learning_rate</th>\n",
       "      <th>params_optimizer</th>\n",
       "      <th>state</th>\n",
       "    </tr>\n",
       "  </thead>\n",
       "  <tbody>\n",
       "    <tr>\n",
       "      <th>0</th>\n",
       "      <td>0</td>\n",
       "      <td>4.723998</td>\n",
       "      <td>2022-02-08 21:27:24.308328</td>\n",
       "      <td>2022-02-08 21:28:07.859709</td>\n",
       "      <td>0 days 00:00:43.551381</td>\n",
       "      <td>512</td>\n",
       "      <td>10</td>\n",
       "      <td>0.1</td>\n",
       "      <td>SGD</td>\n",
       "      <td>COMPLETE</td>\n",
       "    </tr>\n",
       "  </tbody>\n",
       "</table>\n",
       "</div>"
      ],
      "text/plain": [
       "   number     value             datetime_start          datetime_complete  \\\n",
       "0       0  4.723998 2022-02-08 21:27:24.308328 2022-02-08 21:28:07.859709   \n",
       "\n",
       "                duration  params_batch_size  params_latent_dim  \\\n",
       "0 0 days 00:00:43.551381                512                 10   \n",
       "\n",
       "   params_learning_rate params_optimizer     state  \n",
       "0                   0.1              SGD  COMPLETE  "
      ]
     },
     "execution_count": 9,
     "metadata": {},
     "output_type": "execute_result"
    }
   ],
   "source": [
    "best_params_ml = study_ml.best_params\n",
    "df_tuning_results_ml.sort_values(by='value').head(15)"
   ]
  },
  {
   "cell_type": "markdown",
   "metadata": {},
   "source": [
    "## Full Training\n",
    "- Use the best hyperparameters to build the final model\n",
    "- Train the final model on the train+validation data sets (full_train)\n",
    "- Test it against the test set for final results"
   ]
  },
  {
   "cell_type": "code",
   "execution_count": 10,
   "metadata": {},
   "outputs": [
    {
     "name": "stdout",
     "output_type": "stream",
     "text": [
      "Movie-lens file already exists\n",
      "Movielens ratings shape: (1000209, 4)\n",
      "Number of users: 6040\n",
      "Number of items: 3706\n",
      "Training Results - Epoch[1] Avg loss: 4.82\n",
      "Validation Results - Epoch[1] Avg loss: 4.73\n",
      "Validation Results - Epoch[1] MRR: 0.73\n",
      "Final test loss = 4.733164878555248\n",
      "Final test MRR = 0.7282241014799153\n"
     ]
    }
   ],
   "source": [
    "test_loss_ml, final_model_ml, test_mrr_ml = final_train(\n",
    "    model_name='MF', \n",
    "    dataset_name='movielens', \n",
    "    best_params=best_params_ml,\n",
    "    max_epochs=max_epochs_ml, \n",
    "    device=device\n",
    "    )\n",
    "print(f'Final test loss = {test_loss_ml}\\nFinal test MRR = {test_mrr_ml}')"
   ]
  },
  {
   "cell_type": "markdown",
   "metadata": {},
   "source": [
    "## Results Analysis"
   ]
  },
  {
   "cell_type": "code",
   "execution_count": null,
   "metadata": {},
   "outputs": [],
   "source": []
  },
  {
   "cell_type": "code",
   "execution_count": null,
   "metadata": {},
   "outputs": [],
   "source": []
  },
  {
   "cell_type": "code",
   "execution_count": null,
   "metadata": {},
   "outputs": [],
   "source": []
  },
  {
   "cell_type": "markdown",
   "metadata": {},
   "source": [
    "# Books"
   ]
  },
  {
   "cell_type": "code",
   "execution_count": 11,
   "metadata": {},
   "outputs": [],
   "source": [
    "max_epochs_bk = 1\n",
    "mrr_threshold_bk = 8"
   ]
  },
  {
   "cell_type": "markdown",
   "metadata": {},
   "source": [
    "## HyperParameter Tuning"
   ]
  },
  {
   "cell_type": "code",
   "execution_count": 12,
   "metadata": {},
   "outputs": [
    {
     "name": "stderr",
     "output_type": "stream",
     "text": [
      "\u001b[32m[I 2022-02-08 21:29:06,367]\u001b[0m A new study created in memory with name: no-name-27a688b7-73df-41e1-abca-dbb60df4840c\u001b[0m\n"
     ]
    },
    {
     "name": "stdout",
     "output_type": "stream",
     "text": [
      "Books file already exists\n",
      "Books ratings shape: (433671, 3)\n",
      "Number of users: 77805\n",
      "Number of items: 185973\n",
      "Training Results - Epoch[1] Avg loss: 23.44\n",
      "Validation Results - Epoch[1] Avg loss: 23.81\n"
     ]
    },
    {
     "name": "stderr",
     "output_type": "stream",
     "text": [
      "\u001b[32m[I 2022-02-08 21:38:28,331]\u001b[0m Trial 0 finished with value: 23.80758975309719 and parameters: {'learning_rate': 0.1, 'optimizer': 'SGD', 'latent_dim': 500, 'batch_size': 512}. Best is trial 0 with value: 23.80758975309719.\u001b[0m\n"
     ]
    },
    {
     "name": "stdout",
     "output_type": "stream",
     "text": [
      "Validation Results - Epoch[1] MRR: 0.61\n"
     ]
    }
   ],
   "source": [
    "n_trials = 1\n",
    "\n",
    "study_bk, df_tuning_results_bk = tune_params(\n",
    "    model_name='MF', \n",
    "    dataset_name='books', \n",
    "    max_epochs=max_epochs_bk,\n",
    "    n_trials=n_trials, \n",
    "    device=device,\n",
    "    mrr_threshold=mrr_threshold_bk\n",
    "    )"
   ]
  },
  {
   "cell_type": "code",
   "execution_count": 13,
   "metadata": {},
   "outputs": [
    {
     "data": {
      "text/html": [
       "<div>\n",
       "<style scoped>\n",
       "    .dataframe tbody tr th:only-of-type {\n",
       "        vertical-align: middle;\n",
       "    }\n",
       "\n",
       "    .dataframe tbody tr th {\n",
       "        vertical-align: top;\n",
       "    }\n",
       "\n",
       "    .dataframe thead th {\n",
       "        text-align: right;\n",
       "    }\n",
       "</style>\n",
       "<table border=\"1\" class=\"dataframe\">\n",
       "  <thead>\n",
       "    <tr style=\"text-align: right;\">\n",
       "      <th></th>\n",
       "      <th>number</th>\n",
       "      <th>value</th>\n",
       "      <th>datetime_start</th>\n",
       "      <th>datetime_complete</th>\n",
       "      <th>duration</th>\n",
       "      <th>params_batch_size</th>\n",
       "      <th>params_latent_dim</th>\n",
       "      <th>params_learning_rate</th>\n",
       "      <th>params_optimizer</th>\n",
       "      <th>state</th>\n",
       "    </tr>\n",
       "  </thead>\n",
       "  <tbody>\n",
       "    <tr>\n",
       "      <th>0</th>\n",
       "      <td>0</td>\n",
       "      <td>23.80759</td>\n",
       "      <td>2022-02-08 21:29:06.368181</td>\n",
       "      <td>2022-02-08 21:38:28.331136</td>\n",
       "      <td>0 days 00:09:21.962955</td>\n",
       "      <td>512</td>\n",
       "      <td>500</td>\n",
       "      <td>0.1</td>\n",
       "      <td>SGD</td>\n",
       "      <td>COMPLETE</td>\n",
       "    </tr>\n",
       "  </tbody>\n",
       "</table>\n",
       "</div>"
      ],
      "text/plain": [
       "   number     value             datetime_start          datetime_complete  \\\n",
       "0       0  23.80759 2022-02-08 21:29:06.368181 2022-02-08 21:38:28.331136   \n",
       "\n",
       "                duration  params_batch_size  params_latent_dim  \\\n",
       "0 0 days 00:09:21.962955                512                500   \n",
       "\n",
       "   params_learning_rate params_optimizer     state  \n",
       "0                   0.1              SGD  COMPLETE  "
      ]
     },
     "execution_count": 13,
     "metadata": {},
     "output_type": "execute_result"
    }
   ],
   "source": [
    "best_params_bk = study_bk.best_params\n",
    "df_tuning_results_bk.sort_values(by='value').head(15)"
   ]
  },
  {
   "cell_type": "markdown",
   "metadata": {},
   "source": [
    "## Full Training\n",
    "- Use the best hyperparameters to build the final model\n",
    "- Train the final model on the train+validation data sets (full_train)\n",
    "- Test it against the test set for final results"
   ]
  },
  {
   "cell_type": "code",
   "execution_count": null,
   "metadata": {},
   "outputs": [],
   "source": [
    "test_loss_bk, final_model_bk, test_mrr_bk = final_train(\n",
    "    model_name='MF', \n",
    "    dataset_name='books', \n",
    "    best_params=best_params_bk,\n",
    "    max_epochs=max_epochs_bk, \n",
    "    device=device,\n",
    "    mrr_threshold=mrr_threshold_bk\n",
    "    )\n",
    "print(f'Final test loss = {test_loss_bk}\\nFinal test MRR = {test_mrr_bk}')"
   ]
  },
  {
   "cell_type": "markdown",
   "metadata": {},
   "source": [
    "## Results Analysis"
   ]
  },
  {
   "cell_type": "code",
   "execution_count": null,
   "metadata": {},
   "outputs": [],
   "source": []
  },
  {
   "cell_type": "code",
   "execution_count": null,
   "metadata": {},
   "outputs": [],
   "source": [
    "%load_ext tensorboard\n",
    "%tensorboard --logdir=."
   ]
  }
 ],
 "metadata": {
  "interpreter": {
   "hash": "8fa3c1106efc00f2c52b2a02cc212ceecaeaa00ccc3be33bf7c9b17ece6d5fb5"
  },
  "kernelspec": {
   "display_name": "Python 3.8.12 64-bit ('RecSys': conda)",
   "language": "python",
   "name": "python3"
  },
  "language_info": {
   "codemirror_mode": {
    "name": "ipython",
    "version": 3
   },
   "file_extension": ".py",
   "mimetype": "text/x-python",
   "name": "python",
   "nbconvert_exporter": "python",
   "pygments_lexer": "ipython3",
   "version": "3.8.12"
  },
  "orig_nbformat": 4
 },
 "nbformat": 4,
 "nbformat_minor": 2
}
