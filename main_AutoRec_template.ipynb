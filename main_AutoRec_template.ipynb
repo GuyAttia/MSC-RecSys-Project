{
 "cells": [
  {
   "cell_type": "markdown",
   "metadata": {},
   "source": [
    "# Colab Preparations"
   ]
  },
  {
   "cell_type": "code",
   "execution_count": null,
   "metadata": {},
   "outputs": [],
   "source": [
    "from google.colab import drive\n",
    "drive.mount('/content/gdrive')"
   ]
  },
  {
   "cell_type": "code",
   "execution_count": null,
   "metadata": {},
   "outputs": [],
   "source": [
    "%cd 'gdrive/My Drive/Colab Notebooks/MSC-RecSys-Project'\n",
    "!pip install optuna\n",
    "!pip install pytorch-ignite"
   ]
  },
  {
   "cell_type": "markdown",
   "metadata": {},
   "source": [
    "# Imports"
   ]
  },
  {
   "cell_type": "code",
   "execution_count": null,
   "metadata": {},
   "outputs": [],
   "source": [
    "import torch\n",
    "import matplotlib.pyplot as plt\n",
    "\n",
    "%load_ext autoreload\n",
    "%autoreload 2\n",
    "\n",
    "from src.hyperparams_tuning import tune_params, final_train"
   ]
  },
  {
   "cell_type": "code",
   "execution_count": null,
   "metadata": {},
   "outputs": [],
   "source": [
    "plt.rcParams.update({'font.size': 12})\n",
    "device = torch.device('cuda' if torch.cuda.is_available() else 'cpu')\n",
    "print('Using device:', device)"
   ]
  },
  {
   "cell_type": "markdown",
   "metadata": {},
   "source": [
    "# MovieLens 1M"
   ]
  },
  {
   "cell_type": "code",
   "execution_count": null,
   "metadata": {},
   "outputs": [],
   "source": [
    "max_epochs_ml = 10"
   ]
  },
  {
   "cell_type": "markdown",
   "metadata": {},
   "source": [
    "## HyperParameter Tuning"
   ]
  },
  {
   "cell_type": "code",
   "execution_count": null,
   "metadata": {},
   "outputs": [],
   "source": [
    "n_trials = 2\n",
    "\n",
    "study_ml, df_tuning_results_ml = tune_params(\n",
    "    model_name='AutoRec', \n",
    "    dataset_name='movielens', \n",
    "    max_epochs=max_epochs_ml,\n",
    "    n_trials=n_trials,\n",
    "    device=device\n",
    "    )"
   ]
  },
  {
   "cell_type": "code",
   "execution_count": null,
   "metadata": {},
   "outputs": [],
   "source": [
    "display(df_tuning_results_ml.sort_values(by='value').head(15))\n",
    "best_params_ml = study_ml.best_params"
   ]
  },
  {
   "cell_type": "markdown",
   "metadata": {},
   "source": [
    "## Full Training\n",
    "- Use the best hyperparameters to build the final model\n",
    "- Train the final model on the train+validation data sets (full_train)\n",
    "- Test it against the test set for final results"
   ]
  },
  {
   "cell_type": "code",
   "execution_count": null,
   "metadata": {},
   "outputs": [],
   "source": [
    "test_loss_ml, final_model_ml, test_mrr_ml = final_train(\n",
    "    model_name='AutoRec', \n",
    "    dataset_name='movielens', \n",
    "    best_params=best_params_ml,\n",
    "    max_epochs=max_epochs_ml, \n",
    "    device=device\n",
    "    )\n",
    "print(f'Final test loss = {test_loss_ml}\\nFinal test MRR = {test_mrr_ml}')"
   ]
  },
  {
   "cell_type": "markdown",
   "metadata": {},
   "source": [
    "# Books"
   ]
  },
  {
   "cell_type": "code",
   "execution_count": null,
   "metadata": {},
   "outputs": [],
   "source": [
    "max_epochs_bk = 1\n",
    "mrr_threshold_bk = 8"
   ]
  },
  {
   "cell_type": "markdown",
   "metadata": {},
   "source": [
    "## HyperParameter Tuning"
   ]
  },
  {
   "cell_type": "code",
   "execution_count": null,
   "metadata": {},
   "outputs": [],
   "source": [
    "n_trials = 1\n",
    "\n",
    "study_bk, df_tuning_results_bk = tune_params(\n",
    "    model_name='AutoRec', \n",
    "    dataset_name='books', \n",
    "    max_epochs=max_epochs_bk,\n",
    "    n_trials=n_trials, \n",
    "    device=device,\n",
    "    mrr_threshold=mrr_threshold_bk\n",
    "    )"
   ]
  },
  {
   "cell_type": "code",
   "execution_count": null,
   "metadata": {},
   "outputs": [],
   "source": [
    "best_params_bk = study_bk.best_params\n",
    "df_tuning_results_bk.sort_values(by='value').head(15)"
   ]
  },
  {
   "cell_type": "markdown",
   "metadata": {},
   "source": [
    "## Full Training\n",
    "- Use the best hyperparameters to build the final model\n",
    "- Train the final model on the train+validation data sets (full_train)\n",
    "- Test it against the test set for final results"
   ]
  },
  {
   "cell_type": "code",
   "execution_count": null,
   "metadata": {},
   "outputs": [],
   "source": [
    "test_loss_bk, final_model_bk, test_mrr_bk = final_train(\n",
    "    model_name='AutoRec', \n",
    "    dataset_name='books', \n",
    "    best_params=best_params_bk,\n",
    "    max_epochs=max_epochs_bk, \n",
    "    device=device,\n",
    "    mrr_threshold=mrr_threshold_bk\n",
    "    )\n",
    "print(f'Final test loss = {test_loss_bk}\\nFinal test MRR = {test_mrr_bk}')"
   ]
  },
  {
   "cell_type": "code",
   "execution_count": null,
   "metadata": {},
   "outputs": [],
   "source": [
    "%load_ext tensorboard\n",
    "%tensorboard --logdir=."
   ]
  }
 ],
 "metadata": {
  "interpreter": {
   "hash": "8fa3c1106efc00f2c52b2a02cc212ceecaeaa00ccc3be33bf7c9b17ece6d5fb5"
  },
  "kernelspec": {
   "display_name": "Python 3.8.12 64-bit ('RecSys': conda)",
   "language": "python",
   "name": "python3"
  },
  "language_info": {
   "codemirror_mode": {
    "name": "ipython",
    "version": 3
   },
   "file_extension": ".py",
   "mimetype": "text/x-python",
   "name": "python",
   "nbconvert_exporter": "python",
   "pygments_lexer": "ipython3",
   "version": "3.8.12"
  },
  "orig_nbformat": 4
 },
 "nbformat": 4,
 "nbformat_minor": 2
}
