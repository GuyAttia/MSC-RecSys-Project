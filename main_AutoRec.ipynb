{
 "cells": [
  {
   "cell_type": "markdown",
   "metadata": {},
   "source": [
    "# Imports"
   ]
  },
  {
   "cell_type": "code",
   "execution_count": 1,
   "metadata": {},
   "outputs": [],
   "source": [
    "import torch\n",
    "import matplotlib.pyplot as plt\n",
    "\n",
    "%load_ext autoreload\n",
    "%autoreload 2"
   ]
  },
  {
   "cell_type": "code",
   "execution_count": 2,
   "metadata": {},
   "outputs": [
    {
     "name": "stdout",
     "output_type": "stream",
     "text": [
      "Using device: cpu\n"
     ]
    }
   ],
   "source": [
    "plt.rcParams.update({'font.size': 12})\n",
    "device = torch.device('cuda' if torch.cuda.is_available() else 'cpu')\n",
    "print('Using device:', device)"
   ]
  },
  {
   "cell_type": "code",
   "execution_count": 3,
   "metadata": {},
   "outputs": [],
   "source": [
    "from src.data import movielens_dataloaders\n",
    "from src.hyperparams_tuning import tune_params"
   ]
  },
  {
   "cell_type": "markdown",
   "metadata": {},
   "source": [
    "# Data Loaders"
   ]
  },
  {
   "cell_type": "markdown",
   "metadata": {},
   "source": [
    "## MovieLens 1M"
   ]
  },
  {
   "cell_type": "code",
   "execution_count": 47,
   "metadata": {},
   "outputs": [
    {
     "name": "stdout",
     "output_type": "stream",
     "text": [
      "Movie-lens file already exists\n"
     ]
    }
   ],
   "source": [
    "dl_ml_train, dl_ml_valid, dl_ml_test = movielens_dataloaders(by_user=True, batch_size=128)"
   ]
  },
  {
   "cell_type": "markdown",
   "metadata": {},
   "source": [
    "## Netflix"
   ]
  },
  {
   "cell_type": "code",
   "execution_count": null,
   "metadata": {},
   "outputs": [],
   "source": []
  },
  {
   "cell_type": "markdown",
   "metadata": {},
   "source": [
    "# HyperParameter Tuning"
   ]
  },
  {
   "cell_type": "markdown",
   "metadata": {},
   "source": [
    "## MovieLens 1M"
   ]
  },
  {
   "cell_type": "code",
   "execution_count": 61,
   "metadata": {},
   "outputs": [
    {
     "name": "stderr",
     "output_type": "stream",
     "text": [
      "\u001b[32m[I 2022-01-29 16:26:22,201]\u001b[0m A new study created in memory with name: no-name-15205f32-7008-4723-b03d-0ef572ee77a9\u001b[0m\n"
     ]
    },
    {
     "name": "stdout",
     "output_type": "stream",
     "text": [
      "Training Results - Epoch[1] Avg loss: 1.94\n",
      "Validation Results - Epoch[1] Avg loss: 1.94\n",
      "Training Results - Epoch[2] Avg loss: 1.89\n",
      "Validation Results - Epoch[2] Avg loss: 1.89\n",
      "Training Results - Epoch[3] Avg loss: 1.85\n",
      "Validation Results - Epoch[3] Avg loss: 1.85\n",
      "Training Results - Epoch[4] Avg loss: 1.94\n",
      "Validation Results - Epoch[4] Avg loss: 1.94\n",
      "Training Results - Epoch[5] Avg loss: 1.84\n",
      "Validation Results - Epoch[5] Avg loss: 1.84\n",
      "Training Results - Epoch[6] Avg loss: 1.84\n",
      "Validation Results - Epoch[6] Avg loss: 1.84\n",
      "Training Results - Epoch[7] Avg loss: 1.99\n",
      "Validation Results - Epoch[7] Avg loss: 1.99\n",
      "Training Results - Epoch[8] Avg loss: 1.83\n",
      "Validation Results - Epoch[8] Avg loss: 1.83\n",
      "Training Results - Epoch[9] Avg loss: 1.82\n",
      "Validation Results - Epoch[9] Avg loss: 1.82\n",
      "Training Results - Epoch[10] Avg loss: 1.84\n"
     ]
    },
    {
     "name": "stderr",
     "output_type": "stream",
     "text": [
      "\u001b[32m[I 2022-01-29 16:26:53,004]\u001b[0m Trial 0 finished with value: 1.8222405642073676 and parameters: {'learning_rate': 0.0016482332319990036, 'optimizer': 'RMSprop', 'latent_dim': 10}. Best is trial 0 with value: 1.8222405642073676.\u001b[0m\n"
     ]
    },
    {
     "name": "stdout",
     "output_type": "stream",
     "text": [
      "Validation Results - Epoch[10] Avg loss: 1.84\n",
      "Training Results - Epoch[1] Avg loss: 1.69\n",
      "Validation Results - Epoch[1] Avg loss: 1.69\n",
      "Training Results - Epoch[2] Avg loss: 1.66\n",
      "Validation Results - Epoch[2] Avg loss: 1.66\n",
      "Training Results - Epoch[3] Avg loss: 1.62\n",
      "Validation Results - Epoch[3] Avg loss: 1.62\n",
      "Training Results - Epoch[4] Avg loss: 1.60\n",
      "Validation Results - Epoch[4] Avg loss: 1.60\n",
      "Training Results - Epoch[5] Avg loss: 1.58\n",
      "Validation Results - Epoch[5] Avg loss: 1.58\n",
      "Training Results - Epoch[6] Avg loss: 1.55\n",
      "Validation Results - Epoch[6] Avg loss: 1.55\n",
      "Training Results - Epoch[7] Avg loss: 1.53\n",
      "Validation Results - Epoch[7] Avg loss: 1.53\n",
      "Training Results - Epoch[8] Avg loss: 1.51\n",
      "Validation Results - Epoch[8] Avg loss: 1.51\n",
      "Training Results - Epoch[9] Avg loss: 1.50\n",
      "Validation Results - Epoch[9] Avg loss: 1.51\n",
      "Training Results - Epoch[10] Avg loss: 1.49\n"
     ]
    },
    {
     "name": "stderr",
     "output_type": "stream",
     "text": [
      "\u001b[32m[I 2022-01-29 16:27:30,323]\u001b[0m Trial 1 finished with value: 1.4964019169081126 and parameters: {'learning_rate': 0.006043189175210306, 'optimizer': 'Adam', 'latent_dim': 18}. Best is trial 1 with value: 1.4964019169081126.\u001b[0m\n"
     ]
    },
    {
     "name": "stdout",
     "output_type": "stream",
     "text": [
      "Validation Results - Epoch[10] Avg loss: 1.50\n",
      "Training Results - Epoch[1] Avg loss: 2.86\n",
      "Validation Results - Epoch[1] Avg loss: 2.87\n",
      "Training Results - Epoch[2] Avg loss: 2.67\n",
      "Validation Results - Epoch[2] Avg loss: 2.67\n",
      "Training Results - Epoch[3] Avg loss: 2.58\n",
      "Validation Results - Epoch[3] Avg loss: 2.58\n",
      "Training Results - Epoch[4] Avg loss: 2.51\n",
      "Validation Results - Epoch[4] Avg loss: 2.51\n",
      "Training Results - Epoch[5] Avg loss: 2.46\n",
      "Validation Results - Epoch[5] Avg loss: 2.46\n",
      "Training Results - Epoch[6] Avg loss: 2.42\n",
      "Validation Results - Epoch[6] Avg loss: 2.42\n",
      "Training Results - Epoch[7] Avg loss: 2.39\n",
      "Validation Results - Epoch[7] Avg loss: 2.38\n",
      "Training Results - Epoch[8] Avg loss: 2.36\n",
      "Validation Results - Epoch[8] Avg loss: 2.36\n",
      "Training Results - Epoch[9] Avg loss: 2.33\n",
      "Validation Results - Epoch[9] Avg loss: 2.33\n",
      "Training Results - Epoch[10] Avg loss: 2.31\n"
     ]
    },
    {
     "name": "stderr",
     "output_type": "stream",
     "text": [
      "\u001b[32m[I 2022-01-29 16:28:04,684]\u001b[0m Trial 2 finished with value: 2.316961629501242 and parameters: {'learning_rate': 3.7066975753533115e-05, 'optimizer': 'RMSprop', 'latent_dim': 15}. Best is trial 1 with value: 1.4964019169081126.\u001b[0m\n"
     ]
    },
    {
     "name": "stdout",
     "output_type": "stream",
     "text": [
      "Validation Results - Epoch[10] Avg loss: 2.32\n",
      "Training Results - Epoch[1] Avg loss: 2.47\n",
      "Validation Results - Epoch[1] Avg loss: 2.47\n",
      "Training Results - Epoch[2] Avg loss: 2.33\n",
      "Validation Results - Epoch[2] Avg loss: 2.33\n",
      "Training Results - Epoch[3] Avg loss: 2.28\n",
      "Validation Results - Epoch[3] Avg loss: 2.28\n",
      "Training Results - Epoch[4] Avg loss: 2.25\n",
      "Validation Results - Epoch[4] Avg loss: 2.25\n",
      "Training Results - Epoch[5] Avg loss: 2.23\n",
      "Validation Results - Epoch[5] Avg loss: 2.22\n",
      "Training Results - Epoch[6] Avg loss: 2.19\n",
      "Validation Results - Epoch[6] Avg loss: 2.19\n",
      "Training Results - Epoch[7] Avg loss: 2.20\n",
      "Validation Results - Epoch[7] Avg loss: 2.20\n",
      "Training Results - Epoch[8] Avg loss: 2.17\n",
      "Validation Results - Epoch[8] Avg loss: 2.17\n",
      "Training Results - Epoch[9] Avg loss: 2.17\n",
      "Validation Results - Epoch[9] Avg loss: 2.17\n",
      "Training Results - Epoch[10] Avg loss: 2.16\n"
     ]
    },
    {
     "name": "stderr",
     "output_type": "stream",
     "text": [
      "\u001b[32m[I 2022-01-29 16:28:37,541]\u001b[0m Trial 3 finished with value: 2.1623494735616724 and parameters: {'learning_rate': 0.00010596754467832769, 'optimizer': 'RMSprop', 'latent_dim': 13}. Best is trial 1 with value: 1.4964019169081126.\u001b[0m\n"
     ]
    },
    {
     "name": "stdout",
     "output_type": "stream",
     "text": [
      "Validation Results - Epoch[10] Avg loss: 2.16\n",
      "Training Results - Epoch[1] Avg loss: 2.53\n",
      "Validation Results - Epoch[1] Avg loss: 2.52\n",
      "Training Results - Epoch[2] Avg loss: 2.48\n",
      "Validation Results - Epoch[2] Avg loss: 2.48\n",
      "Training Results - Epoch[3] Avg loss: 2.48\n",
      "Validation Results - Epoch[3] Avg loss: 2.48\n",
      "Training Results - Epoch[4] Avg loss: 2.48\n",
      "Validation Results - Epoch[4] Avg loss: 2.48\n",
      "Training Results - Epoch[5] Avg loss: 2.45\n",
      "Validation Results - Epoch[5] Avg loss: 2.45\n",
      "Training Results - Epoch[6] Avg loss: 2.43\n",
      "Validation Results - Epoch[6] Avg loss: 2.43\n",
      "Training Results - Epoch[7] Avg loss: 2.43\n",
      "Validation Results - Epoch[7] Avg loss: 2.43\n",
      "Training Results - Epoch[8] Avg loss: 2.41\n",
      "Validation Results - Epoch[8] Avg loss: 2.41\n",
      "Training Results - Epoch[9] Avg loss: 2.40\n",
      "Validation Results - Epoch[9] Avg loss: 2.40\n",
      "Training Results - Epoch[10] Avg loss: 2.38\n"
     ]
    },
    {
     "name": "stderr",
     "output_type": "stream",
     "text": [
      "\u001b[32m[I 2022-01-29 16:29:13,760]\u001b[0m Trial 4 finished with value: 2.3847856736341058 and parameters: {'learning_rate': 0.0011421341522198387, 'optimizer': 'RMSprop', 'latent_dim': 20}. Best is trial 1 with value: 1.4964019169081126.\u001b[0m\n"
     ]
    },
    {
     "name": "stdout",
     "output_type": "stream",
     "text": [
      "Validation Results - Epoch[10] Avg loss: 2.38\n",
      "Training Results - Epoch[1] Avg loss: 3.74\n",
      "Validation Results - Epoch[1] Avg loss: 3.73\n",
      "Training Results - Epoch[2] Avg loss: 3.74\n",
      "Validation Results - Epoch[2] Avg loss: 3.73\n",
      "Training Results - Epoch[3] Avg loss: 3.74\n",
      "Validation Results - Epoch[3] Avg loss: 3.74\n",
      "Training Results - Epoch[4] Avg loss: 3.74\n"
     ]
    },
    {
     "name": "stderr",
     "output_type": "stream",
     "text": [
      "2022-01-29 16:29:24,588 ignite.handlers.early_stopping.EarlyStopping INFO: EarlyStopping: Stop training\n",
      "\u001b[32m[I 2022-01-29 16:29:24,591]\u001b[0m Trial 5 finished with value: 3.7334036113410596 and parameters: {'learning_rate': 0.0005874647974541791, 'optimizer': 'SGD', 'latent_dim': 11}. Best is trial 1 with value: 1.4964019169081126.\u001b[0m\n"
     ]
    },
    {
     "name": "stdout",
     "output_type": "stream",
     "text": [
      "Validation Results - Epoch[4] Avg loss: 3.73\n",
      "Training Results - Epoch[1] Avg loss: 3.74\n",
      "Validation Results - Epoch[1] Avg loss: 3.74\n",
      "Training Results - Epoch[2] Avg loss: 3.74\n",
      "Validation Results - Epoch[2] Avg loss: 3.74\n",
      "Training Results - Epoch[3] Avg loss: 3.74\n",
      "Validation Results - Epoch[3] Avg loss: 3.73\n",
      "Training Results - Epoch[4] Avg loss: 3.74\n",
      "Validation Results - Epoch[4] Avg loss: 3.73\n",
      "Training Results - Epoch[5] Avg loss: 3.74\n",
      "Validation Results - Epoch[5] Avg loss: 3.73\n",
      "Training Results - Epoch[6] Avg loss: 3.74\n",
      "Validation Results - Epoch[6] Avg loss: 3.73\n",
      "Training Results - Epoch[7] Avg loss: 3.73\n",
      "Validation Results - Epoch[7] Avg loss: 3.73\n",
      "Training Results - Epoch[8] Avg loss: 3.73\n",
      "Validation Results - Epoch[8] Avg loss: 3.73\n",
      "Training Results - Epoch[9] Avg loss: 3.73\n",
      "Validation Results - Epoch[9] Avg loss: 3.73\n",
      "Training Results - Epoch[10] Avg loss: 3.73\n"
     ]
    },
    {
     "name": "stderr",
     "output_type": "stream",
     "text": [
      "\u001b[32m[I 2022-01-29 16:29:56,017]\u001b[0m Trial 6 finished with value: 3.7291151438327814 and parameters: {'learning_rate': 0.00783314781721403, 'optimizer': 'SGD', 'latent_dim': 17}. Best is trial 1 with value: 1.4964019169081126.\u001b[0m\n"
     ]
    },
    {
     "name": "stdout",
     "output_type": "stream",
     "text": [
      "Validation Results - Epoch[10] Avg loss: 3.73\n",
      "Training Results - Epoch[1] Avg loss: 3.11\n",
      "Validation Results - Epoch[1] Avg loss: 3.11\n",
      "Training Results - Epoch[2] Avg loss: 2.33\n",
      "Validation Results - Epoch[2] Avg loss: 2.33\n",
      "Training Results - Epoch[3] Avg loss: 2.11\n",
      "Validation Results - Epoch[3] Avg loss: 2.11\n",
      "Training Results - Epoch[4] Avg loss: 2.11\n",
      "Validation Results - Epoch[4] Avg loss: 2.11\n",
      "Training Results - Epoch[5] Avg loss: 2.11\n",
      "Validation Results - Epoch[5] Avg loss: 2.11\n",
      "Training Results - Epoch[6] Avg loss: 2.08\n",
      "Validation Results - Epoch[6] Avg loss: 2.08\n",
      "Training Results - Epoch[7] Avg loss: 2.04\n",
      "Validation Results - Epoch[7] Avg loss: 2.04\n",
      "Training Results - Epoch[8] Avg loss: 2.14\n",
      "Validation Results - Epoch[8] Avg loss: 2.14\n",
      "Training Results - Epoch[9] Avg loss: 2.09\n",
      "Validation Results - Epoch[9] Avg loss: 2.09\n",
      "Training Results - Epoch[10] Avg loss: 2.01\n"
     ]
    },
    {
     "name": "stderr",
     "output_type": "stream",
     "text": [
      "\u001b[32m[I 2022-01-29 16:30:30,030]\u001b[0m Trial 7 finished with value: 2.012065073985927 and parameters: {'learning_rate': 0.018818376671134493, 'optimizer': 'RMSprop', 'latent_dim': 17}. Best is trial 1 with value: 1.4964019169081126.\u001b[0m\n"
     ]
    },
    {
     "name": "stdout",
     "output_type": "stream",
     "text": [
      "Validation Results - Epoch[10] Avg loss: 2.01\n",
      "Training Results - Epoch[1] Avg loss: 1.77\n",
      "Validation Results - Epoch[1] Avg loss: 1.76\n",
      "Training Results - Epoch[2] Avg loss: 1.61\n",
      "Validation Results - Epoch[2] Avg loss: 1.60\n",
      "Training Results - Epoch[3] Avg loss: 1.60\n",
      "Validation Results - Epoch[3] Avg loss: 1.60\n",
      "Training Results - Epoch[4] Avg loss: 1.58\n",
      "Validation Results - Epoch[4] Avg loss: 1.58\n",
      "Training Results - Epoch[5] Avg loss: 1.57\n",
      "Validation Results - Epoch[5] Avg loss: 1.57\n",
      "Training Results - Epoch[6] Avg loss: 1.55\n",
      "Validation Results - Epoch[6] Avg loss: 1.55\n",
      "Training Results - Epoch[7] Avg loss: 1.54\n",
      "Validation Results - Epoch[7] Avg loss: 1.54\n",
      "Training Results - Epoch[8] Avg loss: 1.53\n",
      "Validation Results - Epoch[8] Avg loss: 1.53\n",
      "Training Results - Epoch[9] Avg loss: 1.53\n",
      "Validation Results - Epoch[9] Avg loss: 1.53\n",
      "Training Results - Epoch[10] Avg loss: 1.51\n"
     ]
    },
    {
     "name": "stderr",
     "output_type": "stream",
     "text": [
      "\u001b[32m[I 2022-01-29 16:31:12,344]\u001b[0m Trial 8 finished with value: 1.512807196812914 and parameters: {'learning_rate': 0.0036530158403243673, 'optimizer': 'Adam', 'latent_dim': 20}. Best is trial 1 with value: 1.4964019169081126.\u001b[0m\n"
     ]
    },
    {
     "name": "stdout",
     "output_type": "stream",
     "text": [
      "Validation Results - Epoch[10] Avg loss: 1.51\n",
      "Training Results - Epoch[1] Avg loss: 2.30\n",
      "Validation Results - Epoch[1] Avg loss: 2.30\n",
      "Training Results - Epoch[2] Avg loss: 2.21\n",
      "Validation Results - Epoch[2] Avg loss: 2.21\n",
      "Training Results - Epoch[3] Avg loss: 2.27\n",
      "Validation Results - Epoch[3] Avg loss: 2.27\n",
      "Training Results - Epoch[4] Avg loss: 2.14\n",
      "Validation Results - Epoch[4] Avg loss: 2.14\n",
      "Training Results - Epoch[5] Avg loss: 2.11\n",
      "Validation Results - Epoch[5] Avg loss: 2.11\n",
      "Training Results - Epoch[6] Avg loss: 2.14\n",
      "Validation Results - Epoch[6] Avg loss: 2.13\n",
      "Training Results - Epoch[7] Avg loss: 2.12\n",
      "Validation Results - Epoch[7] Avg loss: 2.11\n",
      "Training Results - Epoch[8] Avg loss: 2.12\n"
     ]
    },
    {
     "name": "stderr",
     "output_type": "stream",
     "text": [
      "2022-01-29 16:31:36,226 ignite.handlers.early_stopping.EarlyStopping INFO: EarlyStopping: Stop training\n",
      "\u001b[32m[I 2022-01-29 16:31:36,229]\u001b[0m Trial 9 finished with value: 2.1092147726096853 and parameters: {'learning_rate': 0.0003982478474363776, 'optimizer': 'RMSprop', 'latent_dim': 13}. Best is trial 1 with value: 1.4964019169081126.\u001b[0m\n"
     ]
    },
    {
     "name": "stdout",
     "output_type": "stream",
     "text": [
      "Validation Results - Epoch[8] Avg loss: 2.12\n",
      "Training Results - Epoch[1] Avg loss: 3.74\n",
      "Validation Results - Epoch[1] Avg loss: 3.73\n",
      "Training Results - Epoch[2] Avg loss: 3.73\n",
      "Validation Results - Epoch[2] Avg loss: 3.73\n",
      "Training Results - Epoch[3] Avg loss: 3.73\n",
      "Validation Results - Epoch[3] Avg loss: 3.73\n",
      "Training Results - Epoch[4] Avg loss: 3.73\n",
      "Validation Results - Epoch[4] Avg loss: 3.73\n",
      "Training Results - Epoch[5] Avg loss: 3.73\n",
      "Validation Results - Epoch[5] Avg loss: 3.73\n",
      "Training Results - Epoch[6] Avg loss: 3.72\n",
      "Validation Results - Epoch[6] Avg loss: 3.72\n",
      "Training Results - Epoch[7] Avg loss: 3.72\n",
      "Validation Results - Epoch[7] Avg loss: 3.72\n",
      "Training Results - Epoch[8] Avg loss: 3.71\n",
      "Validation Results - Epoch[8] Avg loss: 3.71\n",
      "Training Results - Epoch[9] Avg loss: 3.68\n",
      "Validation Results - Epoch[9] Avg loss: 3.68\n",
      "Training Results - Epoch[10] Avg loss: 3.57\n"
     ]
    },
    {
     "name": "stderr",
     "output_type": "stream",
     "text": [
      "\u001b[32m[I 2022-01-29 16:32:08,260]\u001b[0m Trial 10 finished with value: 3.570526567673841 and parameters: {'learning_rate': 0.014922004786767697, 'optimizer': 'SGD', 'latent_dim': 17}. Best is trial 1 with value: 1.4964019169081126.\u001b[0m\n"
     ]
    },
    {
     "name": "stdout",
     "output_type": "stream",
     "text": [
      "Validation Results - Epoch[10] Avg loss: 3.57\n",
      "Training Results - Epoch[1] Avg loss: 2.84\n",
      "Validation Results - Epoch[1] Avg loss: 2.82\n",
      "Training Results - Epoch[2] Avg loss: 1.98\n",
      "Validation Results - Epoch[2] Avg loss: 1.97\n",
      "Training Results - Epoch[3] Avg loss: 2.04\n",
      "Validation Results - Epoch[3] Avg loss: 2.03\n",
      "Training Results - Epoch[4] Avg loss: 1.97\n",
      "Validation Results - Epoch[4] Avg loss: 1.97\n",
      "Training Results - Epoch[5] Avg loss: 1.81\n",
      "Validation Results - Epoch[5] Avg loss: 1.81\n",
      "Training Results - Epoch[6] Avg loss: 1.79\n",
      "Validation Results - Epoch[6] Avg loss: 1.79\n",
      "Training Results - Epoch[7] Avg loss: 1.79\n",
      "Validation Results - Epoch[7] Avg loss: 1.79\n",
      "Training Results - Epoch[8] Avg loss: 1.83\n",
      "Validation Results - Epoch[8] Avg loss: 1.83\n",
      "Training Results - Epoch[9] Avg loss: 1.79\n"
     ]
    },
    {
     "name": "stderr",
     "output_type": "stream",
     "text": [
      "2022-01-29 16:32:41,302 ignite.handlers.early_stopping.EarlyStopping INFO: EarlyStopping: Stop training\n",
      "\u001b[32m[I 2022-01-29 16:32:41,304]\u001b[0m Trial 11 finished with value: 1.7928686685120032 and parameters: {'learning_rate': 0.0011708178217637595, 'optimizer': 'RMSprop', 'latent_dim': 11}. Best is trial 1 with value: 1.4964019169081126.\u001b[0m\n"
     ]
    },
    {
     "name": "stdout",
     "output_type": "stream",
     "text": [
      "Validation Results - Epoch[9] Avg loss: 1.80\n",
      "Training Results - Epoch[1] Avg loss: 2.68\n",
      "Validation Results - Epoch[1] Avg loss: 2.68\n",
      "Training Results - Epoch[2] Avg loss: 2.64\n",
      "Validation Results - Epoch[2] Avg loss: 2.64\n",
      "Training Results - Epoch[3] Avg loss: 2.56\n",
      "Validation Results - Epoch[3] Avg loss: 2.56\n",
      "Training Results - Epoch[4] Avg loss: 2.52\n",
      "Validation Results - Epoch[4] Avg loss: 2.52\n",
      "Training Results - Epoch[5] Avg loss: 2.47\n",
      "Validation Results - Epoch[5] Avg loss: 2.47\n",
      "Training Results - Epoch[6] Avg loss: 2.46\n",
      "Validation Results - Epoch[6] Avg loss: 2.46\n",
      "Training Results - Epoch[7] Avg loss: 2.45\n",
      "Validation Results - Epoch[7] Avg loss: 2.45\n",
      "Training Results - Epoch[8] Avg loss: 2.42\n",
      "Validation Results - Epoch[8] Avg loss: 2.42\n",
      "Training Results - Epoch[9] Avg loss: 2.42\n",
      "Validation Results - Epoch[9] Avg loss: 2.42\n",
      "Training Results - Epoch[10] Avg loss: 2.37\n"
     ]
    },
    {
     "name": "stderr",
     "output_type": "stream",
     "text": [
      "\u001b[32m[I 2022-01-29 16:33:16,171]\u001b[0m Trial 12 finished with value: 2.36541513607202 and parameters: {'learning_rate': 0.005192568606771828, 'optimizer': 'RMSprop', 'latent_dim': 16}. Best is trial 1 with value: 1.4964019169081126.\u001b[0m\n"
     ]
    },
    {
     "name": "stdout",
     "output_type": "stream",
     "text": [
      "Validation Results - Epoch[10] Avg loss: 2.37\n",
      "Training Results - Epoch[1] Avg loss: 2.58\n",
      "Validation Results - Epoch[1] Avg loss: 2.61\n",
      "Training Results - Epoch[2] Avg loss: 2.22\n",
      "Validation Results - Epoch[2] Avg loss: 2.22\n",
      "Training Results - Epoch[3] Avg loss: 2.19\n",
      "Validation Results - Epoch[3] Avg loss: 2.20\n",
      "Training Results - Epoch[4] Avg loss: 2.21\n",
      "Validation Results - Epoch[4] Avg loss: 2.21\n",
      "Training Results - Epoch[5] Avg loss: 2.16\n",
      "Validation Results - Epoch[5] Avg loss: 2.16\n",
      "Training Results - Epoch[6] Avg loss: 2.16\n",
      "Validation Results - Epoch[6] Avg loss: 2.16\n",
      "Training Results - Epoch[7] Avg loss: 2.18\n",
      "Validation Results - Epoch[7] Avg loss: 2.18\n",
      "Training Results - Epoch[8] Avg loss: 2.16\n"
     ]
    },
    {
     "name": "stderr",
     "output_type": "stream",
     "text": [
      "2022-01-29 16:33:39,718 ignite.handlers.early_stopping.EarlyStopping INFO: EarlyStopping: Stop training\n",
      "\u001b[32m[I 2022-01-29 16:33:39,720]\u001b[0m Trial 13 finished with value: 2.1598723354718543 and parameters: {'learning_rate': 0.0016282420083656344, 'optimizer': 'RMSprop', 'latent_dim': 11}. Best is trial 1 with value: 1.4964019169081126.\u001b[0m\n"
     ]
    },
    {
     "name": "stdout",
     "output_type": "stream",
     "text": [
      "Validation Results - Epoch[8] Avg loss: 2.16\n",
      "Training Results - Epoch[1] Avg loss: 3.74\n",
      "Validation Results - Epoch[1] Avg loss: 3.74\n",
      "Training Results - Epoch[2] Avg loss: 3.74\n",
      "Validation Results - Epoch[2] Avg loss: 3.74\n",
      "Training Results - Epoch[3] Avg loss: 3.74\n",
      "Validation Results - Epoch[3] Avg loss: 3.74\n",
      "Training Results - Epoch[4] Avg loss: 3.74\n"
     ]
    },
    {
     "name": "stderr",
     "output_type": "stream",
     "text": [
      "2022-01-29 16:33:48,616 ignite.handlers.early_stopping.EarlyStopping INFO: EarlyStopping: Stop training\n",
      "\u001b[32m[I 2022-01-29 16:33:48,619]\u001b[0m Trial 14 finished with value: 3.735121649937914 and parameters: {'learning_rate': 0.000982889088191636, 'optimizer': 'SGD', 'latent_dim': 16}. Best is trial 1 with value: 1.4964019169081126.\u001b[0m\n"
     ]
    },
    {
     "name": "stdout",
     "output_type": "stream",
     "text": [
      "Validation Results - Epoch[4] Avg loss: 3.74\n",
      "Training Results - Epoch[1] Avg loss: 3.28\n",
      "Validation Results - Epoch[1] Avg loss: 3.28\n",
      "Training Results - Epoch[2] Avg loss: 3.02\n",
      "Validation Results - Epoch[2] Avg loss: 3.02\n",
      "Training Results - Epoch[3] Avg loss: 2.92\n",
      "Validation Results - Epoch[3] Avg loss: 2.92\n",
      "Training Results - Epoch[4] Avg loss: 2.85\n",
      "Validation Results - Epoch[4] Avg loss: 2.85\n",
      "Training Results - Epoch[5] Avg loss: 2.80\n",
      "Validation Results - Epoch[5] Avg loss: 2.79\n",
      "Training Results - Epoch[6] Avg loss: 2.74\n",
      "Validation Results - Epoch[6] Avg loss: 2.74\n",
      "Training Results - Epoch[7] Avg loss: 2.70\n",
      "Validation Results - Epoch[7] Avg loss: 2.70\n",
      "Training Results - Epoch[8] Avg loss: 2.66\n",
      "Validation Results - Epoch[8] Avg loss: 2.66\n",
      "Training Results - Epoch[9] Avg loss: 2.62\n",
      "Validation Results - Epoch[9] Avg loss: 2.62\n",
      "Training Results - Epoch[10] Avg loss: 2.58\n"
     ]
    },
    {
     "name": "stderr",
     "output_type": "stream",
     "text": [
      "\u001b[32m[I 2022-01-29 16:34:21,705]\u001b[0m Trial 15 finished with value: 2.578836079780629 and parameters: {'learning_rate': 1.2366036761410268e-05, 'optimizer': 'RMSprop', 'latent_dim': 13}. Best is trial 1 with value: 1.4964019169081126.\u001b[0m\n"
     ]
    },
    {
     "name": "stdout",
     "output_type": "stream",
     "text": [
      "Validation Results - Epoch[10] Avg loss: 2.58\n",
      "Training Results - Epoch[1] Avg loss: 2.35\n",
      "Validation Results - Epoch[1] Avg loss: 2.34\n",
      "Training Results - Epoch[2] Avg loss: 2.20\n",
      "Validation Results - Epoch[2] Avg loss: 2.20\n",
      "Training Results - Epoch[3] Avg loss: 2.15\n",
      "Validation Results - Epoch[3] Avg loss: 2.16\n",
      "Training Results - Epoch[4] Avg loss: 2.13\n",
      "Validation Results - Epoch[4] Avg loss: 2.12\n",
      "Training Results - Epoch[5] Avg loss: 2.11\n",
      "Validation Results - Epoch[5] Avg loss: 2.11\n",
      "Training Results - Epoch[6] Avg loss: 2.16\n",
      "Validation Results - Epoch[6] Avg loss: 2.16\n",
      "Training Results - Epoch[7] Avg loss: 2.10\n",
      "Validation Results - Epoch[7] Avg loss: 2.10\n",
      "Training Results - Epoch[8] Avg loss: 2.09\n",
      "Validation Results - Epoch[8] Avg loss: 2.09\n",
      "Training Results - Epoch[9] Avg loss: 2.08\n",
      "Validation Results - Epoch[9] Avg loss: 2.08\n",
      "Training Results - Epoch[10] Avg loss: 2.09\n"
     ]
    },
    {
     "name": "stderr",
     "output_type": "stream",
     "text": [
      "\u001b[32m[I 2022-01-29 16:34:54,844]\u001b[0m Trial 16 finished with value: 2.0811491100993376 and parameters: {'learning_rate': 0.0002331654223370933, 'optimizer': 'RMSprop', 'latent_dim': 18}. Best is trial 1 with value: 1.4964019169081126.\u001b[0m\n"
     ]
    },
    {
     "name": "stdout",
     "output_type": "stream",
     "text": [
      "Validation Results - Epoch[10] Avg loss: 2.09\n",
      "Training Results - Epoch[1] Avg loss: 2.35\n",
      "Validation Results - Epoch[1] Avg loss: 2.35\n",
      "Training Results - Epoch[2] Avg loss: 2.28\n",
      "Validation Results - Epoch[2] Avg loss: 2.27\n",
      "Training Results - Epoch[3] Avg loss: 2.24\n",
      "Validation Results - Epoch[3] Avg loss: 2.24\n",
      "Training Results - Epoch[4] Avg loss: 2.24\n",
      "Validation Results - Epoch[4] Avg loss: 2.24\n",
      "Training Results - Epoch[5] Avg loss: 2.25\n",
      "Validation Results - Epoch[5] Avg loss: 2.25\n",
      "Training Results - Epoch[6] Avg loss: 2.24\n",
      "Validation Results - Epoch[6] Avg loss: 2.23\n",
      "Training Results - Epoch[7] Avg loss: 2.24\n",
      "Validation Results - Epoch[7] Avg loss: 2.24\n",
      "Training Results - Epoch[8] Avg loss: 2.25\n",
      "Validation Results - Epoch[8] Avg loss: 2.25\n",
      "Training Results - Epoch[9] Avg loss: 2.24\n"
     ]
    },
    {
     "name": "stderr",
     "output_type": "stream",
     "text": [
      "2022-01-29 16:35:20,462 ignite.handlers.early_stopping.EarlyStopping INFO: EarlyStopping: Stop training\n",
      "\u001b[32m[I 2022-01-29 16:35:20,465]\u001b[0m Trial 17 finished with value: 2.233633847268212 and parameters: {'learning_rate': 0.06288686303889181, 'optimizer': 'RMSprop', 'latent_dim': 12}. Best is trial 1 with value: 1.4964019169081126.\u001b[0m\n"
     ]
    },
    {
     "name": "stdout",
     "output_type": "stream",
     "text": [
      "Validation Results - Epoch[9] Avg loss: 2.24\n",
      "Training Results - Epoch[1] Avg loss: 1.75\n",
      "Validation Results - Epoch[1] Avg loss: 1.75\n",
      "Training Results - Epoch[2] Avg loss: 1.61\n",
      "Validation Results - Epoch[2] Avg loss: 1.61\n",
      "Training Results - Epoch[3] Avg loss: 1.59\n",
      "Validation Results - Epoch[3] Avg loss: 1.59\n",
      "Training Results - Epoch[4] Avg loss: 1.58\n",
      "Validation Results - Epoch[4] Avg loss: 1.58\n",
      "Training Results - Epoch[5] Avg loss: 1.58\n",
      "Validation Results - Epoch[5] Avg loss: 1.58\n",
      "Training Results - Epoch[6] Avg loss: 1.58\n",
      "Validation Results - Epoch[6] Avg loss: 1.58\n",
      "Training Results - Epoch[7] Avg loss: 1.58\n",
      "Validation Results - Epoch[7] Avg loss: 1.58\n",
      "Training Results - Epoch[8] Avg loss: 1.57\n",
      "Validation Results - Epoch[8] Avg loss: 1.57\n",
      "Training Results - Epoch[9] Avg loss: 1.57\n",
      "Validation Results - Epoch[9] Avg loss: 1.57\n",
      "Training Results - Epoch[10] Avg loss: 1.57\n"
     ]
    },
    {
     "name": "stderr",
     "output_type": "stream",
     "text": [
      "\u001b[32m[I 2022-01-29 16:35:57,416]\u001b[0m Trial 18 finished with value: 1.571039262986341 and parameters: {'learning_rate': 0.006587817990430675, 'optimizer': 'Adam', 'latent_dim': 15}. Best is trial 1 with value: 1.4964019169081126.\u001b[0m\n"
     ]
    },
    {
     "name": "stdout",
     "output_type": "stream",
     "text": [
      "Validation Results - Epoch[10] Avg loss: 1.57\n",
      "Training Results - Epoch[1] Avg loss: 3.38\n",
      "Validation Results - Epoch[1] Avg loss: 3.38\n",
      "Training Results - Epoch[2] Avg loss: 3.37\n",
      "Validation Results - Epoch[2] Avg loss: 3.37\n",
      "Training Results - Epoch[3] Avg loss: 3.37\n",
      "Validation Results - Epoch[3] Avg loss: 3.37\n",
      "Training Results - Epoch[4] Avg loss: 3.37\n",
      "Validation Results - Epoch[4] Avg loss: 3.37\n",
      "Training Results - Epoch[5] Avg loss: 3.37\n",
      "Validation Results - Epoch[5] Avg loss: 3.36\n",
      "Training Results - Epoch[6] Avg loss: 3.37\n",
      "Validation Results - Epoch[6] Avg loss: 3.36\n",
      "Training Results - Epoch[7] Avg loss: 3.36\n",
      "Validation Results - Epoch[7] Avg loss: 3.36\n",
      "Training Results - Epoch[8] Avg loss: 3.36\n",
      "Validation Results - Epoch[8] Avg loss: 3.36\n",
      "Training Results - Epoch[9] Avg loss: 3.36\n",
      "Validation Results - Epoch[9] Avg loss: 3.35\n",
      "Training Results - Epoch[10] Avg loss: 3.35\n"
     ]
    },
    {
     "name": "stderr",
     "output_type": "stream",
     "text": [
      "\u001b[32m[I 2022-01-29 16:36:34,592]\u001b[0m Trial 19 finished with value: 3.350628945053808 and parameters: {'learning_rate': 0.031104928614650036, 'optimizer': 'Adam', 'latent_dim': 11}. Best is trial 1 with value: 1.4964019169081126.\u001b[0m\n"
     ]
    },
    {
     "name": "stdout",
     "output_type": "stream",
     "text": [
      "Validation Results - Epoch[10] Avg loss: 3.35\n",
      "Training Results - Epoch[1] Avg loss: 3.74\n",
      "Validation Results - Epoch[1] Avg loss: 3.74\n",
      "Training Results - Epoch[2] Avg loss: 3.74\n",
      "Validation Results - Epoch[2] Avg loss: 3.74\n",
      "Training Results - Epoch[3] Avg loss: 3.74\n",
      "Validation Results - Epoch[3] Avg loss: 3.74\n",
      "Training Results - Epoch[4] Avg loss: 3.74\n"
     ]
    },
    {
     "name": "stderr",
     "output_type": "stream",
     "text": [
      "2022-01-29 16:36:44,547 ignite.handlers.early_stopping.EarlyStopping INFO: EarlyStopping: Stop training\n",
      "\u001b[32m[I 2022-01-29 16:36:44,550]\u001b[0m Trial 20 finished with value: 3.735020760037252 and parameters: {'learning_rate': 0.0004664826305078352, 'optimizer': 'SGD', 'latent_dim': 14}. Best is trial 1 with value: 1.4964019169081126.\u001b[0m\n"
     ]
    },
    {
     "name": "stdout",
     "output_type": "stream",
     "text": [
      "Validation Results - Epoch[4] Avg loss: 3.74\n",
      "Training Results - Epoch[1] Avg loss: 3.31\n",
      "Validation Results - Epoch[1] Avg loss: 3.31\n",
      "Training Results - Epoch[2] Avg loss: 3.31\n",
      "Validation Results - Epoch[2] Avg loss: 3.31\n",
      "Training Results - Epoch[3] Avg loss: 3.31\n",
      "Validation Results - Epoch[3] Avg loss: 3.30\n",
      "Training Results - Epoch[4] Avg loss: 3.30\n",
      "Validation Results - Epoch[4] Avg loss: 3.30\n",
      "Training Results - Epoch[5] Avg loss: 3.30\n",
      "Validation Results - Epoch[5] Avg loss: 3.30\n",
      "Training Results - Epoch[6] Avg loss: 3.30\n",
      "Validation Results - Epoch[6] Avg loss: 3.30\n",
      "Training Results - Epoch[7] Avg loss: 3.30\n",
      "Validation Results - Epoch[7] Avg loss: 3.30\n",
      "Training Results - Epoch[8] Avg loss: 3.30\n",
      "Validation Results - Epoch[8] Avg loss: 3.30\n",
      "Training Results - Epoch[9] Avg loss: 3.30\n",
      "Validation Results - Epoch[9] Avg loss: 3.30\n",
      "Training Results - Epoch[10] Avg loss: 3.30\n"
     ]
    },
    {
     "name": "stderr",
     "output_type": "stream",
     "text": [
      "2022-01-29 16:37:15,975 ignite.handlers.early_stopping.EarlyStopping INFO: EarlyStopping: Stop training\n",
      "\u001b[32m[I 2022-01-29 16:37:15,977]\u001b[0m Trial 21 finished with value: 3.2972966680463576 and parameters: {'learning_rate': 0.006862188206887285, 'optimizer': 'RMSprop', 'latent_dim': 17}. Best is trial 1 with value: 1.4964019169081126.\u001b[0m\n"
     ]
    },
    {
     "name": "stdout",
     "output_type": "stream",
     "text": [
      "Validation Results - Epoch[10] Avg loss: 3.30\n",
      "Training Results - Epoch[1] Avg loss: 2.59\n",
      "Validation Results - Epoch[1] Avg loss: 2.60\n",
      "Training Results - Epoch[2] Avg loss: 2.27\n",
      "Validation Results - Epoch[2] Avg loss: 2.26\n",
      "Training Results - Epoch[3] Avg loss: 2.15\n",
      "Validation Results - Epoch[3] Avg loss: 2.15\n",
      "Training Results - Epoch[4] Avg loss: 2.11\n",
      "Validation Results - Epoch[4] Avg loss: 2.11\n",
      "Training Results - Epoch[5] Avg loss: 2.09\n",
      "Validation Results - Epoch[5] Avg loss: 2.10\n",
      "Training Results - Epoch[6] Avg loss: 2.08\n",
      "Validation Results - Epoch[6] Avg loss: 2.08\n",
      "Training Results - Epoch[7] Avg loss: 2.08\n",
      "Validation Results - Epoch[7] Avg loss: 2.08\n",
      "Training Results - Epoch[8] Avg loss: 2.07\n",
      "Validation Results - Epoch[8] Avg loss: 2.08\n",
      "Training Results - Epoch[9] Avg loss: 2.07\n",
      "Validation Results - Epoch[9] Avg loss: 2.07\n",
      "Training Results - Epoch[10] Avg loss: 2.07\n"
     ]
    },
    {
     "name": "stderr",
     "output_type": "stream",
     "text": [
      "\u001b[32m[I 2022-01-29 16:37:54,847]\u001b[0m Trial 22 finished with value: 2.0725650610513244 and parameters: {'learning_rate': 0.00027261390163800406, 'optimizer': 'Adam', 'latent_dim': 15}. Best is trial 1 with value: 1.4964019169081126.\u001b[0m\n"
     ]
    },
    {
     "name": "stdout",
     "output_type": "stream",
     "text": [
      "Validation Results - Epoch[10] Avg loss: 2.07\n",
      "Training Results - Epoch[1] Avg loss: 2.76\n",
      "Validation Results - Epoch[1] Avg loss: 2.75\n",
      "Training Results - Epoch[2] Avg loss: 2.43\n",
      "Validation Results - Epoch[2] Avg loss: 2.43\n",
      "Training Results - Epoch[3] Avg loss: 2.32\n",
      "Validation Results - Epoch[3] Avg loss: 2.31\n",
      "Training Results - Epoch[4] Avg loss: 2.25\n",
      "Validation Results - Epoch[4] Avg loss: 2.25\n",
      "Training Results - Epoch[5] Avg loss: 2.22\n",
      "Validation Results - Epoch[5] Avg loss: 2.22\n",
      "Training Results - Epoch[6] Avg loss: 2.21\n",
      "Validation Results - Epoch[6] Avg loss: 2.21\n",
      "Training Results - Epoch[7] Avg loss: 2.19\n",
      "Validation Results - Epoch[7] Avg loss: 2.19\n",
      "Training Results - Epoch[8] Avg loss: 2.19\n",
      "Validation Results - Epoch[8] Avg loss: 2.19\n",
      "Training Results - Epoch[9] Avg loss: 2.19\n",
      "Validation Results - Epoch[9] Avg loss: 2.19\n",
      "Training Results - Epoch[10] Avg loss: 2.18\n"
     ]
    },
    {
     "name": "stderr",
     "output_type": "stream",
     "text": [
      "\u001b[32m[I 2022-01-29 16:38:34,052]\u001b[0m Trial 23 finished with value: 2.1809565462024008 and parameters: {'learning_rate': 0.00018706710000100543, 'optimizer': 'Adam', 'latent_dim': 15}. Best is trial 1 with value: 1.4964019169081126.\u001b[0m\n"
     ]
    },
    {
     "name": "stdout",
     "output_type": "stream",
     "text": [
      "Validation Results - Epoch[10] Avg loss: 2.18\n",
      "Training Results - Epoch[1] Avg loss: 2.44\n",
      "Validation Results - Epoch[1] Avg loss: 2.43\n",
      "Training Results - Epoch[2] Avg loss: 2.32\n",
      "Validation Results - Epoch[2] Avg loss: 2.33\n",
      "Training Results - Epoch[3] Avg loss: 2.24\n",
      "Validation Results - Epoch[3] Avg loss: 2.24\n",
      "Training Results - Epoch[4] Avg loss: 2.22\n",
      "Validation Results - Epoch[4] Avg loss: 2.21\n",
      "Training Results - Epoch[5] Avg loss: 2.20\n",
      "Validation Results - Epoch[5] Avg loss: 2.20\n",
      "Training Results - Epoch[6] Avg loss: 2.18\n",
      "Validation Results - Epoch[6] Avg loss: 2.18\n",
      "Training Results - Epoch[7] Avg loss: 2.16\n",
      "Validation Results - Epoch[7] Avg loss: 2.16\n",
      "Training Results - Epoch[8] Avg loss: 2.16\n",
      "Validation Results - Epoch[8] Avg loss: 2.16\n",
      "Training Results - Epoch[9] Avg loss: 2.15\n",
      "Validation Results - Epoch[9] Avg loss: 2.15\n",
      "Training Results - Epoch[10] Avg loss: 2.15\n"
     ]
    },
    {
     "name": "stderr",
     "output_type": "stream",
     "text": [
      "\u001b[32m[I 2022-01-29 16:39:07,248]\u001b[0m Trial 24 finished with value: 2.1475013581332782 and parameters: {'learning_rate': 0.00011900887806118397, 'optimizer': 'RMSprop', 'latent_dim': 16}. Best is trial 1 with value: 1.4964019169081126.\u001b[0m\n"
     ]
    },
    {
     "name": "stdout",
     "output_type": "stream",
     "text": [
      "Validation Results - Epoch[10] Avg loss: 2.15\n",
      "Training Results - Epoch[1] Avg loss: 2.12\n",
      "Validation Results - Epoch[1] Avg loss: 2.12\n",
      "Training Results - Epoch[2] Avg loss: 1.99\n",
      "Validation Results - Epoch[2] Avg loss: 1.99\n",
      "Training Results - Epoch[3] Avg loss: 1.96\n",
      "Validation Results - Epoch[3] Avg loss: 1.96\n",
      "Training Results - Epoch[4] Avg loss: 1.95\n",
      "Validation Results - Epoch[4] Avg loss: 1.95\n",
      "Training Results - Epoch[5] Avg loss: 1.95\n",
      "Validation Results - Epoch[5] Avg loss: 1.95\n",
      "Training Results - Epoch[6] Avg loss: 1.94\n",
      "Validation Results - Epoch[6] Avg loss: 1.94\n",
      "Training Results - Epoch[7] Avg loss: 1.94\n",
      "Validation Results - Epoch[7] Avg loss: 1.94\n",
      "Training Results - Epoch[8] Avg loss: 1.90\n",
      "Validation Results - Epoch[8] Avg loss: 1.90\n",
      "Training Results - Epoch[9] Avg loss: 1.87\n",
      "Validation Results - Epoch[9] Avg loss: 1.87\n",
      "Training Results - Epoch[10] Avg loss: 1.84\n"
     ]
    },
    {
     "name": "stderr",
     "output_type": "stream",
     "text": [
      "\u001b[32m[I 2022-01-29 16:39:46,481]\u001b[0m Trial 25 finished with value: 1.8409355921461092 and parameters: {'learning_rate': 0.0013016557895659951, 'optimizer': 'Adam', 'latent_dim': 16}. Best is trial 1 with value: 1.4964019169081126.\u001b[0m\n"
     ]
    },
    {
     "name": "stdout",
     "output_type": "stream",
     "text": [
      "Validation Results - Epoch[10] Avg loss: 1.84\n",
      "Training Results - Epoch[1] Avg loss: 3.27\n",
      "Validation Results - Epoch[1] Avg loss: 3.27\n",
      "Training Results - Epoch[2] Avg loss: 3.28\n",
      "Validation Results - Epoch[2] Avg loss: 3.27\n",
      "Training Results - Epoch[3] Avg loss: 3.27\n",
      "Validation Results - Epoch[3] Avg loss: 3.27\n",
      "Training Results - Epoch[4] Avg loss: 3.27\n",
      "Validation Results - Epoch[4] Avg loss: 3.27\n",
      "Training Results - Epoch[5] Avg loss: 3.26\n",
      "Validation Results - Epoch[5] Avg loss: 3.26\n",
      "Training Results - Epoch[6] Avg loss: 3.26\n",
      "Validation Results - Epoch[6] Avg loss: 3.26\n",
      "Training Results - Epoch[7] Avg loss: 3.26\n",
      "Validation Results - Epoch[7] Avg loss: 3.26\n",
      "Training Results - Epoch[8] Avg loss: 3.26\n",
      "Validation Results - Epoch[8] Avg loss: 3.26\n",
      "Training Results - Epoch[9] Avg loss: 3.26\n",
      "Validation Results - Epoch[9] Avg loss: 3.26\n",
      "Training Results - Epoch[10] Avg loss: 3.26\n"
     ]
    },
    {
     "name": "stderr",
     "output_type": "stream",
     "text": [
      "2022-01-29 16:40:20,865 ignite.handlers.early_stopping.EarlyStopping INFO: EarlyStopping: Stop training\n",
      "\u001b[32m[I 2022-01-29 16:40:20,869]\u001b[0m Trial 26 finished with value: 3.256249676634934 and parameters: {'learning_rate': 0.03298711606279818, 'optimizer': 'Adam', 'latent_dim': 19}. Best is trial 1 with value: 1.4964019169081126.\u001b[0m\n"
     ]
    },
    {
     "name": "stdout",
     "output_type": "stream",
     "text": [
      "Validation Results - Epoch[10] Avg loss: 3.26\n",
      "Training Results - Epoch[1] Avg loss: 2.39\n",
      "Validation Results - Epoch[1] Avg loss: 2.39\n",
      "Training Results - Epoch[2] Avg loss: 1.77\n",
      "Validation Results - Epoch[2] Avg loss: 1.77\n",
      "Training Results - Epoch[3] Avg loss: 1.65\n",
      "Validation Results - Epoch[3] Avg loss: 1.65\n",
      "Training Results - Epoch[4] Avg loss: 1.65\n",
      "Validation Results - Epoch[4] Avg loss: 1.65\n",
      "Training Results - Epoch[5] Avg loss: 1.65\n",
      "Validation Results - Epoch[5] Avg loss: 1.65\n",
      "Training Results - Epoch[6] Avg loss: 1.65\n",
      "Validation Results - Epoch[6] Avg loss: 1.65\n",
      "Training Results - Epoch[7] Avg loss: 1.65\n",
      "Validation Results - Epoch[7] Avg loss: 1.65\n",
      "Training Results - Epoch[8] Avg loss: 1.65\n"
     ]
    },
    {
     "name": "stderr",
     "output_type": "stream",
     "text": [
      "2022-01-29 16:40:48,583 ignite.handlers.early_stopping.EarlyStopping INFO: EarlyStopping: Stop training\n",
      "\u001b[32m[I 2022-01-29 16:40:48,585]\u001b[0m Trial 27 finished with value: 1.6460462153352649 and parameters: {'learning_rate': 0.01710672203480245, 'optimizer': 'Adam', 'latent_dim': 15}. Best is trial 1 with value: 1.4964019169081126.\u001b[0m\n"
     ]
    },
    {
     "name": "stdout",
     "output_type": "stream",
     "text": [
      "Validation Results - Epoch[8] Avg loss: 1.65\n",
      "Training Results - Epoch[1] Avg loss: 3.42\n",
      "Validation Results - Epoch[1] Avg loss: 3.42\n",
      "Training Results - Epoch[2] Avg loss: 3.42\n",
      "Validation Results - Epoch[2] Avg loss: 3.41\n",
      "Training Results - Epoch[3] Avg loss: 3.42\n",
      "Validation Results - Epoch[3] Avg loss: 3.42\n",
      "Training Results - Epoch[4] Avg loss: 3.42\n",
      "Validation Results - Epoch[4] Avg loss: 3.42\n",
      "Training Results - Epoch[5] Avg loss: 3.42\n",
      "Validation Results - Epoch[5] Avg loss: 3.41\n",
      "Training Results - Epoch[6] Avg loss: 3.42\n",
      "Validation Results - Epoch[6] Avg loss: 3.42\n",
      "Training Results - Epoch[7] Avg loss: 3.42\n",
      "Validation Results - Epoch[7] Avg loss: 3.42\n",
      "Training Results - Epoch[8] Avg loss: 3.41\n",
      "Validation Results - Epoch[8] Avg loss: 3.40\n",
      "Training Results - Epoch[9] Avg loss: 2.66\n",
      "Validation Results - Epoch[9] Avg loss: 2.66\n",
      "Training Results - Epoch[10] Avg loss: 2.65\n"
     ]
    },
    {
     "name": "stderr",
     "output_type": "stream",
     "text": [
      "\u001b[32m[I 2022-01-29 16:41:17,852]\u001b[0m Trial 28 finished with value: 2.6466787174048014 and parameters: {'learning_rate': 0.0051973135922168835, 'optimizer': 'RMSprop', 'latent_dim': 17}. Best is trial 1 with value: 1.4964019169081126.\u001b[0m\n"
     ]
    },
    {
     "name": "stdout",
     "output_type": "stream",
     "text": [
      "Validation Results - Epoch[10] Avg loss: 2.65\n",
      "Training Results - Epoch[1] Avg loss: 3.74\n",
      "Validation Results - Epoch[1] Avg loss: 3.74\n",
      "Training Results - Epoch[2] Avg loss: 3.74\n",
      "Validation Results - Epoch[2] Avg loss: 3.74\n",
      "Training Results - Epoch[3] Avg loss: 3.74\n",
      "Validation Results - Epoch[3] Avg loss: 3.74\n",
      "Training Results - Epoch[4] Avg loss: 3.74\n",
      "Validation Results - Epoch[4] Avg loss: 3.74\n",
      "Training Results - Epoch[5] Avg loss: 3.74\n",
      "Validation Results - Epoch[5] Avg loss: 3.74\n",
      "Training Results - Epoch[6] Avg loss: 3.74\n"
     ]
    },
    {
     "name": "stderr",
     "output_type": "stream",
     "text": [
      "2022-01-29 16:41:33,413 ignite.handlers.early_stopping.EarlyStopping INFO: EarlyStopping: Stop training\n",
      "\u001b[32m[I 2022-01-29 16:41:33,416]\u001b[0m Trial 29 finished with value: 3.735934589714404 and parameters: {'learning_rate': 0.00036208472351081537, 'optimizer': 'SGD', 'latent_dim': 16}. Best is trial 1 with value: 1.4964019169081126.\u001b[0m\n"
     ]
    },
    {
     "name": "stdout",
     "output_type": "stream",
     "text": [
      "Validation Results - Epoch[6] Avg loss: 3.74\n",
      "Training Results - Epoch[1] Avg loss: 2.43\n",
      "Validation Results - Epoch[1] Avg loss: 2.44\n",
      "Training Results - Epoch[2] Avg loss: 2.20\n",
      "Validation Results - Epoch[2] Avg loss: 2.20\n",
      "Training Results - Epoch[3] Avg loss: 2.13\n",
      "Validation Results - Epoch[3] Avg loss: 2.13\n",
      "Training Results - Epoch[4] Avg loss: 2.10\n",
      "Validation Results - Epoch[4] Avg loss: 2.10\n",
      "Training Results - Epoch[5] Avg loss: 2.09\n",
      "Validation Results - Epoch[5] Avg loss: 2.09\n",
      "Training Results - Epoch[6] Avg loss: 2.08\n",
      "Validation Results - Epoch[6] Avg loss: 2.08\n",
      "Training Results - Epoch[7] Avg loss: 2.07\n",
      "Validation Results - Epoch[7] Avg loss: 2.07\n",
      "Training Results - Epoch[8] Avg loss: 2.07\n",
      "Validation Results - Epoch[8] Avg loss: 2.07\n",
      "Training Results - Epoch[9] Avg loss: 2.06\n",
      "Validation Results - Epoch[9] Avg loss: 2.06\n",
      "Training Results - Epoch[10] Avg loss: 2.06\n"
     ]
    },
    {
     "name": "stderr",
     "output_type": "stream",
     "text": [
      "\u001b[32m[I 2022-01-29 16:42:12,131]\u001b[0m Trial 30 finished with value: 2.0588095961817054 and parameters: {'learning_rate': 0.0004041503398806011, 'optimizer': 'Adam', 'latent_dim': 15}. Best is trial 1 with value: 1.4964019169081126.\u001b[0m\n"
     ]
    },
    {
     "name": "stdout",
     "output_type": "stream",
     "text": [
      "Validation Results - Epoch[10] Avg loss: 2.06\n",
      "Training Results - Epoch[1] Avg loss: 2.60\n",
      "Validation Results - Epoch[1] Avg loss: 2.60\n",
      "Training Results - Epoch[2] Avg loss: 2.45\n",
      "Validation Results - Epoch[2] Avg loss: 2.45\n",
      "Training Results - Epoch[3] Avg loss: 2.40\n",
      "Validation Results - Epoch[3] Avg loss: 2.40\n",
      "Training Results - Epoch[4] Avg loss: 2.36\n",
      "Validation Results - Epoch[4] Avg loss: 2.35\n",
      "Training Results - Epoch[5] Avg loss: 2.29\n",
      "Validation Results - Epoch[5] Avg loss: 2.29\n",
      "Training Results - Epoch[6] Avg loss: 2.27\n",
      "Validation Results - Epoch[6] Avg loss: 2.27\n",
      "Training Results - Epoch[7] Avg loss: 2.27\n",
      "Validation Results - Epoch[7] Avg loss: 2.26\n",
      "Training Results - Epoch[8] Avg loss: 2.24\n",
      "Validation Results - Epoch[8] Avg loss: 2.24\n",
      "Training Results - Epoch[9] Avg loss: 2.24\n",
      "Validation Results - Epoch[9] Avg loss: 2.24\n",
      "Training Results - Epoch[10] Avg loss: 2.23\n"
     ]
    },
    {
     "name": "stderr",
     "output_type": "stream",
     "text": [
      "\u001b[32m[I 2022-01-29 16:42:47,267]\u001b[0m Trial 31 finished with value: 2.2317292270281457 and parameters: {'learning_rate': 7.908016456371335e-05, 'optimizer': 'RMSprop', 'latent_dim': 16}. Best is trial 1 with value: 1.4964019169081126.\u001b[0m\n"
     ]
    },
    {
     "name": "stdout",
     "output_type": "stream",
     "text": [
      "Validation Results - Epoch[10] Avg loss: 2.23\n",
      "Training Results - Epoch[1] Avg loss: 2.77\n",
      "Validation Results - Epoch[1] Avg loss: 2.76\n",
      "Training Results - Epoch[2] Avg loss: 2.60\n",
      "Validation Results - Epoch[2] Avg loss: 2.60\n",
      "Training Results - Epoch[3] Avg loss: 2.52\n",
      "Validation Results - Epoch[3] Avg loss: 2.52\n",
      "Training Results - Epoch[4] Avg loss: 2.46\n",
      "Validation Results - Epoch[4] Avg loss: 2.46\n",
      "Training Results - Epoch[5] Avg loss: 2.41\n",
      "Validation Results - Epoch[5] Avg loss: 2.41\n",
      "Training Results - Epoch[6] Avg loss: 2.38\n",
      "Validation Results - Epoch[6] Avg loss: 2.38\n",
      "Training Results - Epoch[7] Avg loss: 2.37\n",
      "Validation Results - Epoch[7] Avg loss: 2.37\n",
      "Training Results - Epoch[8] Avg loss: 2.33\n",
      "Validation Results - Epoch[8] Avg loss: 2.33\n",
      "Training Results - Epoch[9] Avg loss: 2.31\n",
      "Validation Results - Epoch[9] Avg loss: 2.31\n",
      "Training Results - Epoch[10] Avg loss: 2.30\n"
     ]
    },
    {
     "name": "stderr",
     "output_type": "stream",
     "text": [
      "\u001b[32m[I 2022-01-29 16:43:21,787]\u001b[0m Trial 32 finished with value: 2.298742271574917 and parameters: {'learning_rate': 4.502711595716732e-05, 'optimizer': 'RMSprop', 'latent_dim': 14}. Best is trial 1 with value: 1.4964019169081126.\u001b[0m\n"
     ]
    },
    {
     "name": "stdout",
     "output_type": "stream",
     "text": [
      "Validation Results - Epoch[10] Avg loss: 2.30\n",
      "Training Results - Epoch[1] Avg loss: 5.16\n",
      "Validation Results - Epoch[1] Avg loss: 5.39\n",
      "Training Results - Epoch[2] Avg loss: 2.59\n",
      "Validation Results - Epoch[2] Avg loss: 2.59\n",
      "Training Results - Epoch[3] Avg loss: 2.59\n",
      "Validation Results - Epoch[3] Avg loss: 2.59\n",
      "Training Results - Epoch[4] Avg loss: 2.58\n",
      "Validation Results - Epoch[4] Avg loss: 2.58\n",
      "Training Results - Epoch[5] Avg loss: 2.58\n",
      "Validation Results - Epoch[5] Avg loss: 2.58\n",
      "Training Results - Epoch[6] Avg loss: 2.59\n",
      "Validation Results - Epoch[6] Avg loss: 2.58\n",
      "Training Results - Epoch[7] Avg loss: 2.59\n",
      "Validation Results - Epoch[7] Avg loss: 2.59\n",
      "Training Results - Epoch[8] Avg loss: 2.59\n"
     ]
    },
    {
     "name": "stderr",
     "output_type": "stream",
     "text": [
      "2022-01-29 16:43:46,429 ignite.handlers.early_stopping.EarlyStopping INFO: EarlyStopping: Stop training\n",
      "\u001b[32m[I 2022-01-29 16:43:46,432]\u001b[0m Trial 33 finished with value: 2.584211700641556 and parameters: {'learning_rate': 0.08916676644330863, 'optimizer': 'RMSprop', 'latent_dim': 13}. Best is trial 1 with value: 1.4964019169081126.\u001b[0m\n"
     ]
    },
    {
     "name": "stdout",
     "output_type": "stream",
     "text": [
      "Validation Results - Epoch[8] Avg loss: 2.59\n",
      "Training Results - Epoch[1] Avg loss: 2.42\n",
      "Validation Results - Epoch[1] Avg loss: 2.42\n",
      "Training Results - Epoch[2] Avg loss: 2.29\n",
      "Validation Results - Epoch[2] Avg loss: 2.29\n",
      "Training Results - Epoch[3] Avg loss: 2.26\n",
      "Validation Results - Epoch[3] Avg loss: 2.26\n",
      "Training Results - Epoch[4] Avg loss: 2.18\n",
      "Validation Results - Epoch[4] Avg loss: 2.18\n",
      "Training Results - Epoch[5] Avg loss: 2.19\n",
      "Validation Results - Epoch[5] Avg loss: 2.19\n",
      "Training Results - Epoch[6] Avg loss: 2.18\n",
      "Validation Results - Epoch[6] Avg loss: 2.18\n",
      "Training Results - Epoch[7] Avg loss: 2.17\n",
      "Validation Results - Epoch[7] Avg loss: 2.17\n",
      "Training Results - Epoch[8] Avg loss: 2.17\n",
      "Validation Results - Epoch[8] Avg loss: 2.17\n",
      "Training Results - Epoch[9] Avg loss: 2.15\n",
      "Validation Results - Epoch[9] Avg loss: 2.15\n",
      "Training Results - Epoch[10] Avg loss: 2.13\n"
     ]
    },
    {
     "name": "stderr",
     "output_type": "stream",
     "text": [
      "\u001b[32m[I 2022-01-29 16:44:18,751]\u001b[0m Trial 34 finished with value: 2.131385166597682 and parameters: {'learning_rate': 0.00020245718499869054, 'optimizer': 'RMSprop', 'latent_dim': 17}. Best is trial 1 with value: 1.4964019169081126.\u001b[0m\n"
     ]
    },
    {
     "name": "stdout",
     "output_type": "stream",
     "text": [
      "Validation Results - Epoch[10] Avg loss: 2.13\n",
      "Training Results - Epoch[1] Avg loss: 2.52\n",
      "Validation Results - Epoch[1] Avg loss: 2.53\n",
      "Training Results - Epoch[2] Avg loss: 2.38\n",
      "Validation Results - Epoch[2] Avg loss: 2.38\n",
      "Training Results - Epoch[3] Avg loss: 2.33\n",
      "Validation Results - Epoch[3] Avg loss: 2.34\n",
      "Training Results - Epoch[4] Avg loss: 2.31\n",
      "Validation Results - Epoch[4] Avg loss: 2.30\n",
      "Training Results - Epoch[5] Avg loss: 2.29\n",
      "Validation Results - Epoch[5] Avg loss: 2.30\n",
      "Training Results - Epoch[6] Avg loss: 2.28\n",
      "Validation Results - Epoch[6] Avg loss: 2.28\n",
      "Training Results - Epoch[7] Avg loss: 2.30\n",
      "Validation Results - Epoch[7] Avg loss: 2.30\n",
      "Training Results - Epoch[8] Avg loss: 2.26\n",
      "Validation Results - Epoch[8] Avg loss: 2.26\n",
      "Training Results - Epoch[9] Avg loss: 2.25\n",
      "Validation Results - Epoch[9] Avg loss: 2.25\n",
      "Training Results - Epoch[10] Avg loss: 2.33\n"
     ]
    },
    {
     "name": "stderr",
     "output_type": "stream",
     "text": [
      "\u001b[32m[I 2022-01-29 16:44:52,470]\u001b[0m Trial 35 finished with value: 2.2516620964403975 and parameters: {'learning_rate': 0.000178031349467433, 'optimizer': 'RMSprop', 'latent_dim': 17}. Best is trial 1 with value: 1.4964019169081126.\u001b[0m\n"
     ]
    },
    {
     "name": "stdout",
     "output_type": "stream",
     "text": [
      "Validation Results - Epoch[10] Avg loss: 2.33\n",
      "Training Results - Epoch[1] Avg loss: 3.39\n",
      "Validation Results - Epoch[1] Avg loss: 3.39\n",
      "Training Results - Epoch[2] Avg loss: 2.91\n",
      "Validation Results - Epoch[2] Avg loss: 2.91\n",
      "Training Results - Epoch[3] Avg loss: 2.72\n",
      "Validation Results - Epoch[3] Avg loss: 2.73\n",
      "Training Results - Epoch[4] Avg loss: 2.58\n",
      "Validation Results - Epoch[4] Avg loss: 2.58\n",
      "Training Results - Epoch[5] Avg loss: 2.49\n",
      "Validation Results - Epoch[5] Avg loss: 2.49\n",
      "Training Results - Epoch[6] Avg loss: 2.42\n",
      "Validation Results - Epoch[6] Avg loss: 2.42\n",
      "Training Results - Epoch[7] Avg loss: 2.36\n",
      "Validation Results - Epoch[7] Avg loss: 2.37\n",
      "Training Results - Epoch[8] Avg loss: 2.32\n",
      "Validation Results - Epoch[8] Avg loss: 2.32\n",
      "Training Results - Epoch[9] Avg loss: 2.29\n",
      "Validation Results - Epoch[9] Avg loss: 2.29\n",
      "Training Results - Epoch[10] Avg loss: 2.26\n"
     ]
    },
    {
     "name": "stderr",
     "output_type": "stream",
     "text": [
      "\u001b[32m[I 2022-01-29 16:45:29,261]\u001b[0m Trial 36 finished with value: 2.2628699296357615 and parameters: {'learning_rate': 4.1553836375781654e-05, 'optimizer': 'Adam', 'latent_dim': 16}. Best is trial 1 with value: 1.4964019169081126.\u001b[0m\n"
     ]
    },
    {
     "name": "stdout",
     "output_type": "stream",
     "text": [
      "Validation Results - Epoch[10] Avg loss: 2.26\n",
      "Training Results - Epoch[1] Avg loss: 3.74\n",
      "Validation Results - Epoch[1] Avg loss: 3.73\n",
      "Training Results - Epoch[2] Avg loss: 3.74\n",
      "Validation Results - Epoch[2] Avg loss: 3.74\n",
      "Training Results - Epoch[3] Avg loss: 3.74\n",
      "Validation Results - Epoch[3] Avg loss: 3.74\n",
      "Training Results - Epoch[4] Avg loss: 3.74\n",
      "Validation Results - Epoch[4] Avg loss: 3.73\n",
      "Training Results - Epoch[5] Avg loss: 3.74\n",
      "Validation Results - Epoch[5] Avg loss: 3.73\n",
      "Training Results - Epoch[6] Avg loss: 3.73\n",
      "Validation Results - Epoch[6] Avg loss: 3.73\n",
      "Training Results - Epoch[7] Avg loss: 3.74\n"
     ]
    },
    {
     "name": "stderr",
     "output_type": "stream",
     "text": [
      "2022-01-29 16:45:46,993 ignite.handlers.early_stopping.EarlyStopping INFO: EarlyStopping: Stop training\n",
      "\u001b[32m[I 2022-01-29 16:45:46,995]\u001b[0m Trial 37 finished with value: 3.7333670710885762 and parameters: {'learning_rate': 0.0004188072168552941, 'optimizer': 'SGD', 'latent_dim': 15}. Best is trial 1 with value: 1.4964019169081126.\u001b[0m\n"
     ]
    },
    {
     "name": "stdout",
     "output_type": "stream",
     "text": [
      "Validation Results - Epoch[7] Avg loss: 3.73\n",
      "Training Results - Epoch[1] Avg loss: 3.02\n",
      "Validation Results - Epoch[1] Avg loss: 3.02\n",
      "Training Results - Epoch[2] Avg loss: 2.71\n",
      "Validation Results - Epoch[2] Avg loss: 2.71\n",
      "Training Results - Epoch[3] Avg loss: 2.56\n",
      "Validation Results - Epoch[3] Avg loss: 2.55\n",
      "Training Results - Epoch[4] Avg loss: 2.48\n",
      "Validation Results - Epoch[4] Avg loss: 2.48\n",
      "Training Results - Epoch[5] Avg loss: 2.42\n",
      "Validation Results - Epoch[5] Avg loss: 2.42\n",
      "Training Results - Epoch[6] Avg loss: 2.37\n",
      "Validation Results - Epoch[6] Avg loss: 2.37\n",
      "Training Results - Epoch[7] Avg loss: 2.34\n",
      "Validation Results - Epoch[7] Avg loss: 2.34\n",
      "Training Results - Epoch[8] Avg loss: 2.31\n",
      "Validation Results - Epoch[8] Avg loss: 2.31\n",
      "Training Results - Epoch[9] Avg loss: 2.30\n",
      "Validation Results - Epoch[9] Avg loss: 2.30\n",
      "Training Results - Epoch[10] Avg loss: 2.28\n"
     ]
    },
    {
     "name": "stderr",
     "output_type": "stream",
     "text": [
      "\u001b[32m[I 2022-01-29 16:46:25,512]\u001b[0m Trial 38 finished with value: 2.283277822330298 and parameters: {'learning_rate': 8.919767857806243e-05, 'optimizer': 'Adam', 'latent_dim': 16}. Best is trial 1 with value: 1.4964019169081126.\u001b[0m\n"
     ]
    },
    {
     "name": "stdout",
     "output_type": "stream",
     "text": [
      "Validation Results - Epoch[10] Avg loss: 2.28\n",
      "Training Results - Epoch[1] Avg loss: 3.00\n",
      "Validation Results - Epoch[1] Avg loss: 3.00\n",
      "Training Results - Epoch[2] Avg loss: 2.85\n",
      "Validation Results - Epoch[2] Avg loss: 2.85\n",
      "Training Results - Epoch[3] Avg loss: 2.75\n",
      "Validation Results - Epoch[3] Avg loss: 2.75\n",
      "Training Results - Epoch[4] Avg loss: 2.68\n",
      "Validation Results - Epoch[4] Avg loss: 2.68\n",
      "Training Results - Epoch[5] Avg loss: 2.61\n",
      "Validation Results - Epoch[5] Avg loss: 2.61\n",
      "Training Results - Epoch[6] Avg loss: 2.56\n",
      "Validation Results - Epoch[6] Avg loss: 2.56\n",
      "Training Results - Epoch[7] Avg loss: 2.52\n",
      "Validation Results - Epoch[7] Avg loss: 2.52\n",
      "Training Results - Epoch[8] Avg loss: 2.50\n",
      "Validation Results - Epoch[8] Avg loss: 2.49\n",
      "Training Results - Epoch[9] Avg loss: 2.46\n",
      "Validation Results - Epoch[9] Avg loss: 2.46\n",
      "Training Results - Epoch[10] Avg loss: 2.44\n"
     ]
    },
    {
     "name": "stderr",
     "output_type": "stream",
     "text": [
      "\u001b[32m[I 2022-01-29 16:47:00,323]\u001b[0m Trial 39 finished with value: 2.4380117252173013 and parameters: {'learning_rate': 2.3632510004878522e-05, 'optimizer': 'RMSprop', 'latent_dim': 15}. Best is trial 1 with value: 1.4964019169081126.\u001b[0m\n"
     ]
    },
    {
     "name": "stdout",
     "output_type": "stream",
     "text": [
      "Validation Results - Epoch[10] Avg loss: 2.44\n",
      "Training Results - Epoch[1] Avg loss: 3.34\n",
      "Validation Results - Epoch[1] Avg loss: 3.34\n",
      "Training Results - Epoch[2] Avg loss: 3.34\n",
      "Validation Results - Epoch[2] Avg loss: 3.34\n",
      "Training Results - Epoch[3] Avg loss: 3.34\n",
      "Validation Results - Epoch[3] Avg loss: 3.34\n",
      "Training Results - Epoch[4] Avg loss: 3.34\n",
      "Validation Results - Epoch[4] Avg loss: 3.34\n",
      "Training Results - Epoch[5] Avg loss: 3.34\n",
      "Validation Results - Epoch[5] Avg loss: 3.34\n",
      "Training Results - Epoch[6] Avg loss: 3.34\n",
      "Validation Results - Epoch[6] Avg loss: 3.34\n",
      "Training Results - Epoch[7] Avg loss: 3.34\n",
      "Validation Results - Epoch[7] Avg loss: 3.34\n",
      "Training Results - Epoch[8] Avg loss: 3.34\n",
      "Validation Results - Epoch[8] Avg loss: 3.34\n",
      "Training Results - Epoch[9] Avg loss: 3.34\n",
      "Validation Results - Epoch[9] Avg loss: 3.34\n",
      "Training Results - Epoch[10] Avg loss: 3.34\n"
     ]
    },
    {
     "name": "stderr",
     "output_type": "stream",
     "text": [
      "\u001b[32m[I 2022-01-29 16:47:41,377]\u001b[0m Trial 40 finished with value: 3.335347035389073 and parameters: {'learning_rate': 0.03475587805145959, 'optimizer': 'Adam', 'latent_dim': 16}. Best is trial 1 with value: 1.4964019169081126.\u001b[0m\n"
     ]
    },
    {
     "name": "stdout",
     "output_type": "stream",
     "text": [
      "Validation Results - Epoch[10] Avg loss: 3.34\n",
      "Training Results - Epoch[1] Avg loss: 2.30\n",
      "Validation Results - Epoch[1] Avg loss: 2.31\n",
      "Training Results - Epoch[2] Avg loss: 2.35\n",
      "Validation Results - Epoch[2] Avg loss: 2.36\n",
      "Training Results - Epoch[3] Avg loss: 2.15\n",
      "Validation Results - Epoch[3] Avg loss: 2.16\n",
      "Training Results - Epoch[4] Avg loss: 2.10\n",
      "Validation Results - Epoch[4] Avg loss: 2.10\n",
      "Training Results - Epoch[5] Avg loss: 2.09\n",
      "Validation Results - Epoch[5] Avg loss: 2.09\n",
      "Training Results - Epoch[6] Avg loss: 2.08\n",
      "Validation Results - Epoch[6] Avg loss: 2.08\n",
      "Training Results - Epoch[7] Avg loss: 2.07\n",
      "Validation Results - Epoch[7] Avg loss: 2.07\n",
      "Training Results - Epoch[8] Avg loss: 2.07\n",
      "Validation Results - Epoch[8] Avg loss: 2.07\n",
      "Training Results - Epoch[9] Avg loss: 2.06\n",
      "Validation Results - Epoch[9] Avg loss: 2.06\n",
      "Training Results - Epoch[10] Avg loss: 2.06\n"
     ]
    },
    {
     "name": "stderr",
     "output_type": "stream",
     "text": [
      "\u001b[32m[I 2022-01-29 16:48:15,806]\u001b[0m Trial 41 finished with value: 2.0584550263865893 and parameters: {'learning_rate': 0.00023908250796291115, 'optimizer': 'RMSprop', 'latent_dim': 11}. Best is trial 1 with value: 1.4964019169081126.\u001b[0m\n"
     ]
    },
    {
     "name": "stdout",
     "output_type": "stream",
     "text": [
      "Validation Results - Epoch[10] Avg loss: 2.06\n",
      "Training Results - Epoch[1] Avg loss: 3.71\n",
      "Validation Results - Epoch[1] Avg loss: 3.71\n",
      "Training Results - Epoch[2] Avg loss: 3.60\n",
      "Validation Results - Epoch[2] Avg loss: 3.60\n",
      "Training Results - Epoch[3] Avg loss: 3.34\n",
      "Validation Results - Epoch[3] Avg loss: 3.33\n",
      "Training Results - Epoch[4] Avg loss: 3.12\n",
      "Validation Results - Epoch[4] Avg loss: 3.11\n",
      "Training Results - Epoch[5] Avg loss: 3.03\n",
      "Validation Results - Epoch[5] Avg loss: 3.02\n",
      "Training Results - Epoch[6] Avg loss: 2.96\n",
      "Validation Results - Epoch[6] Avg loss: 2.96\n",
      "Training Results - Epoch[7] Avg loss: 2.91\n",
      "Validation Results - Epoch[7] Avg loss: 2.91\n",
      "Training Results - Epoch[8] Avg loss: 2.86\n",
      "Validation Results - Epoch[8] Avg loss: 2.86\n",
      "Training Results - Epoch[9] Avg loss: 2.82\n",
      "Validation Results - Epoch[9] Avg loss: 2.81\n",
      "Training Results - Epoch[10] Avg loss: 2.78\n"
     ]
    },
    {
     "name": "stderr",
     "output_type": "stream",
     "text": [
      "\u001b[32m[I 2022-01-29 16:48:54,491]\u001b[0m Trial 42 finished with value: 2.77428471647351 and parameters: {'learning_rate': 1.0663988706946848e-05, 'optimizer': 'Adam', 'latent_dim': 13}. Best is trial 1 with value: 1.4964019169081126.\u001b[0m\n"
     ]
    },
    {
     "name": "stdout",
     "output_type": "stream",
     "text": [
      "Validation Results - Epoch[10] Avg loss: 2.77\n",
      "Training Results - Epoch[1] Avg loss: 2.22\n",
      "Validation Results - Epoch[1] Avg loss: 2.22\n",
      "Training Results - Epoch[2] Avg loss: 2.01\n",
      "Validation Results - Epoch[2] Avg loss: 2.01\n",
      "Training Results - Epoch[3] Avg loss: 1.96\n",
      "Validation Results - Epoch[3] Avg loss: 1.96\n",
      "Training Results - Epoch[4] Avg loss: 1.95\n",
      "Validation Results - Epoch[4] Avg loss: 1.95\n",
      "Training Results - Epoch[5] Avg loss: 1.93\n",
      "Validation Results - Epoch[5] Avg loss: 1.92\n",
      "Training Results - Epoch[6] Avg loss: 1.92\n",
      "Validation Results - Epoch[6] Avg loss: 1.92\n",
      "Training Results - Epoch[7] Avg loss: 1.92\n",
      "Validation Results - Epoch[7] Avg loss: 1.92\n",
      "Training Results - Epoch[8] Avg loss: 1.91\n",
      "Validation Results - Epoch[8] Avg loss: 1.91\n",
      "Training Results - Epoch[9] Avg loss: 1.90\n",
      "Validation Results - Epoch[9] Avg loss: 1.90\n",
      "Training Results - Epoch[10] Avg loss: 1.85\n"
     ]
    },
    {
     "name": "stderr",
     "output_type": "stream",
     "text": [
      "\u001b[32m[I 2022-01-29 16:49:32,877]\u001b[0m Trial 43 finished with value: 1.8499844784768211 and parameters: {'learning_rate': 0.0007779295290593421, 'optimizer': 'Adam', 'latent_dim': 15}. Best is trial 1 with value: 1.4964019169081126.\u001b[0m\n"
     ]
    },
    {
     "name": "stdout",
     "output_type": "stream",
     "text": [
      "Validation Results - Epoch[10] Avg loss: 1.85\n",
      "Training Results - Epoch[1] Avg loss: 3.74\n",
      "Validation Results - Epoch[1] Avg loss: 3.73\n",
      "Training Results - Epoch[2] Avg loss: 3.74\n",
      "Validation Results - Epoch[2] Avg loss: 3.74\n",
      "Training Results - Epoch[3] Avg loss: 3.74\n",
      "Validation Results - Epoch[3] Avg loss: 3.74\n",
      "Training Results - Epoch[4] Avg loss: 3.74\n"
     ]
    },
    {
     "name": "stderr",
     "output_type": "stream",
     "text": [
      "2022-01-29 16:49:42,649 ignite.handlers.early_stopping.EarlyStopping INFO: EarlyStopping: Stop training\n",
      "\u001b[32m[I 2022-01-29 16:49:42,652]\u001b[0m Trial 44 finished with value: 3.7345350657077816 and parameters: {'learning_rate': 0.00029008829875588877, 'optimizer': 'SGD', 'latent_dim': 10}. Best is trial 1 with value: 1.4964019169081126.\u001b[0m\n"
     ]
    },
    {
     "name": "stdout",
     "output_type": "stream",
     "text": [
      "Validation Results - Epoch[4] Avg loss: 3.74\n",
      "Training Results - Epoch[1] Avg loss: 3.74\n",
      "Validation Results - Epoch[1] Avg loss: 3.73\n",
      "Training Results - Epoch[2] Avg loss: 3.73\n",
      "Validation Results - Epoch[2] Avg loss: 3.73\n",
      "Training Results - Epoch[3] Avg loss: 3.73\n",
      "Validation Results - Epoch[3] Avg loss: 3.73\n",
      "Training Results - Epoch[4] Avg loss: 3.73\n",
      "Validation Results - Epoch[4] Avg loss: 3.73\n",
      "Training Results - Epoch[5] Avg loss: 3.73\n",
      "Validation Results - Epoch[5] Avg loss: 3.73\n",
      "Training Results - Epoch[6] Avg loss: 3.73\n",
      "Validation Results - Epoch[6] Avg loss: 3.73\n",
      "Training Results - Epoch[7] Avg loss: 3.73\n",
      "Validation Results - Epoch[7] Avg loss: 3.72\n",
      "Training Results - Epoch[8] Avg loss: 3.72\n",
      "Validation Results - Epoch[8] Avg loss: 3.72\n",
      "Training Results - Epoch[9] Avg loss: 3.72\n",
      "Validation Results - Epoch[9] Avg loss: 3.72\n",
      "Training Results - Epoch[10] Avg loss: 3.72\n"
     ]
    },
    {
     "name": "stderr",
     "output_type": "stream",
     "text": [
      "\u001b[32m[I 2022-01-29 16:50:13,435]\u001b[0m Trial 45 finished with value: 3.717214986030629 and parameters: {'learning_rate': 0.0067833177407421, 'optimizer': 'SGD', 'latent_dim': 11}. Best is trial 1 with value: 1.4964019169081126.\u001b[0m\n"
     ]
    },
    {
     "name": "stdout",
     "output_type": "stream",
     "text": [
      "Validation Results - Epoch[10] Avg loss: 3.72\n",
      "Training Results - Epoch[1] Avg loss: 2.62\n",
      "Validation Results - Epoch[1] Avg loss: 2.62\n",
      "Training Results - Epoch[2] Avg loss: 2.31\n",
      "Validation Results - Epoch[2] Avg loss: 2.31\n",
      "Training Results - Epoch[3] Avg loss: 2.19\n",
      "Validation Results - Epoch[3] Avg loss: 2.19\n",
      "Training Results - Epoch[4] Avg loss: 2.14\n",
      "Validation Results - Epoch[4] Avg loss: 2.14\n",
      "Training Results - Epoch[5] Avg loss: 2.12\n",
      "Validation Results - Epoch[5] Avg loss: 2.12\n",
      "Training Results - Epoch[6] Avg loss: 2.11\n",
      "Validation Results - Epoch[6] Avg loss: 2.11\n",
      "Training Results - Epoch[7] Avg loss: 2.10\n",
      "Validation Results - Epoch[7] Avg loss: 2.10\n",
      "Training Results - Epoch[8] Avg loss: 2.09\n",
      "Validation Results - Epoch[8] Avg loss: 2.09\n",
      "Training Results - Epoch[9] Avg loss: 2.09\n",
      "Validation Results - Epoch[9] Avg loss: 2.09\n",
      "Training Results - Epoch[10] Avg loss: 2.09\n"
     ]
    },
    {
     "name": "stderr",
     "output_type": "stream",
     "text": [
      "\u001b[32m[I 2022-01-29 16:50:51,975]\u001b[0m Trial 46 finished with value: 2.085238546409354 and parameters: {'learning_rate': 0.00025396481782865703, 'optimizer': 'Adam', 'latent_dim': 17}. Best is trial 1 with value: 1.4964019169081126.\u001b[0m\n"
     ]
    },
    {
     "name": "stdout",
     "output_type": "stream",
     "text": [
      "Validation Results - Epoch[10] Avg loss: 2.09\n",
      "Training Results - Epoch[1] Avg loss: 1.84\n",
      "Validation Results - Epoch[1] Avg loss: 1.84\n",
      "Training Results - Epoch[2] Avg loss: 1.79\n",
      "Validation Results - Epoch[2] Avg loss: 1.79\n",
      "Training Results - Epoch[3] Avg loss: 1.78\n",
      "Validation Results - Epoch[3] Avg loss: 1.78\n",
      "Training Results - Epoch[4] Avg loss: 1.77\n",
      "Validation Results - Epoch[4] Avg loss: 1.77\n",
      "Training Results - Epoch[5] Avg loss: 1.74\n",
      "Validation Results - Epoch[5] Avg loss: 1.74\n",
      "Training Results - Epoch[6] Avg loss: 1.73\n",
      "Validation Results - Epoch[6] Avg loss: 1.73\n",
      "Training Results - Epoch[7] Avg loss: 1.73\n",
      "Validation Results - Epoch[7] Avg loss: 1.73\n",
      "Training Results - Epoch[8] Avg loss: 1.71\n",
      "Validation Results - Epoch[8] Avg loss: 1.71\n",
      "Training Results - Epoch[9] Avg loss: 1.68\n",
      "Validation Results - Epoch[9] Avg loss: 1.68\n",
      "Training Results - Epoch[10] Avg loss: 1.65\n"
     ]
    },
    {
     "name": "stderr",
     "output_type": "stream",
     "text": [
      "\u001b[32m[I 2022-01-29 16:51:31,333]\u001b[0m Trial 47 finished with value: 1.6549376228787251 and parameters: {'learning_rate': 0.0032626576562202556, 'optimizer': 'Adam', 'latent_dim': 10}. Best is trial 1 with value: 1.4964019169081126.\u001b[0m\n"
     ]
    },
    {
     "name": "stdout",
     "output_type": "stream",
     "text": [
      "Validation Results - Epoch[10] Avg loss: 1.65\n",
      "Training Results - Epoch[1] Avg loss: 3.74\n",
      "Validation Results - Epoch[1] Avg loss: 3.74\n",
      "Training Results - Epoch[2] Avg loss: 3.74\n",
      "Validation Results - Epoch[2] Avg loss: 3.74\n",
      "Training Results - Epoch[3] Avg loss: 3.74\n",
      "Validation Results - Epoch[3] Avg loss: 3.74\n",
      "Training Results - Epoch[4] Avg loss: 3.74\n",
      "Validation Results - Epoch[4] Avg loss: 3.74\n",
      "Training Results - Epoch[5] Avg loss: 3.74\n",
      "Validation Results - Epoch[5] Avg loss: 3.74\n",
      "Training Results - Epoch[6] Avg loss: 3.74\n"
     ]
    },
    {
     "name": "stderr",
     "output_type": "stream",
     "text": [
      "2022-01-29 16:51:48,671 ignite.handlers.early_stopping.EarlyStopping INFO: EarlyStopping: Stop training\n",
      "\u001b[32m[I 2022-01-29 16:51:48,674]\u001b[0m Trial 48 finished with value: 3.7356522920115895 and parameters: {'learning_rate': 0.00024718826828544634, 'optimizer': 'SGD', 'latent_dim': 19}. Best is trial 1 with value: 1.4964019169081126.\u001b[0m\n"
     ]
    },
    {
     "name": "stdout",
     "output_type": "stream",
     "text": [
      "Validation Results - Epoch[6] Avg loss: 3.74\n",
      "Training Results - Epoch[1] Avg loss: 3.74\n",
      "Validation Results - Epoch[1] Avg loss: 3.74\n",
      "Training Results - Epoch[2] Avg loss: 3.74\n",
      "Validation Results - Epoch[2] Avg loss: 3.74\n",
      "Training Results - Epoch[3] Avg loss: 3.74\n",
      "Validation Results - Epoch[3] Avg loss: 3.74\n",
      "Training Results - Epoch[4] Avg loss: 3.74\n",
      "Validation Results - Epoch[4] Avg loss: 3.74\n",
      "Training Results - Epoch[5] Avg loss: 3.74\n",
      "Validation Results - Epoch[5] Avg loss: 3.74\n",
      "Training Results - Epoch[6] Avg loss: 3.74\n",
      "Validation Results - Epoch[6] Avg loss: 3.74\n",
      "Training Results - Epoch[7] Avg loss: 3.74\n",
      "Validation Results - Epoch[7] Avg loss: 3.73\n",
      "Training Results - Epoch[8] Avg loss: 3.74\n",
      "Validation Results - Epoch[8] Avg loss: 3.73\n",
      "Training Results - Epoch[9] Avg loss: 3.74\n",
      "Validation Results - Epoch[9] Avg loss: 3.73\n",
      "Training Results - Epoch[10] Avg loss: 3.74\n"
     ]
    },
    {
     "name": "stderr",
     "output_type": "stream",
     "text": [
      "\u001b[32m[I 2022-01-29 16:52:16,898]\u001b[0m Trial 49 finished with value: 3.7329709488824503 and parameters: {'learning_rate': 0.004802600059839217, 'optimizer': 'SGD', 'latent_dim': 14}. Best is trial 1 with value: 1.4964019169081126.\u001b[0m\n"
     ]
    },
    {
     "name": "stdout",
     "output_type": "stream",
     "text": [
      "Validation Results - Epoch[10] Avg loss: 3.73\n"
     ]
    }
   ],
   "source": [
    "study_ml, df_tuning_results_ml = tune_params(model_name='AutoRec', dataset_name='movielens', n_trials=50, dl_train=dl_ml_train, dl_valid=dl_ml_valid, device=device)"
   ]
  },
  {
   "cell_type": "code",
   "execution_count": 65,
   "metadata": {},
   "outputs": [
    {
     "data": {
      "text/html": [
       "<div>\n",
       "<style scoped>\n",
       "    .dataframe tbody tr th:only-of-type {\n",
       "        vertical-align: middle;\n",
       "    }\n",
       "\n",
       "    .dataframe tbody tr th {\n",
       "        vertical-align: top;\n",
       "    }\n",
       "\n",
       "    .dataframe thead th {\n",
       "        text-align: right;\n",
       "    }\n",
       "</style>\n",
       "<table border=\"1\" class=\"dataframe\">\n",
       "  <thead>\n",
       "    <tr style=\"text-align: right;\">\n",
       "      <th></th>\n",
       "      <th>number</th>\n",
       "      <th>value</th>\n",
       "      <th>datetime_start</th>\n",
       "      <th>datetime_complete</th>\n",
       "      <th>duration</th>\n",
       "      <th>params_latent_dim</th>\n",
       "      <th>params_learning_rate</th>\n",
       "      <th>params_optimizer</th>\n",
       "      <th>state</th>\n",
       "    </tr>\n",
       "  </thead>\n",
       "  <tbody>\n",
       "    <tr>\n",
       "      <th>1</th>\n",
       "      <td>1</td>\n",
       "      <td>1.496402</td>\n",
       "      <td>2022-01-29 16:26:53.005409</td>\n",
       "      <td>2022-01-29 16:27:30.322458</td>\n",
       "      <td>0 days 00:00:37.317049</td>\n",
       "      <td>18</td>\n",
       "      <td>0.006043</td>\n",
       "      <td>Adam</td>\n",
       "      <td>COMPLETE</td>\n",
       "    </tr>\n",
       "    <tr>\n",
       "      <th>8</th>\n",
       "      <td>8</td>\n",
       "      <td>1.512807</td>\n",
       "      <td>2022-01-29 16:30:30.031206</td>\n",
       "      <td>2022-01-29 16:31:12.343878</td>\n",
       "      <td>0 days 00:00:42.312672</td>\n",
       "      <td>20</td>\n",
       "      <td>0.003653</td>\n",
       "      <td>Adam</td>\n",
       "      <td>COMPLETE</td>\n",
       "    </tr>\n",
       "    <tr>\n",
       "      <th>18</th>\n",
       "      <td>18</td>\n",
       "      <td>1.571039</td>\n",
       "      <td>2022-01-29 16:35:20.466896</td>\n",
       "      <td>2022-01-29 16:35:57.415581</td>\n",
       "      <td>0 days 00:00:36.948685</td>\n",
       "      <td>15</td>\n",
       "      <td>0.006588</td>\n",
       "      <td>Adam</td>\n",
       "      <td>COMPLETE</td>\n",
       "    </tr>\n",
       "    <tr>\n",
       "      <th>27</th>\n",
       "      <td>27</td>\n",
       "      <td>1.646046</td>\n",
       "      <td>2022-01-29 16:40:20.870875</td>\n",
       "      <td>2022-01-29 16:40:48.584929</td>\n",
       "      <td>0 days 00:00:27.714054</td>\n",
       "      <td>15</td>\n",
       "      <td>0.017107</td>\n",
       "      <td>Adam</td>\n",
       "      <td>COMPLETE</td>\n",
       "    </tr>\n",
       "    <tr>\n",
       "      <th>47</th>\n",
       "      <td>47</td>\n",
       "      <td>1.654938</td>\n",
       "      <td>2022-01-29 16:50:51.977254</td>\n",
       "      <td>2022-01-29 16:51:31.333383</td>\n",
       "      <td>0 days 00:00:39.356129</td>\n",
       "      <td>10</td>\n",
       "      <td>0.003263</td>\n",
       "      <td>Adam</td>\n",
       "      <td>COMPLETE</td>\n",
       "    </tr>\n",
       "    <tr>\n",
       "      <th>11</th>\n",
       "      <td>11</td>\n",
       "      <td>1.792869</td>\n",
       "      <td>2022-01-29 16:32:08.261919</td>\n",
       "      <td>2022-01-29 16:32:41.304383</td>\n",
       "      <td>0 days 00:00:33.042464</td>\n",
       "      <td>11</td>\n",
       "      <td>0.001171</td>\n",
       "      <td>RMSprop</td>\n",
       "      <td>COMPLETE</td>\n",
       "    </tr>\n",
       "    <tr>\n",
       "      <th>0</th>\n",
       "      <td>0</td>\n",
       "      <td>1.822241</td>\n",
       "      <td>2022-01-29 16:26:22.208109</td>\n",
       "      <td>2022-01-29 16:26:53.004093</td>\n",
       "      <td>0 days 00:00:30.795984</td>\n",
       "      <td>10</td>\n",
       "      <td>0.001648</td>\n",
       "      <td>RMSprop</td>\n",
       "      <td>COMPLETE</td>\n",
       "    </tr>\n",
       "    <tr>\n",
       "      <th>25</th>\n",
       "      <td>25</td>\n",
       "      <td>1.840936</td>\n",
       "      <td>2022-01-29 16:39:07.249089</td>\n",
       "      <td>2022-01-29 16:39:46.480846</td>\n",
       "      <td>0 days 00:00:39.231757</td>\n",
       "      <td>16</td>\n",
       "      <td>0.001302</td>\n",
       "      <td>Adam</td>\n",
       "      <td>COMPLETE</td>\n",
       "    </tr>\n",
       "    <tr>\n",
       "      <th>43</th>\n",
       "      <td>43</td>\n",
       "      <td>1.849984</td>\n",
       "      <td>2022-01-29 16:48:54.492763</td>\n",
       "      <td>2022-01-29 16:49:32.876853</td>\n",
       "      <td>0 days 00:00:38.384090</td>\n",
       "      <td>15</td>\n",
       "      <td>0.000778</td>\n",
       "      <td>Adam</td>\n",
       "      <td>COMPLETE</td>\n",
       "    </tr>\n",
       "    <tr>\n",
       "      <th>7</th>\n",
       "      <td>7</td>\n",
       "      <td>2.012065</td>\n",
       "      <td>2022-01-29 16:29:56.019977</td>\n",
       "      <td>2022-01-29 16:30:30.029812</td>\n",
       "      <td>0 days 00:00:34.009835</td>\n",
       "      <td>17</td>\n",
       "      <td>0.018818</td>\n",
       "      <td>RMSprop</td>\n",
       "      <td>COMPLETE</td>\n",
       "    </tr>\n",
       "    <tr>\n",
       "      <th>41</th>\n",
       "      <td>41</td>\n",
       "      <td>2.058455</td>\n",
       "      <td>2022-01-29 16:47:41.378836</td>\n",
       "      <td>2022-01-29 16:48:15.806085</td>\n",
       "      <td>0 days 00:00:34.427249</td>\n",
       "      <td>11</td>\n",
       "      <td>0.000239</td>\n",
       "      <td>RMSprop</td>\n",
       "      <td>COMPLETE</td>\n",
       "    </tr>\n",
       "    <tr>\n",
       "      <th>30</th>\n",
       "      <td>30</td>\n",
       "      <td>2.058810</td>\n",
       "      <td>2022-01-29 16:41:33.419421</td>\n",
       "      <td>2022-01-29 16:42:12.131467</td>\n",
       "      <td>0 days 00:00:38.712046</td>\n",
       "      <td>15</td>\n",
       "      <td>0.000404</td>\n",
       "      <td>Adam</td>\n",
       "      <td>COMPLETE</td>\n",
       "    </tr>\n",
       "    <tr>\n",
       "      <th>22</th>\n",
       "      <td>22</td>\n",
       "      <td>2.072565</td>\n",
       "      <td>2022-01-29 16:37:15.978142</td>\n",
       "      <td>2022-01-29 16:37:54.846976</td>\n",
       "      <td>0 days 00:00:38.868834</td>\n",
       "      <td>15</td>\n",
       "      <td>0.000273</td>\n",
       "      <td>Adam</td>\n",
       "      <td>COMPLETE</td>\n",
       "    </tr>\n",
       "    <tr>\n",
       "      <th>16</th>\n",
       "      <td>16</td>\n",
       "      <td>2.081149</td>\n",
       "      <td>2022-01-29 16:34:21.705902</td>\n",
       "      <td>2022-01-29 16:34:54.844305</td>\n",
       "      <td>0 days 00:00:33.138403</td>\n",
       "      <td>18</td>\n",
       "      <td>0.000233</td>\n",
       "      <td>RMSprop</td>\n",
       "      <td>COMPLETE</td>\n",
       "    </tr>\n",
       "    <tr>\n",
       "      <th>46</th>\n",
       "      <td>46</td>\n",
       "      <td>2.085239</td>\n",
       "      <td>2022-01-29 16:50:13.436284</td>\n",
       "      <td>2022-01-29 16:50:51.975021</td>\n",
       "      <td>0 days 00:00:38.538737</td>\n",
       "      <td>17</td>\n",
       "      <td>0.000254</td>\n",
       "      <td>Adam</td>\n",
       "      <td>COMPLETE</td>\n",
       "    </tr>\n",
       "  </tbody>\n",
       "</table>\n",
       "</div>"
      ],
      "text/plain": [
       "    number     value             datetime_start          datetime_complete  \\\n",
       "1        1  1.496402 2022-01-29 16:26:53.005409 2022-01-29 16:27:30.322458   \n",
       "8        8  1.512807 2022-01-29 16:30:30.031206 2022-01-29 16:31:12.343878   \n",
       "18      18  1.571039 2022-01-29 16:35:20.466896 2022-01-29 16:35:57.415581   \n",
       "27      27  1.646046 2022-01-29 16:40:20.870875 2022-01-29 16:40:48.584929   \n",
       "47      47  1.654938 2022-01-29 16:50:51.977254 2022-01-29 16:51:31.333383   \n",
       "11      11  1.792869 2022-01-29 16:32:08.261919 2022-01-29 16:32:41.304383   \n",
       "0        0  1.822241 2022-01-29 16:26:22.208109 2022-01-29 16:26:53.004093   \n",
       "25      25  1.840936 2022-01-29 16:39:07.249089 2022-01-29 16:39:46.480846   \n",
       "43      43  1.849984 2022-01-29 16:48:54.492763 2022-01-29 16:49:32.876853   \n",
       "7        7  2.012065 2022-01-29 16:29:56.019977 2022-01-29 16:30:30.029812   \n",
       "41      41  2.058455 2022-01-29 16:47:41.378836 2022-01-29 16:48:15.806085   \n",
       "30      30  2.058810 2022-01-29 16:41:33.419421 2022-01-29 16:42:12.131467   \n",
       "22      22  2.072565 2022-01-29 16:37:15.978142 2022-01-29 16:37:54.846976   \n",
       "16      16  2.081149 2022-01-29 16:34:21.705902 2022-01-29 16:34:54.844305   \n",
       "46      46  2.085239 2022-01-29 16:50:13.436284 2022-01-29 16:50:51.975021   \n",
       "\n",
       "                 duration  params_latent_dim  params_learning_rate  \\\n",
       "1  0 days 00:00:37.317049                 18              0.006043   \n",
       "8  0 days 00:00:42.312672                 20              0.003653   \n",
       "18 0 days 00:00:36.948685                 15              0.006588   \n",
       "27 0 days 00:00:27.714054                 15              0.017107   \n",
       "47 0 days 00:00:39.356129                 10              0.003263   \n",
       "11 0 days 00:00:33.042464                 11              0.001171   \n",
       "0  0 days 00:00:30.795984                 10              0.001648   \n",
       "25 0 days 00:00:39.231757                 16              0.001302   \n",
       "43 0 days 00:00:38.384090                 15              0.000778   \n",
       "7  0 days 00:00:34.009835                 17              0.018818   \n",
       "41 0 days 00:00:34.427249                 11              0.000239   \n",
       "30 0 days 00:00:38.712046                 15              0.000404   \n",
       "22 0 days 00:00:38.868834                 15              0.000273   \n",
       "16 0 days 00:00:33.138403                 18              0.000233   \n",
       "46 0 days 00:00:38.538737                 17              0.000254   \n",
       "\n",
       "   params_optimizer     state  \n",
       "1              Adam  COMPLETE  \n",
       "8              Adam  COMPLETE  \n",
       "18             Adam  COMPLETE  \n",
       "27             Adam  COMPLETE  \n",
       "47             Adam  COMPLETE  \n",
       "11          RMSprop  COMPLETE  \n",
       "0           RMSprop  COMPLETE  \n",
       "25             Adam  COMPLETE  \n",
       "43             Adam  COMPLETE  \n",
       "7           RMSprop  COMPLETE  \n",
       "41          RMSprop  COMPLETE  \n",
       "30             Adam  COMPLETE  \n",
       "22             Adam  COMPLETE  \n",
       "16          RMSprop  COMPLETE  \n",
       "46             Adam  COMPLETE  "
      ]
     },
     "metadata": {},
     "output_type": "display_data"
    },
    {
     "name": "stdout",
     "output_type": "stream",
     "text": [
      "Best trial was trial # 1\n"
     ]
    }
   ],
   "source": [
    "display(df_tuning_results_ml.sort_values(by='value').head(15))\n",
    "best_params_ml = study_ml.best_params"
   ]
  },
  {
   "cell_type": "code",
   "execution_count": 69,
   "metadata": {},
   "outputs": [
    {
     "data": {
      "text/plain": [
       "{'learning_rate': 0.006043189175210306, 'optimizer': 'Adam', 'latent_dim': 18}"
      ]
     },
     "execution_count": 69,
     "metadata": {},
     "output_type": "execute_result"
    }
   ],
   "source": []
  },
  {
   "cell_type": "markdown",
   "metadata": {},
   "source": [
    "## Netflix"
   ]
  },
  {
   "cell_type": "code",
   "execution_count": null,
   "metadata": {},
   "outputs": [],
   "source": []
  },
  {
   "cell_type": "markdown",
   "metadata": {},
   "source": [
    "# Full Training"
   ]
  },
  {
   "cell_type": "markdown",
   "metadata": {},
   "source": [
    "## MovieLens 1M"
   ]
  },
  {
   "cell_type": "code",
   "execution_count": null,
   "metadata": {},
   "outputs": [],
   "source": [
    "best_params_ml\n",
    "n_dim = dl_train.dataset.__getitem__(1).shape[0]\n",
    "linear_encoder = projects_models.EncoderLinear(in_dim=n_dim, params=params)\n",
    "linear_decoder = projects_models.DecoderLinear(out_dim=n_dim, params=params)\n",
    "model = projects_models.AutoRec(encoder=linear_encoder, decoder=linear_decoder)\n",
    "val_loss = projects_trainers.train_autorec(\n",
    "                model=model, optimizer=optimizer, max_epochs=MAX_EPOCHS, early_stopping=3, \n",
    "                dl_train=dl_train, dl_test=dl_valid, device=device, dataset_name=dataset_name)"
   ]
  },
  {
   "cell_type": "code",
   "execution_count": null,
   "metadata": {},
   "outputs": [],
   "source": []
  },
  {
   "cell_type": "markdown",
   "metadata": {},
   "source": [
    "## Netflix"
   ]
  },
  {
   "cell_type": "code",
   "execution_count": null,
   "metadata": {},
   "outputs": [],
   "source": []
  },
  {
   "cell_type": "code",
   "execution_count": null,
   "metadata": {},
   "outputs": [],
   "source": []
  },
  {
   "cell_type": "code",
   "execution_count": null,
   "metadata": {},
   "outputs": [],
   "source": [
    "%load_ext tensorboard\n",
    "%tensorboard --logdir=."
   ]
  },
  {
   "cell_type": "code",
   "execution_count": null,
   "metadata": {},
   "outputs": [],
   "source": []
  }
 ],
 "metadata": {
  "interpreter": {
   "hash": "8fa3c1106efc00f2c52b2a02cc212ceecaeaa00ccc3be33bf7c9b17ece6d5fb5"
  },
  "kernelspec": {
   "display_name": "Python 3.8.12 64-bit ('RecSys': conda)",
   "language": "python",
   "name": "python3"
  },
  "language_info": {
   "codemirror_mode": {
    "name": "ipython",
    "version": 3
   },
   "file_extension": ".py",
   "mimetype": "text/x-python",
   "name": "python",
   "nbconvert_exporter": "python",
   "pygments_lexer": "ipython3",
   "version": "3.8.12"
  },
  "orig_nbformat": 4
 },
 "nbformat": 4,
 "nbformat_minor": 2
}
