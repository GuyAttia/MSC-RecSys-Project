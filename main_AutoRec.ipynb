{
 "cells": [
  {
   "cell_type": "markdown",
   "metadata": {},
   "source": [
    "# Imports"
   ]
  },
  {
   "cell_type": "code",
   "execution_count": 3,
   "metadata": {},
   "outputs": [],
   "source": [
    "import torch\n",
    "import matplotlib.pyplot as plt\n",
    "\n",
    "%load_ext autoreload\n",
    "%autoreload 2\n",
    "\n",
    "from src.hyperparams_tuning import tune_params, final_train"
   ]
  },
  {
   "cell_type": "code",
   "execution_count": 4,
   "metadata": {},
   "outputs": [
    {
     "name": "stdout",
     "output_type": "stream",
     "text": [
      "Using device: cpu\n"
     ]
    }
   ],
   "source": [
    "plt.rcParams.update({'font.size': 12})\n",
    "device = torch.device('cuda' if torch.cuda.is_available() else 'cpu')\n",
    "print('Using device:', device)"
   ]
  },
  {
   "cell_type": "markdown",
   "metadata": {},
   "source": [
    "# MovieLens 1M"
   ]
  },
  {
   "cell_type": "code",
   "execution_count": null,
   "metadata": {},
   "outputs": [],
   "source": [
    "max_epochs_ml = 10"
   ]
  },
  {
   "cell_type": "markdown",
   "metadata": {},
   "source": [
    "## HyperParameter Tuning"
   ]
  },
  {
   "cell_type": "code",
   "execution_count": 12,
   "metadata": {},
   "outputs": [
    {
     "name": "stderr",
     "output_type": "stream",
     "text": [
      "\u001b[32m[I 2022-01-30 16:57:01,585]\u001b[0m A new study created in memory with name: no-name-3595120c-2013-4dcc-b6db-45ed7a122edc\u001b[0m\n"
     ]
    },
    {
     "name": "stdout",
     "output_type": "stream",
     "text": [
      "Training Results - Epoch[1] Avg loss: 3.34\n",
      "Validation Results - Epoch[1] Avg loss: 3.33\n",
      "Training Results - Epoch[2] Avg loss: 3.29\n",
      "Validation Results - Epoch[2] Avg loss: 3.29\n",
      "Training Results - Epoch[3] Avg loss: 3.29\n",
      "Validation Results - Epoch[3] Avg loss: 3.29\n",
      "Training Results - Epoch[4] Avg loss: 3.28\n",
      "Validation Results - Epoch[4] Avg loss: 3.28\n",
      "Training Results - Epoch[5] Avg loss: 1.64\n",
      "Validation Results - Epoch[5] Avg loss: 1.64\n",
      "Training Results - Epoch[6] Avg loss: 1.62\n",
      "Validation Results - Epoch[6] Avg loss: 1.62\n",
      "Training Results - Epoch[7] Avg loss: 1.63\n",
      "Validation Results - Epoch[7] Avg loss: 1.63\n",
      "Training Results - Epoch[8] Avg loss: 1.62\n",
      "Validation Results - Epoch[8] Avg loss: 1.62\n",
      "Training Results - Epoch[9] Avg loss: 1.63\n",
      "Validation Results - Epoch[9] Avg loss: 1.63\n",
      "Training Results - Epoch[10] Avg loss: 1.62\n"
     ]
    },
    {
     "name": "stderr",
     "output_type": "stream",
     "text": [
      "\u001b[32m[I 2022-01-30 16:57:56,333]\u001b[0m Trial 0 finished with value: 1.621603535026904 and parameters: {'learning_rate': 0.02690964373196214, 'optimizer': 'Adam', 'latent_dim': 14}. Best is trial 0 with value: 1.621603535026904.\u001b[0m\n"
     ]
    },
    {
     "name": "stdout",
     "output_type": "stream",
     "text": [
      "Validation Results - Epoch[10] Avg loss: 1.62\n",
      "Training Results - Epoch[1] Avg loss: 3.74\n",
      "Validation Results - Epoch[1] Avg loss: 3.74\n",
      "Training Results - Epoch[2] Avg loss: 3.74\n",
      "Validation Results - Epoch[2] Avg loss: 3.73\n",
      "Training Results - Epoch[3] Avg loss: 3.73\n",
      "Validation Results - Epoch[3] Avg loss: 3.73\n",
      "Training Results - Epoch[4] Avg loss: 3.73\n",
      "Validation Results - Epoch[4] Avg loss: 3.73\n",
      "Training Results - Epoch[5] Avg loss: 3.72\n",
      "Validation Results - Epoch[5] Avg loss: 3.72\n",
      "Training Results - Epoch[6] Avg loss: 3.72\n",
      "Validation Results - Epoch[6] Avg loss: 3.71\n",
      "Training Results - Epoch[7] Avg loss: 3.70\n",
      "Validation Results - Epoch[7] Avg loss: 3.70\n",
      "Training Results - Epoch[8] Avg loss: 3.62\n",
      "Validation Results - Epoch[8] Avg loss: 3.62\n",
      "Training Results - Epoch[9] Avg loss: 3.02\n",
      "Validation Results - Epoch[9] Avg loss: 3.02\n",
      "Training Results - Epoch[10] Avg loss: 2.82\n"
     ]
    },
    {
     "name": "stderr",
     "output_type": "stream",
     "text": [
      "\u001b[32m[I 2022-01-30 16:58:43,179]\u001b[0m Trial 1 finished with value: 2.8202568812086093 and parameters: {'learning_rate': 0.01895855276162696, 'optimizer': 'SGD', 'latent_dim': 14}. Best is trial 0 with value: 1.621603535026904.\u001b[0m\n"
     ]
    },
    {
     "name": "stdout",
     "output_type": "stream",
     "text": [
      "Validation Results - Epoch[10] Avg loss: 2.82\n",
      "Training Results - Epoch[1] Avg loss: 3.00\n",
      "Validation Results - Epoch[1] Avg loss: 2.99\n",
      "Training Results - Epoch[2] Avg loss: 2.85\n",
      "Validation Results - Epoch[2] Avg loss: 2.84\n",
      "Training Results - Epoch[3] Avg loss: 2.78\n",
      "Validation Results - Epoch[3] Avg loss: 2.78\n",
      "Training Results - Epoch[4] Avg loss: 2.74\n",
      "Validation Results - Epoch[4] Avg loss: 2.74\n",
      "Training Results - Epoch[5] Avg loss: 2.69\n",
      "Validation Results - Epoch[5] Avg loss: 2.69\n",
      "Training Results - Epoch[6] Avg loss: 2.65\n",
      "Validation Results - Epoch[6] Avg loss: 2.65\n",
      "Training Results - Epoch[7] Avg loss: 2.61\n",
      "Validation Results - Epoch[7] Avg loss: 2.61\n",
      "Training Results - Epoch[8] Avg loss: 2.57\n",
      "Validation Results - Epoch[8] Avg loss: 2.57\n",
      "Training Results - Epoch[9] Avg loss: 2.54\n",
      "Validation Results - Epoch[9] Avg loss: 2.54\n",
      "Training Results - Epoch[10] Avg loss: 2.50\n"
     ]
    },
    {
     "name": "stderr",
     "output_type": "stream",
     "text": [
      "\u001b[32m[I 2022-01-30 16:59:37,829]\u001b[0m Trial 2 finished with value: 2.5021633122930464 and parameters: {'learning_rate': 1.3860042167650918e-05, 'optimizer': 'RMSprop', 'latent_dim': 19}. Best is trial 0 with value: 1.621603535026904.\u001b[0m\n"
     ]
    },
    {
     "name": "stdout",
     "output_type": "stream",
     "text": [
      "Validation Results - Epoch[10] Avg loss: 2.50\n",
      "Training Results - Epoch[1] Avg loss: 2.09\n",
      "Validation Results - Epoch[1] Avg loss: 2.09\n",
      "Training Results - Epoch[2] Avg loss: 1.91\n",
      "Validation Results - Epoch[2] Avg loss: 1.91\n",
      "Training Results - Epoch[3] Avg loss: 1.89\n",
      "Validation Results - Epoch[3] Avg loss: 1.89\n",
      "Training Results - Epoch[4] Avg loss: 1.88\n",
      "Validation Results - Epoch[4] Avg loss: 1.88\n",
      "Training Results - Epoch[5] Avg loss: 1.87\n",
      "Validation Results - Epoch[5] Avg loss: 1.87\n",
      "Training Results - Epoch[6] Avg loss: 1.86\n",
      "Validation Results - Epoch[6] Avg loss: 1.86\n",
      "Training Results - Epoch[7] Avg loss: 1.83\n",
      "Validation Results - Epoch[7] Avg loss: 1.84\n",
      "Training Results - Epoch[8] Avg loss: 1.80\n",
      "Validation Results - Epoch[8] Avg loss: 1.80\n",
      "Training Results - Epoch[9] Avg loss: 1.77\n",
      "Validation Results - Epoch[9] Avg loss: 1.77\n",
      "Training Results - Epoch[10] Avg loss: 1.72\n"
     ]
    },
    {
     "name": "stderr",
     "output_type": "stream",
     "text": [
      "\u001b[32m[I 2022-01-30 17:00:39,502]\u001b[0m Trial 3 finished with value: 1.716578441897765 and parameters: {'learning_rate': 0.0008333389506721145, 'optimizer': 'Adam', 'latent_dim': 15}. Best is trial 0 with value: 1.621603535026904.\u001b[0m\n"
     ]
    },
    {
     "name": "stdout",
     "output_type": "stream",
     "text": [
      "Validation Results - Epoch[10] Avg loss: 1.72\n",
      "Training Results - Epoch[1] Avg loss: 3.74\n",
      "Validation Results - Epoch[1] Avg loss: 3.74\n",
      "Training Results - Epoch[2] Avg loss: 3.74\n",
      "Validation Results - Epoch[2] Avg loss: 3.74\n",
      "Training Results - Epoch[3] Avg loss: 3.74\n",
      "Validation Results - Epoch[3] Avg loss: 3.74\n",
      "Training Results - Epoch[4] Avg loss: 3.74\n",
      "Validation Results - Epoch[4] Avg loss: 3.74\n",
      "Training Results - Epoch[5] Avg loss: 3.74\n",
      "Validation Results - Epoch[5] Avg loss: 3.74\n",
      "Training Results - Epoch[6] Avg loss: 3.74\n",
      "Validation Results - Epoch[6] Avg loss: 3.74\n",
      "Training Results - Epoch[7] Avg loss: 3.74\n",
      "Validation Results - Epoch[7] Avg loss: 3.74\n",
      "Training Results - Epoch[8] Avg loss: 3.74\n"
     ]
    },
    {
     "name": "stderr",
     "output_type": "stream",
     "text": [
      "2022-01-30 17:01:12,782 ignite.handlers.early_stopping.EarlyStopping INFO: EarlyStopping: Stop training\n",
      "\u001b[32m[I 2022-01-30 17:01:12,784]\u001b[0m Trial 4 finished with value: 3.738143173116722 and parameters: {'learning_rate': 0.00014743889102386475, 'optimizer': 'SGD', 'latent_dim': 18}. Best is trial 0 with value: 1.621603535026904.\u001b[0m\n"
     ]
    },
    {
     "name": "stdout",
     "output_type": "stream",
     "text": [
      "Validation Results - Epoch[8] Avg loss: 3.74\n",
      "Training Results - Epoch[1] Avg loss: 1.51\n",
      "Validation Results - Epoch[1] Avg loss: 1.51\n",
      "Training Results - Epoch[2] Avg loss: 1.52\n",
      "Validation Results - Epoch[2] Avg loss: 1.52\n",
      "Training Results - Epoch[3] Avg loss: 1.50\n",
      "Validation Results - Epoch[3] Avg loss: 1.50\n",
      "Training Results - Epoch[4] Avg loss: 1.48\n",
      "Validation Results - Epoch[4] Avg loss: 1.48\n",
      "Training Results - Epoch[5] Avg loss: 1.47\n",
      "Validation Results - Epoch[5] Avg loss: 1.47\n",
      "Training Results - Epoch[6] Avg loss: 1.47\n",
      "Validation Results - Epoch[6] Avg loss: 1.47\n",
      "Training Results - Epoch[7] Avg loss: 1.47\n",
      "Validation Results - Epoch[7] Avg loss: 1.47\n",
      "Training Results - Epoch[8] Avg loss: 1.47\n",
      "Validation Results - Epoch[8] Avg loss: 1.47\n",
      "Training Results - Epoch[9] Avg loss: 1.47\n",
      "Validation Results - Epoch[9] Avg loss: 1.47\n",
      "Training Results - Epoch[10] Avg loss: 1.46\n"
     ]
    },
    {
     "name": "stderr",
     "output_type": "stream",
     "text": [
      "\u001b[32m[I 2022-01-30 17:02:04,009]\u001b[0m Trial 5 finished with value: 1.4633683968853477 and parameters: {'learning_rate': 0.008140226642660064, 'optimizer': 'Adam', 'latent_dim': 15}. Best is trial 5 with value: 1.4633683968853477.\u001b[0m\n"
     ]
    },
    {
     "name": "stdout",
     "output_type": "stream",
     "text": [
      "Validation Results - Epoch[10] Avg loss: 1.46\n",
      "Training Results - Epoch[1] Avg loss: 2.34\n",
      "Validation Results - Epoch[1] Avg loss: 2.34\n",
      "Training Results - Epoch[2] Avg loss: 2.19\n",
      "Validation Results - Epoch[2] Avg loss: 2.19\n",
      "Training Results - Epoch[3] Avg loss: 2.17\n",
      "Validation Results - Epoch[3] Avg loss: 2.17\n",
      "Training Results - Epoch[4] Avg loss: 2.14\n",
      "Validation Results - Epoch[4] Avg loss: 2.14\n",
      "Training Results - Epoch[5] Avg loss: 2.13\n",
      "Validation Results - Epoch[5] Avg loss: 2.13\n",
      "Training Results - Epoch[6] Avg loss: 2.12\n",
      "Validation Results - Epoch[6] Avg loss: 2.12\n",
      "Training Results - Epoch[7] Avg loss: 2.11\n",
      "Validation Results - Epoch[7] Avg loss: 2.11\n",
      "Training Results - Epoch[8] Avg loss: 2.11\n",
      "Validation Results - Epoch[8] Avg loss: 2.11\n",
      "Training Results - Epoch[9] Avg loss: 2.10\n",
      "Validation Results - Epoch[9] Avg loss: 2.10\n",
      "Training Results - Epoch[10] Avg loss: 2.10\n"
     ]
    },
    {
     "name": "stderr",
     "output_type": "stream",
     "text": [
      "\u001b[32m[I 2022-01-30 17:03:00,817]\u001b[0m Trial 6 finished with value: 2.102168971181705 and parameters: {'learning_rate': 0.0004553971947002922, 'optimizer': 'Adam', 'latent_dim': 15}. Best is trial 5 with value: 1.4633683968853477.\u001b[0m\n"
     ]
    },
    {
     "name": "stdout",
     "output_type": "stream",
     "text": [
      "Validation Results - Epoch[10] Avg loss: 2.10\n",
      "Training Results - Epoch[1] Avg loss: 3.74\n",
      "Validation Results - Epoch[1] Avg loss: 3.74\n",
      "Training Results - Epoch[2] Avg loss: 3.74\n",
      "Validation Results - Epoch[2] Avg loss: 3.73\n",
      "Training Results - Epoch[3] Avg loss: 3.73\n",
      "Validation Results - Epoch[3] Avg loss: 3.73\n",
      "Training Results - Epoch[4] Avg loss: 3.73\n",
      "Validation Results - Epoch[4] Avg loss: 3.73\n",
      "Training Results - Epoch[5] Avg loss: 3.72\n",
      "Validation Results - Epoch[5] Avg loss: 3.72\n",
      "Training Results - Epoch[6] Avg loss: 3.71\n",
      "Validation Results - Epoch[6] Avg loss: 3.71\n",
      "Training Results - Epoch[7] Avg loss: 3.64\n",
      "Validation Results - Epoch[7] Avg loss: 3.64\n",
      "Training Results - Epoch[8] Avg loss: 3.13\n",
      "Validation Results - Epoch[8] Avg loss: 3.12\n",
      "Training Results - Epoch[9] Avg loss: 2.88\n",
      "Validation Results - Epoch[9] Avg loss: 2.87\n",
      "Training Results - Epoch[10] Avg loss: 2.78\n"
     ]
    },
    {
     "name": "stderr",
     "output_type": "stream",
     "text": [
      "\u001b[32m[I 2022-01-30 17:03:37,119]\u001b[0m Trial 7 finished with value: 2.7820228425082782 and parameters: {'learning_rate': 0.01825855545277409, 'optimizer': 'SGD', 'latent_dim': 18}. Best is trial 5 with value: 1.4633683968853477.\u001b[0m\n"
     ]
    },
    {
     "name": "stdout",
     "output_type": "stream",
     "text": [
      "Validation Results - Epoch[10] Avg loss: 2.78\n",
      "Training Results - Epoch[1] Avg loss: 3.45\n",
      "Validation Results - Epoch[1] Avg loss: 3.44\n",
      "Training Results - Epoch[2] Avg loss: 3.32\n",
      "Validation Results - Epoch[2] Avg loss: 3.32\n",
      "Training Results - Epoch[3] Avg loss: 3.32\n",
      "Validation Results - Epoch[3] Avg loss: 3.32\n",
      "Training Results - Epoch[4] Avg loss: 3.32\n",
      "Validation Results - Epoch[4] Avg loss: 3.31\n",
      "Training Results - Epoch[5] Avg loss: 3.31\n",
      "Validation Results - Epoch[5] Avg loss: 3.31\n",
      "Training Results - Epoch[6] Avg loss: 3.32\n",
      "Validation Results - Epoch[6] Avg loss: 3.32\n",
      "Training Results - Epoch[7] Avg loss: 3.31\n",
      "Validation Results - Epoch[7] Avg loss: 3.31\n",
      "Training Results - Epoch[8] Avg loss: 3.31\n",
      "Validation Results - Epoch[8] Avg loss: 3.31\n",
      "Training Results - Epoch[9] Avg loss: 3.31\n",
      "Validation Results - Epoch[9] Avg loss: 3.31\n",
      "Training Results - Epoch[10] Avg loss: 3.32\n"
     ]
    },
    {
     "name": "stderr",
     "output_type": "stream",
     "text": [
      "2022-01-30 17:04:15,151 ignite.handlers.early_stopping.EarlyStopping INFO: EarlyStopping: Stop training\n",
      "\u001b[32m[I 2022-01-30 17:04:15,153]\u001b[0m Trial 8 finished with value: 3.310298207264073 and parameters: {'learning_rate': 0.018130967414043346, 'optimizer': 'Adam', 'latent_dim': 17}. Best is trial 5 with value: 1.4633683968853477.\u001b[0m\n"
     ]
    },
    {
     "name": "stdout",
     "output_type": "stream",
     "text": [
      "Validation Results - Epoch[10] Avg loss: 3.31\n",
      "Training Results - Epoch[1] Avg loss: 3.42\n",
      "Validation Results - Epoch[1] Avg loss: 3.42\n",
      "Training Results - Epoch[2] Avg loss: 3.40\n",
      "Validation Results - Epoch[2] Avg loss: 3.39\n",
      "Training Results - Epoch[3] Avg loss: 3.39\n",
      "Validation Results - Epoch[3] Avg loss: 3.39\n",
      "Training Results - Epoch[4] Avg loss: 3.39\n",
      "Validation Results - Epoch[4] Avg loss: 3.39\n",
      "Training Results - Epoch[5] Avg loss: 3.38\n",
      "Validation Results - Epoch[5] Avg loss: 3.38\n",
      "Training Results - Epoch[6] Avg loss: 3.38\n",
      "Validation Results - Epoch[6] Avg loss: 3.38\n",
      "Training Results - Epoch[7] Avg loss: 3.38\n",
      "Validation Results - Epoch[7] Avg loss: 3.38\n",
      "Training Results - Epoch[8] Avg loss: 3.38\n",
      "Validation Results - Epoch[8] Avg loss: 3.38\n",
      "Training Results - Epoch[9] Avg loss: 3.38\n",
      "Validation Results - Epoch[9] Avg loss: 3.38\n",
      "Training Results - Epoch[10] Avg loss: 3.37\n"
     ]
    },
    {
     "name": "stderr",
     "output_type": "stream",
     "text": [
      "\u001b[32m[I 2022-01-30 17:04:51,295]\u001b[0m Trial 9 finished with value: 3.3701999689569537 and parameters: {'learning_rate': 0.006186853429571666, 'optimizer': 'RMSprop', 'latent_dim': 17}. Best is trial 5 with value: 1.4633683968853477.\u001b[0m\n"
     ]
    },
    {
     "name": "stdout",
     "output_type": "stream",
     "text": [
      "Validation Results - Epoch[10] Avg loss: 3.37\n",
      "Training Results - Epoch[1] Avg loss: 2.65\n",
      "Validation Results - Epoch[1] Avg loss: 2.64\n",
      "Training Results - Epoch[2] Avg loss: 2.25\n",
      "Validation Results - Epoch[2] Avg loss: 2.25\n",
      "Training Results - Epoch[3] Avg loss: 2.16\n",
      "Validation Results - Epoch[3] Avg loss: 2.17\n",
      "Training Results - Epoch[4] Avg loss: 2.13\n",
      "Validation Results - Epoch[4] Avg loss: 2.13\n",
      "Training Results - Epoch[5] Avg loss: 2.19\n",
      "Validation Results - Epoch[5] Avg loss: 2.19\n",
      "Training Results - Epoch[6] Avg loss: 2.14\n",
      "Validation Results - Epoch[6] Avg loss: 2.14\n",
      "Training Results - Epoch[7] Avg loss: 2.10\n",
      "Validation Results - Epoch[7] Avg loss: 2.10\n",
      "Training Results - Epoch[8] Avg loss: 2.10\n",
      "Validation Results - Epoch[8] Avg loss: 2.10\n",
      "Training Results - Epoch[9] Avg loss: 2.11\n",
      "Validation Results - Epoch[9] Avg loss: 2.11\n",
      "Training Results - Epoch[10] Avg loss: 2.09\n"
     ]
    },
    {
     "name": "stderr",
     "output_type": "stream",
     "text": [
      "\u001b[32m[I 2022-01-30 17:05:25,983]\u001b[0m Trial 10 finished with value: 2.0866545620343544 and parameters: {'learning_rate': 0.00015488837120215584, 'optimizer': 'RMSprop', 'latent_dim': 17}. Best is trial 5 with value: 1.4633683968853477.\u001b[0m\n"
     ]
    },
    {
     "name": "stdout",
     "output_type": "stream",
     "text": [
      "Validation Results - Epoch[10] Avg loss: 2.09\n",
      "Training Results - Epoch[1] Avg loss: 2.92\n",
      "Validation Results - Epoch[1] Avg loss: 2.92\n",
      "Training Results - Epoch[2] Avg loss: 2.78\n",
      "Validation Results - Epoch[2] Avg loss: 2.78\n",
      "Training Results - Epoch[3] Avg loss: 2.69\n",
      "Validation Results - Epoch[3] Avg loss: 2.69\n",
      "Training Results - Epoch[4] Avg loss: 2.62\n",
      "Validation Results - Epoch[4] Avg loss: 2.62\n",
      "Training Results - Epoch[5] Avg loss: 2.55\n",
      "Validation Results - Epoch[5] Avg loss: 2.55\n",
      "Training Results - Epoch[6] Avg loss: 2.50\n",
      "Validation Results - Epoch[6] Avg loss: 2.50\n",
      "Training Results - Epoch[7] Avg loss: 2.46\n",
      "Validation Results - Epoch[7] Avg loss: 2.46\n",
      "Training Results - Epoch[8] Avg loss: 2.43\n",
      "Validation Results - Epoch[8] Avg loss: 2.43\n",
      "Training Results - Epoch[9] Avg loss: 2.40\n",
      "Validation Results - Epoch[9] Avg loss: 2.39\n",
      "Training Results - Epoch[10] Avg loss: 2.37\n"
     ]
    },
    {
     "name": "stderr",
     "output_type": "stream",
     "text": [
      "\u001b[32m[I 2022-01-30 17:06:05,739]\u001b[0m Trial 11 finished with value: 2.3706177566225164 and parameters: {'learning_rate': 1.8291014482772456e-05, 'optimizer': 'RMSprop', 'latent_dim': 10}. Best is trial 5 with value: 1.4633683968853477.\u001b[0m\n"
     ]
    },
    {
     "name": "stdout",
     "output_type": "stream",
     "text": [
      "Validation Results - Epoch[10] Avg loss: 2.37\n",
      "Training Results - Epoch[1] Avg loss: 3.74\n",
      "Validation Results - Epoch[1] Avg loss: 3.74\n",
      "Training Results - Epoch[2] Avg loss: 3.74\n",
      "Validation Results - Epoch[2] Avg loss: 3.74\n",
      "Training Results - Epoch[3] Avg loss: 3.74\n",
      "Validation Results - Epoch[3] Avg loss: 3.74\n",
      "Training Results - Epoch[4] Avg loss: 3.74\n",
      "Validation Results - Epoch[4] Avg loss: 3.74\n",
      "Training Results - Epoch[5] Avg loss: 3.74\n",
      "Validation Results - Epoch[5] Avg loss: 3.74\n",
      "Training Results - Epoch[6] Avg loss: 3.74\n",
      "Validation Results - Epoch[6] Avg loss: 3.74\n",
      "Training Results - Epoch[7] Avg loss: 3.74\n",
      "Validation Results - Epoch[7] Avg loss: 3.74\n",
      "Training Results - Epoch[8] Avg loss: 3.74\n"
     ]
    },
    {
     "name": "stderr",
     "output_type": "stream",
     "text": [
      "2022-01-30 17:06:30,062 ignite.handlers.early_stopping.EarlyStopping INFO: EarlyStopping: Stop training\n",
      "\u001b[32m[I 2022-01-30 17:06:30,063]\u001b[0m Trial 12 finished with value: 3.737527162665563 and parameters: {'learning_rate': 0.0008596447864897747, 'optimizer': 'SGD', 'latent_dim': 18}. Best is trial 5 with value: 1.4633683968853477.\u001b[0m\n"
     ]
    },
    {
     "name": "stdout",
     "output_type": "stream",
     "text": [
      "Validation Results - Epoch[8] Avg loss: 3.74\n",
      "Training Results - Epoch[1] Avg loss: 3.34\n",
      "Validation Results - Epoch[1] Avg loss: 3.34\n",
      "Training Results - Epoch[2] Avg loss: 3.31\n",
      "Validation Results - Epoch[2] Avg loss: 3.31\n",
      "Training Results - Epoch[3] Avg loss: 3.29\n",
      "Validation Results - Epoch[3] Avg loss: 3.29\n",
      "Training Results - Epoch[4] Avg loss: 3.28\n",
      "Validation Results - Epoch[4] Avg loss: 3.28\n",
      "Training Results - Epoch[5] Avg loss: 3.29\n",
      "Validation Results - Epoch[5] Avg loss: 3.29\n",
      "Training Results - Epoch[6] Avg loss: 3.28\n",
      "Validation Results - Epoch[6] Avg loss: 3.28\n",
      "Training Results - Epoch[7] Avg loss: 3.28\n",
      "Validation Results - Epoch[7] Avg loss: 3.28\n",
      "Training Results - Epoch[8] Avg loss: 3.27\n",
      "Validation Results - Epoch[8] Avg loss: 3.27\n",
      "Training Results - Epoch[9] Avg loss: 3.26\n",
      "Validation Results - Epoch[9] Avg loss: 3.26\n",
      "Training Results - Epoch[10] Avg loss: 3.26\n"
     ]
    },
    {
     "name": "stderr",
     "output_type": "stream",
     "text": [
      "\u001b[32m[I 2022-01-30 17:07:03,276]\u001b[0m Trial 13 finished with value: 3.260044365687086 and parameters: {'learning_rate': 0.006740128643355218, 'optimizer': 'RMSprop', 'latent_dim': 18}. Best is trial 5 with value: 1.4633683968853477.\u001b[0m\n"
     ]
    },
    {
     "name": "stdout",
     "output_type": "stream",
     "text": [
      "Validation Results - Epoch[10] Avg loss: 3.26\n",
      "Training Results - Epoch[1] Avg loss: 2.36\n",
      "Validation Results - Epoch[1] Avg loss: 2.36\n",
      "Training Results - Epoch[2] Avg loss: 2.35\n",
      "Validation Results - Epoch[2] Avg loss: 2.35\n",
      "Training Results - Epoch[3] Avg loss: 2.34\n",
      "Validation Results - Epoch[3] Avg loss: 2.34\n",
      "Training Results - Epoch[4] Avg loss: 2.17\n",
      "Validation Results - Epoch[4] Avg loss: 2.17\n",
      "Training Results - Epoch[5] Avg loss: 2.16\n",
      "Validation Results - Epoch[5] Avg loss: 2.16\n",
      "Training Results - Epoch[6] Avg loss: 2.16\n",
      "Validation Results - Epoch[6] Avg loss: 2.16\n",
      "Training Results - Epoch[7] Avg loss: 2.15\n",
      "Validation Results - Epoch[7] Avg loss: 2.15\n",
      "Training Results - Epoch[8] Avg loss: 2.14\n",
      "Validation Results - Epoch[8] Avg loss: 2.14\n",
      "Training Results - Epoch[9] Avg loss: 2.13\n",
      "Validation Results - Epoch[9] Avg loss: 2.13\n",
      "Training Results - Epoch[10] Avg loss: 2.09\n"
     ]
    },
    {
     "name": "stderr",
     "output_type": "stream",
     "text": [
      "\u001b[32m[I 2022-01-30 17:07:38,577]\u001b[0m Trial 14 finished with value: 2.0896904749586094 and parameters: {'learning_rate': 0.0012799501509722921, 'optimizer': 'RMSprop', 'latent_dim': 18}. Best is trial 5 with value: 1.4633683968853477.\u001b[0m\n"
     ]
    },
    {
     "name": "stdout",
     "output_type": "stream",
     "text": [
      "Validation Results - Epoch[10] Avg loss: 2.09\n",
      "Training Results - Epoch[1] Avg loss: 2.02\n",
      "Validation Results - Epoch[1] Avg loss: 2.02\n",
      "Training Results - Epoch[2] Avg loss: 1.93\n",
      "Validation Results - Epoch[2] Avg loss: 1.93\n",
      "Training Results - Epoch[3] Avg loss: 1.92\n",
      "Validation Results - Epoch[3] Avg loss: 1.92\n",
      "Training Results - Epoch[4] Avg loss: 1.92\n",
      "Validation Results - Epoch[4] Avg loss: 1.92\n",
      "Training Results - Epoch[5] Avg loss: 1.89\n",
      "Validation Results - Epoch[5] Avg loss: 1.89\n",
      "Training Results - Epoch[6] Avg loss: 1.87\n",
      "Validation Results - Epoch[6] Avg loss: 1.87\n",
      "Training Results - Epoch[7] Avg loss: 1.82\n",
      "Validation Results - Epoch[7] Avg loss: 1.82\n",
      "Training Results - Epoch[8] Avg loss: 1.80\n",
      "Validation Results - Epoch[8] Avg loss: 1.80\n",
      "Training Results - Epoch[9] Avg loss: 1.76\n",
      "Validation Results - Epoch[9] Avg loss: 1.76\n",
      "Training Results - Epoch[10] Avg loss: 1.74\n"
     ]
    },
    {
     "name": "stderr",
     "output_type": "stream",
     "text": [
      "\u001b[32m[I 2022-01-30 17:08:18,586]\u001b[0m Trial 15 finished with value: 1.7406571748240893 and parameters: {'learning_rate': 0.0010672661859952154, 'optimizer': 'Adam', 'latent_dim': 14}. Best is trial 5 with value: 1.4633683968853477.\u001b[0m\n"
     ]
    },
    {
     "name": "stdout",
     "output_type": "stream",
     "text": [
      "Validation Results - Epoch[10] Avg loss: 1.74\n",
      "Training Results - Epoch[1] Avg loss: 2.36\n",
      "Validation Results - Epoch[1] Avg loss: 2.36\n",
      "Training Results - Epoch[2] Avg loss: 2.24\n",
      "Validation Results - Epoch[2] Avg loss: 2.24\n",
      "Training Results - Epoch[3] Avg loss: 2.18\n",
      "Validation Results - Epoch[3] Avg loss: 2.18\n",
      "Training Results - Epoch[4] Avg loss: 2.18\n",
      "Validation Results - Epoch[4] Avg loss: 2.18\n",
      "Training Results - Epoch[5] Avg loss: 2.14\n",
      "Validation Results - Epoch[5] Avg loss: 2.15\n",
      "Training Results - Epoch[6] Avg loss: 2.15\n",
      "Validation Results - Epoch[6] Avg loss: 2.15\n",
      "Training Results - Epoch[7] Avg loss: 2.13\n",
      "Validation Results - Epoch[7] Avg loss: 2.13\n",
      "Training Results - Epoch[8] Avg loss: 2.11\n",
      "Validation Results - Epoch[8] Avg loss: 2.11\n",
      "Training Results - Epoch[9] Avg loss: 2.12\n",
      "Validation Results - Epoch[9] Avg loss: 2.12\n",
      "Training Results - Epoch[10] Avg loss: 2.11\n"
     ]
    },
    {
     "name": "stderr",
     "output_type": "stream",
     "text": [
      "\u001b[32m[I 2022-01-30 17:08:52,448]\u001b[0m Trial 16 finished with value: 2.1053798246067883 and parameters: {'learning_rate': 0.0001435041898125359, 'optimizer': 'RMSprop', 'latent_dim': 15}. Best is trial 5 with value: 1.4633683968853477.\u001b[0m\n"
     ]
    },
    {
     "name": "stdout",
     "output_type": "stream",
     "text": [
      "Validation Results - Epoch[10] Avg loss: 2.11\n",
      "Training Results - Epoch[1] Avg loss: 3.38\n",
      "Validation Results - Epoch[1] Avg loss: 3.38\n",
      "Training Results - Epoch[2] Avg loss: 1.72\n",
      "Validation Results - Epoch[2] Avg loss: 1.72\n",
      "Training Results - Epoch[3] Avg loss: 1.71\n",
      "Validation Results - Epoch[3] Avg loss: 1.70\n",
      "Training Results - Epoch[4] Avg loss: 1.70\n",
      "Validation Results - Epoch[4] Avg loss: 1.70\n",
      "Training Results - Epoch[5] Avg loss: 1.70\n",
      "Validation Results - Epoch[5] Avg loss: 1.70\n",
      "Training Results - Epoch[6] Avg loss: 1.69\n",
      "Validation Results - Epoch[6] Avg loss: 1.69\n",
      "Training Results - Epoch[7] Avg loss: 1.69\n",
      "Validation Results - Epoch[7] Avg loss: 1.69\n",
      "Training Results - Epoch[8] Avg loss: 1.69\n",
      "Validation Results - Epoch[8] Avg loss: 1.69\n",
      "Training Results - Epoch[9] Avg loss: 1.70\n",
      "Validation Results - Epoch[9] Avg loss: 1.70\n",
      "Training Results - Epoch[10] Avg loss: 1.69\n"
     ]
    },
    {
     "name": "stderr",
     "output_type": "stream",
     "text": [
      "\u001b[32m[I 2022-01-30 17:09:30,137]\u001b[0m Trial 17 finished with value: 1.6843596401593544 and parameters: {'learning_rate': 0.01132924946621886, 'optimizer': 'Adam', 'latent_dim': 13}. Best is trial 5 with value: 1.4633683968853477.\u001b[0m\n"
     ]
    },
    {
     "name": "stdout",
     "output_type": "stream",
     "text": [
      "Validation Results - Epoch[10] Avg loss: 1.68\n",
      "Training Results - Epoch[1] Avg loss: 2.08\n",
      "Validation Results - Epoch[1] Avg loss: 2.08\n",
      "Training Results - Epoch[2] Avg loss: 2.00\n",
      "Validation Results - Epoch[2] Avg loss: 2.00\n",
      "Training Results - Epoch[3] Avg loss: 1.97\n",
      "Validation Results - Epoch[3] Avg loss: 1.97\n",
      "Training Results - Epoch[4] Avg loss: 1.95\n",
      "Validation Results - Epoch[4] Avg loss: 1.95\n",
      "Training Results - Epoch[5] Avg loss: 1.92\n",
      "Validation Results - Epoch[5] Avg loss: 1.92\n",
      "Training Results - Epoch[6] Avg loss: 1.84\n",
      "Validation Results - Epoch[6] Avg loss: 1.84\n",
      "Training Results - Epoch[7] Avg loss: 1.75\n",
      "Validation Results - Epoch[7] Avg loss: 1.75\n",
      "Training Results - Epoch[8] Avg loss: 1.68\n",
      "Validation Results - Epoch[8] Avg loss: 1.68\n",
      "Training Results - Epoch[9] Avg loss: 1.62\n",
      "Validation Results - Epoch[9] Avg loss: 1.62\n",
      "Training Results - Epoch[10] Avg loss: 1.58\n"
     ]
    },
    {
     "name": "stderr",
     "output_type": "stream",
     "text": [
      "\u001b[32m[I 2022-01-30 17:10:10,282]\u001b[0m Trial 18 finished with value: 1.5777178833816226 and parameters: {'learning_rate': 0.001297260069911684, 'optimizer': 'Adam', 'latent_dim': 12}. Best is trial 5 with value: 1.4633683968853477.\u001b[0m\n"
     ]
    },
    {
     "name": "stdout",
     "output_type": "stream",
     "text": [
      "Validation Results - Epoch[10] Avg loss: 1.58\n",
      "Training Results - Epoch[1] Avg loss: 3.46\n",
      "Validation Results - Epoch[1] Avg loss: 3.45\n",
      "Training Results - Epoch[2] Avg loss: 3.44\n",
      "Validation Results - Epoch[2] Avg loss: 3.44\n",
      "Training Results - Epoch[3] Avg loss: 3.39\n",
      "Validation Results - Epoch[3] Avg loss: 3.39\n",
      "Training Results - Epoch[4] Avg loss: 2.47\n",
      "Validation Results - Epoch[4] Avg loss: 2.47\n",
      "Training Results - Epoch[5] Avg loss: 2.45\n",
      "Validation Results - Epoch[5] Avg loss: 2.45\n",
      "Training Results - Epoch[6] Avg loss: 2.45\n",
      "Validation Results - Epoch[6] Avg loss: 2.45\n",
      "Training Results - Epoch[7] Avg loss: 2.41\n",
      "Validation Results - Epoch[7] Avg loss: 2.41\n",
      "Training Results - Epoch[8] Avg loss: 2.38\n",
      "Validation Results - Epoch[8] Avg loss: 2.38\n",
      "Training Results - Epoch[9] Avg loss: 2.38\n",
      "Validation Results - Epoch[9] Avg loss: 2.38\n",
      "Training Results - Epoch[10] Avg loss: 2.39\n"
     ]
    },
    {
     "name": "stderr",
     "output_type": "stream",
     "text": [
      "\u001b[32m[I 2022-01-30 17:10:53,150]\u001b[0m Trial 19 finished with value: 2.3762029180463577 and parameters: {'learning_rate': 0.007553756372378738, 'optimizer': 'RMSprop', 'latent_dim': 15}. Best is trial 5 with value: 1.4633683968853477.\u001b[0m\n"
     ]
    },
    {
     "name": "stdout",
     "output_type": "stream",
     "text": [
      "Validation Results - Epoch[10] Avg loss: 2.39\n",
      "Training Results - Epoch[1] Avg loss: 2.94\n",
      "Validation Results - Epoch[1] Avg loss: 2.94\n",
      "Training Results - Epoch[2] Avg loss: 2.83\n",
      "Validation Results - Epoch[2] Avg loss: 2.83\n",
      "Training Results - Epoch[3] Avg loss: 2.76\n",
      "Validation Results - Epoch[3] Avg loss: 2.76\n",
      "Training Results - Epoch[4] Avg loss: 2.70\n",
      "Validation Results - Epoch[4] Avg loss: 2.69\n",
      "Training Results - Epoch[5] Avg loss: 2.63\n",
      "Validation Results - Epoch[5] Avg loss: 2.63\n",
      "Training Results - Epoch[6] Avg loss: 2.58\n",
      "Validation Results - Epoch[6] Avg loss: 2.59\n",
      "Training Results - Epoch[7] Avg loss: 2.54\n",
      "Validation Results - Epoch[7] Avg loss: 2.54\n",
      "Training Results - Epoch[8] Avg loss: 2.50\n",
      "Validation Results - Epoch[8] Avg loss: 2.51\n",
      "Training Results - Epoch[9] Avg loss: 2.47\n",
      "Validation Results - Epoch[9] Avg loss: 2.47\n",
      "Training Results - Epoch[10] Avg loss: 2.44\n"
     ]
    },
    {
     "name": "stderr",
     "output_type": "stream",
     "text": [
      "\u001b[32m[I 2022-01-30 17:11:33,151]\u001b[0m Trial 20 finished with value: 2.4396148075331126 and parameters: {'learning_rate': 1.8303883288210346e-05, 'optimizer': 'RMSprop', 'latent_dim': 17}. Best is trial 5 with value: 1.4633683968853477.\u001b[0m\n"
     ]
    },
    {
     "name": "stdout",
     "output_type": "stream",
     "text": [
      "Validation Results - Epoch[10] Avg loss: 2.44\n",
      "Training Results - Epoch[1] Avg loss: 2.60\n",
      "Validation Results - Epoch[1] Avg loss: 2.61\n",
      "Training Results - Epoch[2] Avg loss: 2.30\n",
      "Validation Results - Epoch[2] Avg loss: 2.31\n",
      "Training Results - Epoch[3] Avg loss: 2.20\n",
      "Validation Results - Epoch[3] Avg loss: 2.20\n",
      "Training Results - Epoch[4] Avg loss: 2.15\n",
      "Validation Results - Epoch[4] Avg loss: 2.15\n",
      "Training Results - Epoch[5] Avg loss: 2.12\n",
      "Validation Results - Epoch[5] Avg loss: 2.12\n",
      "Training Results - Epoch[6] Avg loss: 2.11\n",
      "Validation Results - Epoch[6] Avg loss: 2.11\n",
      "Training Results - Epoch[7] Avg loss: 2.10\n",
      "Validation Results - Epoch[7] Avg loss: 2.10\n",
      "Training Results - Epoch[8] Avg loss: 2.10\n",
      "Validation Results - Epoch[8] Avg loss: 2.10\n",
      "Training Results - Epoch[9] Avg loss: 2.09\n",
      "Validation Results - Epoch[9] Avg loss: 2.09\n",
      "Training Results - Epoch[10] Avg loss: 2.09\n"
     ]
    },
    {
     "name": "stderr",
     "output_type": "stream",
     "text": [
      "\u001b[32m[I 2022-01-30 17:12:13,262]\u001b[0m Trial 21 finished with value: 2.090619341111341 and parameters: {'learning_rate': 0.00020340697880870108, 'optimizer': 'Adam', 'latent_dim': 14}. Best is trial 5 with value: 1.4633683968853477.\u001b[0m\n"
     ]
    },
    {
     "name": "stdout",
     "output_type": "stream",
     "text": [
      "Validation Results - Epoch[10] Avg loss: 2.09\n",
      "Training Results - Epoch[1] Avg loss: 2.31\n",
      "Validation Results - Epoch[1] Avg loss: 2.32\n",
      "Training Results - Epoch[2] Avg loss: 2.19\n",
      "Validation Results - Epoch[2] Avg loss: 2.19\n",
      "Training Results - Epoch[3] Avg loss: 2.15\n",
      "Validation Results - Epoch[3] Avg loss: 2.14\n",
      "Training Results - Epoch[4] Avg loss: 2.12\n",
      "Validation Results - Epoch[4] Avg loss: 2.12\n",
      "Training Results - Epoch[5] Avg loss: 2.13\n",
      "Validation Results - Epoch[5] Avg loss: 2.13\n",
      "Training Results - Epoch[6] Avg loss: 2.10\n",
      "Validation Results - Epoch[6] Avg loss: 2.10\n",
      "Training Results - Epoch[7] Avg loss: 2.09\n",
      "Validation Results - Epoch[7] Avg loss: 2.09\n",
      "Training Results - Epoch[8] Avg loss: 2.09\n",
      "Validation Results - Epoch[8] Avg loss: 2.09\n",
      "Training Results - Epoch[9] Avg loss: 2.09\n",
      "Validation Results - Epoch[9] Avg loss: 2.09\n",
      "Training Results - Epoch[10] Avg loss: 2.10\n"
     ]
    },
    {
     "name": "stderr",
     "output_type": "stream",
     "text": [
      "\u001b[32m[I 2022-01-30 17:12:47,908]\u001b[0m Trial 22 finished with value: 2.086444213058775 and parameters: {'learning_rate': 0.00013325925113007333, 'optimizer': 'RMSprop', 'latent_dim': 15}. Best is trial 5 with value: 1.4633683968853477.\u001b[0m\n"
     ]
    },
    {
     "name": "stdout",
     "output_type": "stream",
     "text": [
      "Validation Results - Epoch[10] Avg loss: 2.10\n",
      "Training Results - Epoch[1] Avg loss: 3.34\n",
      "Validation Results - Epoch[1] Avg loss: 3.34\n",
      "Training Results - Epoch[2] Avg loss: 3.25\n",
      "Validation Results - Epoch[2] Avg loss: 3.25\n",
      "Training Results - Epoch[3] Avg loss: 3.25\n",
      "Validation Results - Epoch[3] Avg loss: 3.25\n",
      "Training Results - Epoch[4] Avg loss: 3.25\n",
      "Validation Results - Epoch[4] Avg loss: 3.25\n",
      "Training Results - Epoch[5] Avg loss: 3.25\n",
      "Validation Results - Epoch[5] Avg loss: 3.25\n",
      "Training Results - Epoch[6] Avg loss: 3.25\n",
      "Validation Results - Epoch[6] Avg loss: 3.25\n",
      "Training Results - Epoch[7] Avg loss: 3.25\n"
     ]
    },
    {
     "name": "stderr",
     "output_type": "stream",
     "text": [
      "2022-01-30 17:13:12,563 ignite.handlers.early_stopping.EarlyStopping INFO: EarlyStopping: Stop training\n",
      "\u001b[32m[I 2022-01-30 17:13:12,565]\u001b[0m Trial 23 finished with value: 3.246518975062086 and parameters: {'learning_rate': 0.018353394180880306, 'optimizer': 'Adam', 'latent_dim': 12}. Best is trial 5 with value: 1.4633683968853477.\u001b[0m\n"
     ]
    },
    {
     "name": "stdout",
     "output_type": "stream",
     "text": [
      "Validation Results - Epoch[7] Avg loss: 3.25\n",
      "Training Results - Epoch[1] Avg loss: 2.33\n",
      "Validation Results - Epoch[1] Avg loss: 2.33\n",
      "Training Results - Epoch[2] Avg loss: 2.18\n",
      "Validation Results - Epoch[2] Avg loss: 2.18\n",
      "Training Results - Epoch[3] Avg loss: 2.13\n",
      "Validation Results - Epoch[3] Avg loss: 2.13\n",
      "Training Results - Epoch[4] Avg loss: 2.11\n",
      "Validation Results - Epoch[4] Avg loss: 2.11\n",
      "Training Results - Epoch[5] Avg loss: 2.04\n",
      "Validation Results - Epoch[5] Avg loss: 2.04\n",
      "Training Results - Epoch[6] Avg loss: 1.99\n",
      "Validation Results - Epoch[6] Avg loss: 1.99\n",
      "Training Results - Epoch[7] Avg loss: 1.98\n",
      "Validation Results - Epoch[7] Avg loss: 1.98\n",
      "Training Results - Epoch[8] Avg loss: 1.99\n",
      "Validation Results - Epoch[8] Avg loss: 1.99\n",
      "Training Results - Epoch[9] Avg loss: 1.98\n",
      "Validation Results - Epoch[9] Avg loss: 1.98\n",
      "Training Results - Epoch[10] Avg loss: 1.97\n"
     ]
    },
    {
     "name": "stderr",
     "output_type": "stream",
     "text": [
      "\u001b[32m[I 2022-01-30 17:13:45,379]\u001b[0m Trial 24 finished with value: 1.9721847837334436 and parameters: {'learning_rate': 0.00010122719996731533, 'optimizer': 'RMSprop', 'latent_dim': 17}. Best is trial 5 with value: 1.4633683968853477.\u001b[0m\n"
     ]
    },
    {
     "name": "stdout",
     "output_type": "stream",
     "text": [
      "Validation Results - Epoch[10] Avg loss: 1.97\n",
      "Training Results - Epoch[1] Avg loss: 1.67\n",
      "Validation Results - Epoch[1] Avg loss: 1.67\n",
      "Training Results - Epoch[2] Avg loss: 1.66\n",
      "Validation Results - Epoch[2] Avg loss: 1.65\n",
      "Training Results - Epoch[3] Avg loss: 1.65\n",
      "Validation Results - Epoch[3] Avg loss: 1.65\n",
      "Training Results - Epoch[4] Avg loss: 1.62\n",
      "Validation Results - Epoch[4] Avg loss: 1.62\n",
      "Training Results - Epoch[5] Avg loss: 1.59\n",
      "Validation Results - Epoch[5] Avg loss: 1.59\n",
      "Training Results - Epoch[6] Avg loss: 1.57\n",
      "Validation Results - Epoch[6] Avg loss: 1.57\n",
      "Training Results - Epoch[7] Avg loss: 1.53\n",
      "Validation Results - Epoch[7] Avg loss: 1.53\n",
      "Training Results - Epoch[8] Avg loss: 1.54\n",
      "Validation Results - Epoch[8] Avg loss: 1.54\n",
      "Training Results - Epoch[9] Avg loss: 1.51\n",
      "Validation Results - Epoch[9] Avg loss: 1.51\n",
      "Training Results - Epoch[10] Avg loss: 1.50\n"
     ]
    },
    {
     "name": "stderr",
     "output_type": "stream",
     "text": [
      "\u001b[32m[I 2022-01-30 17:14:24,324]\u001b[0m Trial 25 finished with value: 1.4961624650765728 and parameters: {'learning_rate': 0.003933874465098438, 'optimizer': 'Adam', 'latent_dim': 14}. Best is trial 5 with value: 1.4633683968853477.\u001b[0m\n"
     ]
    },
    {
     "name": "stdout",
     "output_type": "stream",
     "text": [
      "Validation Results - Epoch[10] Avg loss: 1.50\n",
      "Training Results - Epoch[1] Avg loss: 3.74\n",
      "Validation Results - Epoch[1] Avg loss: 3.74\n",
      "Training Results - Epoch[2] Avg loss: 3.74\n",
      "Validation Results - Epoch[2] Avg loss: 3.74\n",
      "Training Results - Epoch[3] Avg loss: 3.74\n",
      "Validation Results - Epoch[3] Avg loss: 3.74\n",
      "Training Results - Epoch[4] Avg loss: 3.74\n",
      "Validation Results - Epoch[4] Avg loss: 3.74\n",
      "Training Results - Epoch[5] Avg loss: 3.74\n",
      "Validation Results - Epoch[5] Avg loss: 3.74\n",
      "Training Results - Epoch[6] Avg loss: 3.74\n",
      "Validation Results - Epoch[6] Avg loss: 3.74\n",
      "Training Results - Epoch[7] Avg loss: 3.74\n",
      "Validation Results - Epoch[7] Avg loss: 3.74\n",
      "Training Results - Epoch[8] Avg loss: 3.74\n",
      "Validation Results - Epoch[8] Avg loss: 3.74\n",
      "Training Results - Epoch[9] Avg loss: 3.74\n",
      "Validation Results - Epoch[9] Avg loss: 3.74\n",
      "Training Results - Epoch[10] Avg loss: 3.74\n"
     ]
    },
    {
     "name": "stderr",
     "output_type": "stream",
     "text": [
      "2022-01-30 17:14:51,070 ignite.handlers.early_stopping.EarlyStopping INFO: EarlyStopping: Stop training\n",
      "\u001b[32m[I 2022-01-30 17:14:51,071]\u001b[0m Trial 26 finished with value: 3.7395756803600992 and parameters: {'learning_rate': 0.00014849690123590122, 'optimizer': 'SGD', 'latent_dim': 17}. Best is trial 5 with value: 1.4633683968853477.\u001b[0m\n"
     ]
    },
    {
     "name": "stdout",
     "output_type": "stream",
     "text": [
      "Validation Results - Epoch[10] Avg loss: 3.74\n",
      "Training Results - Epoch[1] Avg loss: 2.54\n",
      "Validation Results - Epoch[1] Avg loss: 2.55\n",
      "Training Results - Epoch[2] Avg loss: 2.36\n",
      "Validation Results - Epoch[2] Avg loss: 2.36\n",
      "Training Results - Epoch[3] Avg loss: 2.28\n",
      "Validation Results - Epoch[3] Avg loss: 2.28\n",
      "Training Results - Epoch[4] Avg loss: 2.23\n",
      "Validation Results - Epoch[4] Avg loss: 2.23\n",
      "Training Results - Epoch[5] Avg loss: 2.19\n",
      "Validation Results - Epoch[5] Avg loss: 2.19\n",
      "Training Results - Epoch[6] Avg loss: 2.17\n",
      "Validation Results - Epoch[6] Avg loss: 2.17\n",
      "Training Results - Epoch[7] Avg loss: 2.16\n",
      "Validation Results - Epoch[7] Avg loss: 2.16\n",
      "Training Results - Epoch[8] Avg loss: 2.14\n",
      "Validation Results - Epoch[8] Avg loss: 2.14\n",
      "Training Results - Epoch[9] Avg loss: 2.14\n",
      "Validation Results - Epoch[9] Avg loss: 2.14\n",
      "Training Results - Epoch[10] Avg loss: 2.13\n"
     ]
    },
    {
     "name": "stderr",
     "output_type": "stream",
     "text": [
      "\u001b[32m[I 2022-01-30 17:15:26,397]\u001b[0m Trial 27 finished with value: 2.1351882631415564 and parameters: {'learning_rate': 7.203269027640464e-05, 'optimizer': 'RMSprop', 'latent_dim': 17}. Best is trial 5 with value: 1.4633683968853477.\u001b[0m\n"
     ]
    },
    {
     "name": "stdout",
     "output_type": "stream",
     "text": [
      "Validation Results - Epoch[10] Avg loss: 2.14\n",
      "Training Results - Epoch[1] Avg loss: 1.78\n",
      "Validation Results - Epoch[1] Avg loss: 1.78\n",
      "Training Results - Epoch[2] Avg loss: 1.75\n",
      "Validation Results - Epoch[2] Avg loss: 1.74\n",
      "Training Results - Epoch[3] Avg loss: 1.75\n",
      "Validation Results - Epoch[3] Avg loss: 1.74\n",
      "Training Results - Epoch[4] Avg loss: 1.75\n",
      "Validation Results - Epoch[4] Avg loss: 1.75\n",
      "Training Results - Epoch[5] Avg loss: 1.74\n",
      "Validation Results - Epoch[5] Avg loss: 1.74\n",
      "Training Results - Epoch[6] Avg loss: 1.74\n",
      "Validation Results - Epoch[6] Avg loss: 1.74\n",
      "Training Results - Epoch[7] Avg loss: 1.74\n",
      "Validation Results - Epoch[7] Avg loss: 1.74\n",
      "Training Results - Epoch[8] Avg loss: 1.74\n",
      "Validation Results - Epoch[8] Avg loss: 1.74\n",
      "Training Results - Epoch[9] Avg loss: 1.75\n",
      "Validation Results - Epoch[9] Avg loss: 1.75\n",
      "Training Results - Epoch[10] Avg loss: 1.70\n"
     ]
    },
    {
     "name": "stderr",
     "output_type": "stream",
     "text": [
      "\u001b[32m[I 2022-01-30 17:16:01,897]\u001b[0m Trial 28 finished with value: 1.7020604822019867 and parameters: {'learning_rate': 0.008727828089991077, 'optimizer': 'Adam', 'latent_dim': 12}. Best is trial 5 with value: 1.4633683968853477.\u001b[0m\n"
     ]
    },
    {
     "name": "stdout",
     "output_type": "stream",
     "text": [
      "Validation Results - Epoch[10] Avg loss: 1.70\n",
      "Training Results - Epoch[1] Avg loss: 3.12\n",
      "Validation Results - Epoch[1] Avg loss: 3.11\n",
      "Training Results - Epoch[2] Avg loss: 2.93\n",
      "Validation Results - Epoch[2] Avg loss: 2.93\n",
      "Training Results - Epoch[3] Avg loss: 2.85\n",
      "Validation Results - Epoch[3] Avg loss: 2.85\n",
      "Training Results - Epoch[4] Avg loss: 2.79\n",
      "Validation Results - Epoch[4] Avg loss: 2.80\n",
      "Training Results - Epoch[5] Avg loss: 2.75\n",
      "Validation Results - Epoch[5] Avg loss: 2.75\n",
      "Training Results - Epoch[6] Avg loss: 2.70\n",
      "Validation Results - Epoch[6] Avg loss: 2.70\n",
      "Training Results - Epoch[7] Avg loss: 2.66\n",
      "Validation Results - Epoch[7] Avg loss: 2.66\n",
      "Training Results - Epoch[8] Avg loss: 2.62\n",
      "Validation Results - Epoch[8] Avg loss: 2.62\n",
      "Training Results - Epoch[9] Avg loss: 2.58\n",
      "Validation Results - Epoch[9] Avg loss: 2.57\n",
      "Training Results - Epoch[10] Avg loss: 2.54\n"
     ]
    },
    {
     "name": "stderr",
     "output_type": "stream",
     "text": [
      "\u001b[32m[I 2022-01-30 17:16:38,146]\u001b[0m Trial 29 finished with value: 2.5386709049048015 and parameters: {'learning_rate': 1.3100426246200865e-05, 'optimizer': 'RMSprop', 'latent_dim': 12}. Best is trial 5 with value: 1.4633683968853477.\u001b[0m\n"
     ]
    },
    {
     "name": "stdout",
     "output_type": "stream",
     "text": [
      "Validation Results - Epoch[10] Avg loss: 2.54\n",
      "Training Results - Epoch[1] Avg loss: 3.39\n",
      "Validation Results - Epoch[1] Avg loss: 3.39\n",
      "Training Results - Epoch[2] Avg loss: 3.37\n",
      "Validation Results - Epoch[2] Avg loss: 3.37\n",
      "Training Results - Epoch[3] Avg loss: 3.32\n",
      "Validation Results - Epoch[3] Avg loss: 3.32\n",
      "Training Results - Epoch[4] Avg loss: 3.32\n",
      "Validation Results - Epoch[4] Avg loss: 3.32\n",
      "Training Results - Epoch[5] Avg loss: 3.15\n",
      "Validation Results - Epoch[5] Avg loss: 3.15\n",
      "Training Results - Epoch[6] Avg loss: 1.85\n",
      "Validation Results - Epoch[6] Avg loss: 1.85\n",
      "Training Results - Epoch[7] Avg loss: 1.86\n",
      "Validation Results - Epoch[7] Avg loss: 1.86\n",
      "Training Results - Epoch[8] Avg loss: 1.83\n",
      "Validation Results - Epoch[8] Avg loss: 1.83\n",
      "Training Results - Epoch[9] Avg loss: 1.82\n",
      "Validation Results - Epoch[9] Avg loss: 1.82\n",
      "Training Results - Epoch[10] Avg loss: 1.82\n"
     ]
    },
    {
     "name": "stderr",
     "output_type": "stream",
     "text": [
      "\u001b[32m[I 2022-01-30 17:17:12,582]\u001b[0m Trial 30 finished with value: 1.8219066897764902 and parameters: {'learning_rate': 0.006536242519200968, 'optimizer': 'RMSprop', 'latent_dim': 16}. Best is trial 5 with value: 1.4633683968853477.\u001b[0m\n"
     ]
    },
    {
     "name": "stdout",
     "output_type": "stream",
     "text": [
      "Validation Results - Epoch[10] Avg loss: 1.82\n",
      "Training Results - Epoch[1] Avg loss: 2.65\n",
      "Validation Results - Epoch[1] Avg loss: 2.67\n",
      "Training Results - Epoch[2] Avg loss: 2.44\n",
      "Validation Results - Epoch[2] Avg loss: 2.44\n",
      "Training Results - Epoch[3] Avg loss: 2.34\n",
      "Validation Results - Epoch[3] Avg loss: 2.34\n",
      "Training Results - Epoch[4] Avg loss: 2.29\n",
      "Validation Results - Epoch[4] Avg loss: 2.29\n",
      "Training Results - Epoch[5] Avg loss: 2.22\n",
      "Validation Results - Epoch[5] Avg loss: 2.22\n",
      "Training Results - Epoch[6] Avg loss: 2.19\n",
      "Validation Results - Epoch[6] Avg loss: 2.20\n",
      "Training Results - Epoch[7] Avg loss: 2.17\n",
      "Validation Results - Epoch[7] Avg loss: 2.17\n",
      "Training Results - Epoch[8] Avg loss: 2.15\n",
      "Validation Results - Epoch[8] Avg loss: 2.15\n",
      "Training Results - Epoch[9] Avg loss: 2.13\n",
      "Validation Results - Epoch[9] Avg loss: 2.13\n",
      "Training Results - Epoch[10] Avg loss: 2.12\n"
     ]
    },
    {
     "name": "stderr",
     "output_type": "stream",
     "text": [
      "\u001b[32m[I 2022-01-30 17:17:48,017]\u001b[0m Trial 31 finished with value: 2.121844765366308 and parameters: {'learning_rate': 4.593572937652564e-05, 'optimizer': 'RMSprop', 'latent_dim': 12}. Best is trial 5 with value: 1.4633683968853477.\u001b[0m\n"
     ]
    },
    {
     "name": "stdout",
     "output_type": "stream",
     "text": [
      "Validation Results - Epoch[10] Avg loss: 2.12\n",
      "Training Results - Epoch[1] Avg loss: 1.60\n",
      "Validation Results - Epoch[1] Avg loss: 1.60\n",
      "Training Results - Epoch[2] Avg loss: 1.58\n",
      "Validation Results - Epoch[2] Avg loss: 1.58\n",
      "Training Results - Epoch[3] Avg loss: 1.58\n",
      "Validation Results - Epoch[3] Avg loss: 1.58\n",
      "Training Results - Epoch[4] Avg loss: 1.57\n",
      "Validation Results - Epoch[4] Avg loss: 1.57\n",
      "Training Results - Epoch[5] Avg loss: 1.57\n",
      "Validation Results - Epoch[5] Avg loss: 1.57\n",
      "Training Results - Epoch[6] Avg loss: 1.57\n",
      "Validation Results - Epoch[6] Avg loss: 1.57\n",
      "Training Results - Epoch[7] Avg loss: 1.58\n",
      "Validation Results - Epoch[7] Avg loss: 1.58\n",
      "Training Results - Epoch[8] Avg loss: 1.57\n",
      "Validation Results - Epoch[8] Avg loss: 1.57\n",
      "Training Results - Epoch[9] Avg loss: 1.56\n",
      "Validation Results - Epoch[9] Avg loss: 1.56\n",
      "Training Results - Epoch[10] Avg loss: 1.56\n"
     ]
    },
    {
     "name": "stderr",
     "output_type": "stream",
     "text": [
      "\u001b[32m[I 2022-01-30 17:18:26,518]\u001b[0m Trial 32 finished with value: 1.5594941600269039 and parameters: {'learning_rate': 0.007401041019983139, 'optimizer': 'Adam', 'latent_dim': 14}. Best is trial 5 with value: 1.4633683968853477.\u001b[0m\n"
     ]
    },
    {
     "name": "stdout",
     "output_type": "stream",
     "text": [
      "Validation Results - Epoch[10] Avg loss: 1.56\n",
      "Training Results - Epoch[1] Avg loss: 2.43\n",
      "Validation Results - Epoch[1] Avg loss: 2.43\n",
      "Training Results - Epoch[2] Avg loss: 2.39\n",
      "Validation Results - Epoch[2] Avg loss: 2.39\n",
      "Training Results - Epoch[3] Avg loss: 2.39\n",
      "Validation Results - Epoch[3] Avg loss: 2.39\n",
      "Training Results - Epoch[4] Avg loss: 2.38\n",
      "Validation Results - Epoch[4] Avg loss: 2.38\n",
      "Training Results - Epoch[5] Avg loss: 2.38\n",
      "Validation Results - Epoch[5] Avg loss: 2.38\n",
      "Training Results - Epoch[6] Avg loss: 2.36\n",
      "Validation Results - Epoch[6] Avg loss: 2.36\n",
      "Training Results - Epoch[7] Avg loss: 2.35\n",
      "Validation Results - Epoch[7] Avg loss: 2.34\n",
      "Training Results - Epoch[8] Avg loss: 2.33\n",
      "Validation Results - Epoch[8] Avg loss: 2.33\n",
      "Training Results - Epoch[9] Avg loss: 2.31\n",
      "Validation Results - Epoch[9] Avg loss: 2.31\n",
      "Training Results - Epoch[10] Avg loss: 2.28\n"
     ]
    },
    {
     "name": "stderr",
     "output_type": "stream",
     "text": [
      "\u001b[32m[I 2022-01-30 17:19:01,411]\u001b[0m Trial 33 finished with value: 2.2822493597371687 and parameters: {'learning_rate': 0.0022308147911622657, 'optimizer': 'RMSprop', 'latent_dim': 18}. Best is trial 5 with value: 1.4633683968853477.\u001b[0m\n"
     ]
    },
    {
     "name": "stdout",
     "output_type": "stream",
     "text": [
      "Validation Results - Epoch[10] Avg loss: 2.28\n",
      "Training Results - Epoch[1] Avg loss: 2.52\n",
      "Validation Results - Epoch[1] Avg loss: 2.51\n",
      "Training Results - Epoch[2] Avg loss: 2.37\n",
      "Validation Results - Epoch[2] Avg loss: 2.37\n",
      "Training Results - Epoch[3] Avg loss: 2.24\n",
      "Validation Results - Epoch[3] Avg loss: 2.24\n",
      "Training Results - Epoch[4] Avg loss: 2.24\n",
      "Validation Results - Epoch[4] Avg loss: 2.24\n",
      "Training Results - Epoch[5] Avg loss: 2.17\n",
      "Validation Results - Epoch[5] Avg loss: 2.17\n",
      "Training Results - Epoch[6] Avg loss: 2.15\n",
      "Validation Results - Epoch[6] Avg loss: 2.15\n",
      "Training Results - Epoch[7] Avg loss: 2.14\n",
      "Validation Results - Epoch[7] Avg loss: 2.14\n",
      "Training Results - Epoch[8] Avg loss: 2.14\n",
      "Validation Results - Epoch[8] Avg loss: 2.14\n",
      "Training Results - Epoch[9] Avg loss: 2.14\n",
      "Validation Results - Epoch[9] Avg loss: 2.14\n",
      "Training Results - Epoch[10] Avg loss: 2.13\n"
     ]
    },
    {
     "name": "stderr",
     "output_type": "stream",
     "text": [
      "\u001b[32m[I 2022-01-30 17:19:36,103]\u001b[0m Trial 34 finished with value: 2.1278536967094372 and parameters: {'learning_rate': 7.939790477430058e-05, 'optimizer': 'RMSprop', 'latent_dim': 17}. Best is trial 5 with value: 1.4633683968853477.\u001b[0m\n"
     ]
    },
    {
     "name": "stdout",
     "output_type": "stream",
     "text": [
      "Validation Results - Epoch[10] Avg loss: 2.13\n",
      "Training Results - Epoch[1] Avg loss: 3.53\n",
      "Validation Results - Epoch[1] Avg loss: 3.52\n",
      "Training Results - Epoch[2] Avg loss: 3.53\n",
      "Validation Results - Epoch[2] Avg loss: 3.52\n",
      "Training Results - Epoch[3] Avg loss: 3.53\n",
      "Validation Results - Epoch[3] Avg loss: 3.52\n",
      "Training Results - Epoch[4] Avg loss: 3.53\n",
      "Validation Results - Epoch[4] Avg loss: 3.52\n",
      "Training Results - Epoch[5] Avg loss: 3.53\n",
      "Validation Results - Epoch[5] Avg loss: 3.52\n",
      "Training Results - Epoch[6] Avg loss: 3.52\n",
      "Validation Results - Epoch[6] Avg loss: 3.52\n",
      "Training Results - Epoch[7] Avg loss: 3.52\n",
      "Validation Results - Epoch[7] Avg loss: 3.52\n",
      "Training Results - Epoch[8] Avg loss: 3.52\n",
      "Validation Results - Epoch[8] Avg loss: 3.52\n",
      "Training Results - Epoch[9] Avg loss: 3.52\n",
      "Validation Results - Epoch[9] Avg loss: 3.52\n",
      "Training Results - Epoch[10] Avg loss: 3.52\n"
     ]
    },
    {
     "name": "stderr",
     "output_type": "stream",
     "text": [
      "\u001b[32m[I 2022-01-30 17:20:13,690]\u001b[0m Trial 35 finished with value: 3.5195522687293046 and parameters: {'learning_rate': 0.0566665033796968, 'optimizer': 'Adam', 'latent_dim': 12}. Best is trial 5 with value: 1.4633683968853477.\u001b[0m\n"
     ]
    },
    {
     "name": "stdout",
     "output_type": "stream",
     "text": [
      "Validation Results - Epoch[10] Avg loss: 3.52\n",
      "Training Results - Epoch[1] Avg loss: 3.48\n",
      "Validation Results - Epoch[1] Avg loss: 3.48\n",
      "Training Results - Epoch[2] Avg loss: 3.14\n",
      "Validation Results - Epoch[2] Avg loss: 3.14\n",
      "Training Results - Epoch[3] Avg loss: 3.11\n",
      "Validation Results - Epoch[3] Avg loss: 3.11\n",
      "Training Results - Epoch[4] Avg loss: 3.11\n",
      "Validation Results - Epoch[4] Avg loss: 3.10\n",
      "Training Results - Epoch[5] Avg loss: 3.11\n",
      "Validation Results - Epoch[5] Avg loss: 3.10\n",
      "Training Results - Epoch[6] Avg loss: 3.10\n",
      "Validation Results - Epoch[6] Avg loss: 3.10\n",
      "Training Results - Epoch[7] Avg loss: 1.43\n",
      "Validation Results - Epoch[7] Avg loss: 1.43\n",
      "Training Results - Epoch[8] Avg loss: 1.30\n",
      "Validation Results - Epoch[8] Avg loss: 1.30\n",
      "Training Results - Epoch[9] Avg loss: 1.29\n",
      "Validation Results - Epoch[9] Avg loss: 1.29\n",
      "Training Results - Epoch[10] Avg loss: 1.29\n"
     ]
    },
    {
     "name": "stderr",
     "output_type": "stream",
     "text": [
      "\u001b[32m[I 2022-01-30 17:20:52,057]\u001b[0m Trial 36 finished with value: 1.2893139163389902 and parameters: {'learning_rate': 0.012281765756061536, 'optimizer': 'Adam', 'latent_dim': 12}. Best is trial 36 with value: 1.2893139163389902.\u001b[0m\n"
     ]
    },
    {
     "name": "stdout",
     "output_type": "stream",
     "text": [
      "Validation Results - Epoch[10] Avg loss: 1.29\n",
      "Training Results - Epoch[1] Avg loss: 3.73\n",
      "Validation Results - Epoch[1] Avg loss: 3.73\n",
      "Training Results - Epoch[2] Avg loss: 3.50\n",
      "Validation Results - Epoch[2] Avg loss: 3.50\n",
      "Training Results - Epoch[3] Avg loss: 2.81\n",
      "Validation Results - Epoch[3] Avg loss: 2.82\n",
      "Training Results - Epoch[4] Avg loss: 2.67\n",
      "Validation Results - Epoch[4] Avg loss: 2.66\n",
      "Training Results - Epoch[5] Avg loss: 2.60\n",
      "Validation Results - Epoch[5] Avg loss: 2.60\n",
      "Training Results - Epoch[6] Avg loss: 2.55\n",
      "Validation Results - Epoch[6] Avg loss: 2.55\n",
      "Training Results - Epoch[7] Avg loss: 2.53\n",
      "Validation Results - Epoch[7] Avg loss: 2.53\n",
      "Training Results - Epoch[8] Avg loss: 2.54\n",
      "Validation Results - Epoch[8] Avg loss: 2.53\n",
      "Training Results - Epoch[9] Avg loss: 2.48\n",
      "Validation Results - Epoch[9] Avg loss: 2.48\n",
      "Training Results - Epoch[10] Avg loss: 2.47\n"
     ]
    },
    {
     "name": "stderr",
     "output_type": "stream",
     "text": [
      "\u001b[32m[I 2022-01-30 17:21:26,408]\u001b[0m Trial 37 finished with value: 2.4693322188017386 and parameters: {'learning_rate': 0.06114381997190269, 'optimizer': 'SGD', 'latent_dim': 18}. Best is trial 36 with value: 1.2893139163389902.\u001b[0m\n"
     ]
    },
    {
     "name": "stdout",
     "output_type": "stream",
     "text": [
      "Validation Results - Epoch[10] Avg loss: 2.47\n",
      "Training Results - Epoch[1] Avg loss: 3.74\n",
      "Validation Results - Epoch[1] Avg loss: 3.74\n",
      "Training Results - Epoch[2] Avg loss: 3.74\n",
      "Validation Results - Epoch[2] Avg loss: 3.74\n",
      "Training Results - Epoch[3] Avg loss: 3.74\n",
      "Validation Results - Epoch[3] Avg loss: 3.74\n",
      "Training Results - Epoch[4] Avg loss: 3.74\n",
      "Validation Results - Epoch[4] Avg loss: 3.74\n",
      "Training Results - Epoch[5] Avg loss: 3.74\n",
      "Validation Results - Epoch[5] Avg loss: 3.74\n",
      "Training Results - Epoch[6] Avg loss: 3.74\n"
     ]
    },
    {
     "name": "stderr",
     "output_type": "stream",
     "text": [
      "2022-01-30 17:21:42,031 ignite.handlers.early_stopping.EarlyStopping INFO: EarlyStopping: Stop training\n",
      "\u001b[32m[I 2022-01-30 17:21:42,033]\u001b[0m Trial 38 finished with value: 3.7389897428600993 and parameters: {'learning_rate': 0.00019929203259114588, 'optimizer': 'SGD', 'latent_dim': 13}. Best is trial 36 with value: 1.2893139163389902.\u001b[0m\n"
     ]
    },
    {
     "name": "stdout",
     "output_type": "stream",
     "text": [
      "Validation Results - Epoch[6] Avg loss: 3.74\n",
      "Training Results - Epoch[1] Avg loss: 1.45\n",
      "Validation Results - Epoch[1] Avg loss: 1.45\n",
      "Training Results - Epoch[2] Avg loss: 1.44\n",
      "Validation Results - Epoch[2] Avg loss: 1.44\n",
      "Training Results - Epoch[3] Avg loss: 1.44\n",
      "Validation Results - Epoch[3] Avg loss: 1.44\n",
      "Training Results - Epoch[4] Avg loss: 1.44\n",
      "Validation Results - Epoch[4] Avg loss: 1.44\n",
      "Training Results - Epoch[5] Avg loss: 1.45\n",
      "Validation Results - Epoch[5] Avg loss: 1.45\n",
      "Training Results - Epoch[6] Avg loss: 1.44\n"
     ]
    },
    {
     "name": "stderr",
     "output_type": "stream",
     "text": [
      "2022-01-30 17:22:03,010 ignite.handlers.early_stopping.EarlyStopping INFO: EarlyStopping: Stop training\n",
      "\u001b[32m[I 2022-01-30 17:22:03,011]\u001b[0m Trial 39 finished with value: 1.436566606736341 and parameters: {'learning_rate': 0.007571591396509692, 'optimizer': 'Adam', 'latent_dim': 13}. Best is trial 36 with value: 1.2893139163389902.\u001b[0m\n"
     ]
    },
    {
     "name": "stdout",
     "output_type": "stream",
     "text": [
      "Validation Results - Epoch[6] Avg loss: 1.44\n",
      "Training Results - Epoch[1] Avg loss: 2.44\n",
      "Validation Results - Epoch[1] Avg loss: 2.44\n",
      "Training Results - Epoch[2] Avg loss: 2.38\n",
      "Validation Results - Epoch[2] Avg loss: 2.39\n",
      "Training Results - Epoch[3] Avg loss: 2.26\n",
      "Validation Results - Epoch[3] Avg loss: 2.25\n",
      "Training Results - Epoch[4] Avg loss: 2.20\n",
      "Validation Results - Epoch[4] Avg loss: 2.20\n",
      "Training Results - Epoch[5] Avg loss: 2.18\n",
      "Validation Results - Epoch[5] Avg loss: 2.18\n",
      "Training Results - Epoch[6] Avg loss: 2.16\n",
      "Validation Results - Epoch[6] Avg loss: 2.16\n",
      "Training Results - Epoch[7] Avg loss: 2.15\n",
      "Validation Results - Epoch[7] Avg loss: 2.15\n",
      "Training Results - Epoch[8] Avg loss: 2.14\n",
      "Validation Results - Epoch[8] Avg loss: 2.14\n",
      "Training Results - Epoch[9] Avg loss: 2.14\n",
      "Validation Results - Epoch[9] Avg loss: 2.14\n",
      "Training Results - Epoch[10] Avg loss: 2.14\n"
     ]
    },
    {
     "name": "stderr",
     "output_type": "stream",
     "text": [
      "\u001b[32m[I 2022-01-30 17:22:38,024]\u001b[0m Trial 40 finished with value: 2.1367751772040564 and parameters: {'learning_rate': 8.486315718876788e-05, 'optimizer': 'RMSprop', 'latent_dim': 10}. Best is trial 36 with value: 1.2893139163389902.\u001b[0m\n"
     ]
    },
    {
     "name": "stdout",
     "output_type": "stream",
     "text": [
      "Validation Results - Epoch[10] Avg loss: 2.14\n",
      "Training Results - Epoch[1] Avg loss: 2.96\n",
      "Validation Results - Epoch[1] Avg loss: 2.96\n",
      "Training Results - Epoch[2] Avg loss: 2.84\n",
      "Validation Results - Epoch[2] Avg loss: 2.84\n",
      "Training Results - Epoch[3] Avg loss: 2.77\n",
      "Validation Results - Epoch[3] Avg loss: 2.77\n",
      "Training Results - Epoch[4] Avg loss: 2.71\n",
      "Validation Results - Epoch[4] Avg loss: 2.70\n",
      "Training Results - Epoch[5] Avg loss: 2.65\n",
      "Validation Results - Epoch[5] Avg loss: 2.66\n",
      "Training Results - Epoch[6] Avg loss: 2.60\n",
      "Validation Results - Epoch[6] Avg loss: 2.60\n",
      "Training Results - Epoch[7] Avg loss: 2.55\n",
      "Validation Results - Epoch[7] Avg loss: 2.55\n",
      "Training Results - Epoch[8] Avg loss: 2.51\n",
      "Validation Results - Epoch[8] Avg loss: 2.51\n",
      "Training Results - Epoch[9] Avg loss: 2.48\n",
      "Validation Results - Epoch[9] Avg loss: 2.48\n",
      "Training Results - Epoch[10] Avg loss: 2.46\n"
     ]
    },
    {
     "name": "stderr",
     "output_type": "stream",
     "text": [
      "\u001b[32m[I 2022-01-30 17:23:13,939]\u001b[0m Trial 41 finished with value: 2.4523930631725994 and parameters: {'learning_rate': 1.71834199020227e-05, 'optimizer': 'RMSprop', 'latent_dim': 20}. Best is trial 36 with value: 1.2893139163389902.\u001b[0m\n"
     ]
    },
    {
     "name": "stdout",
     "output_type": "stream",
     "text": [
      "Validation Results - Epoch[10] Avg loss: 2.45\n",
      "Training Results - Epoch[1] Avg loss: 2.45\n",
      "Validation Results - Epoch[1] Avg loss: 2.44\n",
      "Training Results - Epoch[2] Avg loss: 2.18\n",
      "Validation Results - Epoch[2] Avg loss: 2.18\n",
      "Training Results - Epoch[3] Avg loss: 2.10\n",
      "Validation Results - Epoch[3] Avg loss: 2.10\n",
      "Training Results - Epoch[4] Avg loss: 2.08\n",
      "Validation Results - Epoch[4] Avg loss: 2.08\n",
      "Training Results - Epoch[5] Avg loss: 2.08\n",
      "Validation Results - Epoch[5] Avg loss: 2.08\n",
      "Training Results - Epoch[6] Avg loss: 2.07\n",
      "Validation Results - Epoch[6] Avg loss: 2.07\n",
      "Training Results - Epoch[7] Avg loss: 2.06\n",
      "Validation Results - Epoch[7] Avg loss: 2.06\n",
      "Training Results - Epoch[8] Avg loss: 2.05\n",
      "Validation Results - Epoch[8] Avg loss: 2.05\n",
      "Training Results - Epoch[9] Avg loss: 2.04\n",
      "Validation Results - Epoch[9] Avg loss: 2.04\n",
      "Training Results - Epoch[10] Avg loss: 2.03\n"
     ]
    },
    {
     "name": "stderr",
     "output_type": "stream",
     "text": [
      "\u001b[32m[I 2022-01-30 17:23:55,930]\u001b[0m Trial 42 finished with value: 2.0285781961403146 and parameters: {'learning_rate': 0.00033087141316739916, 'optimizer': 'Adam', 'latent_dim': 11}. Best is trial 36 with value: 1.2893139163389902.\u001b[0m\n"
     ]
    },
    {
     "name": "stdout",
     "output_type": "stream",
     "text": [
      "Validation Results - Epoch[10] Avg loss: 2.03\n",
      "Training Results - Epoch[1] Avg loss: 3.74\n",
      "Validation Results - Epoch[1] Avg loss: 3.74\n",
      "Training Results - Epoch[2] Avg loss: 3.74\n",
      "Validation Results - Epoch[2] Avg loss: 3.73\n",
      "Training Results - Epoch[3] Avg loss: 3.73\n",
      "Validation Results - Epoch[3] Avg loss: 3.73\n",
      "Training Results - Epoch[4] Avg loss: 3.73\n",
      "Validation Results - Epoch[4] Avg loss: 3.73\n",
      "Training Results - Epoch[5] Avg loss: 3.71\n",
      "Validation Results - Epoch[5] Avg loss: 3.71\n",
      "Training Results - Epoch[6] Avg loss: 3.62\n",
      "Validation Results - Epoch[6] Avg loss: 3.61\n",
      "Training Results - Epoch[7] Avg loss: 2.93\n",
      "Validation Results - Epoch[7] Avg loss: 2.93\n",
      "Training Results - Epoch[8] Avg loss: 2.79\n",
      "Validation Results - Epoch[8] Avg loss: 2.79\n",
      "Training Results - Epoch[9] Avg loss: 2.72\n",
      "Validation Results - Epoch[9] Avg loss: 2.72\n",
      "Training Results - Epoch[10] Avg loss: 2.66\n"
     ]
    },
    {
     "name": "stderr",
     "output_type": "stream",
     "text": [
      "\u001b[32m[I 2022-01-30 17:24:28,414]\u001b[0m Trial 43 finished with value: 2.656453073261589 and parameters: {'learning_rate': 0.02719004665241042, 'optimizer': 'SGD', 'latent_dim': 15}. Best is trial 36 with value: 1.2893139163389902.\u001b[0m\n"
     ]
    },
    {
     "name": "stdout",
     "output_type": "stream",
     "text": [
      "Validation Results - Epoch[10] Avg loss: 2.66\n",
      "Training Results - Epoch[1] Avg loss: 3.42\n",
      "Validation Results - Epoch[1] Avg loss: 3.43\n",
      "Training Results - Epoch[2] Avg loss: 1.64\n",
      "Validation Results - Epoch[2] Avg loss: 1.63\n",
      "Training Results - Epoch[3] Avg loss: 1.57\n",
      "Validation Results - Epoch[3] Avg loss: 1.57\n",
      "Training Results - Epoch[4] Avg loss: 1.57\n",
      "Validation Results - Epoch[4] Avg loss: 1.57\n",
      "Training Results - Epoch[5] Avg loss: 1.60\n",
      "Validation Results - Epoch[5] Avg loss: 1.60\n",
      "Training Results - Epoch[6] Avg loss: 1.58\n",
      "Validation Results - Epoch[6] Avg loss: 1.58\n",
      "Training Results - Epoch[7] Avg loss: 1.58\n"
     ]
    },
    {
     "name": "stderr",
     "output_type": "stream",
     "text": [
      "2022-01-30 17:24:51,638 ignite.handlers.early_stopping.EarlyStopping INFO: EarlyStopping: Stop training\n",
      "\u001b[32m[I 2022-01-30 17:24:51,639]\u001b[0m Trial 44 finished with value: 1.5692473354718544 and parameters: {'learning_rate': 0.007946352714320384, 'optimizer': 'RMSprop', 'latent_dim': 11}. Best is trial 36 with value: 1.2893139163389902.\u001b[0m\n"
     ]
    },
    {
     "name": "stdout",
     "output_type": "stream",
     "text": [
      "Validation Results - Epoch[7] Avg loss: 1.58\n",
      "Training Results - Epoch[1] Avg loss: 2.74\n",
      "Validation Results - Epoch[1] Avg loss: 2.74\n",
      "Training Results - Epoch[2] Avg loss: 2.43\n",
      "Validation Results - Epoch[2] Avg loss: 2.43\n",
      "Training Results - Epoch[3] Avg loss: 2.27\n",
      "Validation Results - Epoch[3] Avg loss: 2.27\n",
      "Training Results - Epoch[4] Avg loss: 2.17\n",
      "Validation Results - Epoch[4] Avg loss: 2.17\n",
      "Training Results - Epoch[5] Avg loss: 2.11\n",
      "Validation Results - Epoch[5] Avg loss: 2.11\n",
      "Training Results - Epoch[6] Avg loss: 2.08\n",
      "Validation Results - Epoch[6] Avg loss: 2.08\n",
      "Training Results - Epoch[7] Avg loss: 2.06\n",
      "Validation Results - Epoch[7] Avg loss: 2.06\n",
      "Training Results - Epoch[8] Avg loss: 2.05\n",
      "Validation Results - Epoch[8] Avg loss: 2.05\n",
      "Training Results - Epoch[9] Avg loss: 2.03\n",
      "Validation Results - Epoch[9] Avg loss: 2.03\n",
      "Training Results - Epoch[10] Avg loss: 2.03\n"
     ]
    },
    {
     "name": "stderr",
     "output_type": "stream",
     "text": [
      "\u001b[32m[I 2022-01-30 17:25:31,364]\u001b[0m Trial 45 finished with value: 2.032309505639487 and parameters: {'learning_rate': 0.00010796781170260002, 'optimizer': 'Adam', 'latent_dim': 15}. Best is trial 36 with value: 1.2893139163389902.\u001b[0m\n"
     ]
    },
    {
     "name": "stdout",
     "output_type": "stream",
     "text": [
      "Validation Results - Epoch[10] Avg loss: 2.03\n",
      "Training Results - Epoch[1] Avg loss: 2.35\n",
      "Validation Results - Epoch[1] Avg loss: 2.34\n",
      "Training Results - Epoch[2] Avg loss: 2.22\n",
      "Validation Results - Epoch[2] Avg loss: 2.22\n",
      "Training Results - Epoch[3] Avg loss: 2.13\n",
      "Validation Results - Epoch[3] Avg loss: 2.13\n",
      "Training Results - Epoch[4] Avg loss: 2.09\n",
      "Validation Results - Epoch[4] Avg loss: 2.09\n",
      "Training Results - Epoch[5] Avg loss: 2.07\n",
      "Validation Results - Epoch[5] Avg loss: 2.07\n",
      "Training Results - Epoch[6] Avg loss: 2.07\n",
      "Validation Results - Epoch[6] Avg loss: 2.07\n",
      "Training Results - Epoch[7] Avg loss: 2.05\n",
      "Validation Results - Epoch[7] Avg loss: 2.05\n",
      "Training Results - Epoch[8] Avg loss: 2.05\n",
      "Validation Results - Epoch[8] Avg loss: 2.05\n",
      "Training Results - Epoch[9] Avg loss: 2.05\n",
      "Validation Results - Epoch[9] Avg loss: 2.05\n",
      "Training Results - Epoch[10] Avg loss: 2.04\n"
     ]
    },
    {
     "name": "stderr",
     "output_type": "stream",
     "text": [
      "\u001b[32m[I 2022-01-30 17:26:04,787]\u001b[0m Trial 46 finished with value: 2.044044100527732 and parameters: {'learning_rate': 0.00012625261930528718, 'optimizer': 'RMSprop', 'latent_dim': 18}. Best is trial 36 with value: 1.2893139163389902.\u001b[0m\n"
     ]
    },
    {
     "name": "stdout",
     "output_type": "stream",
     "text": [
      "Validation Results - Epoch[10] Avg loss: 2.04\n",
      "Training Results - Epoch[1] Avg loss: 2.33\n",
      "Validation Results - Epoch[1] Avg loss: 2.33\n",
      "Training Results - Epoch[2] Avg loss: 2.12\n",
      "Validation Results - Epoch[2] Avg loss: 2.12\n",
      "Training Results - Epoch[3] Avg loss: 2.08\n",
      "Validation Results - Epoch[3] Avg loss: 2.08\n",
      "Training Results - Epoch[4] Avg loss: 2.06\n",
      "Validation Results - Epoch[4] Avg loss: 2.06\n",
      "Training Results - Epoch[5] Avg loss: 2.04\n",
      "Validation Results - Epoch[5] Avg loss: 2.04\n",
      "Training Results - Epoch[6] Avg loss: 2.03\n",
      "Validation Results - Epoch[6] Avg loss: 2.03\n",
      "Training Results - Epoch[7] Avg loss: 2.02\n",
      "Validation Results - Epoch[7] Avg loss: 2.02\n",
      "Training Results - Epoch[8] Avg loss: 2.02\n",
      "Validation Results - Epoch[8] Avg loss: 2.02\n",
      "Training Results - Epoch[9] Avg loss: 2.01\n",
      "Validation Results - Epoch[9] Avg loss: 2.01\n",
      "Training Results - Epoch[10] Avg loss: 2.00\n"
     ]
    },
    {
     "name": "stderr",
     "output_type": "stream",
     "text": [
      "\u001b[32m[I 2022-01-30 17:26:45,723]\u001b[0m Trial 47 finished with value: 1.9976271471440397 and parameters: {'learning_rate': 0.0004361386109006823, 'optimizer': 'Adam', 'latent_dim': 15}. Best is trial 36 with value: 1.2893139163389902.\u001b[0m\n"
     ]
    },
    {
     "name": "stdout",
     "output_type": "stream",
     "text": [
      "Validation Results - Epoch[10] Avg loss: 2.00\n",
      "Training Results - Epoch[1] Avg loss: 2.86\n",
      "Validation Results - Epoch[1] Avg loss: 2.85\n",
      "Training Results - Epoch[2] Avg loss: 2.57\n",
      "Validation Results - Epoch[2] Avg loss: 2.57\n",
      "Training Results - Epoch[3] Avg loss: 2.39\n",
      "Validation Results - Epoch[3] Avg loss: 2.40\n",
      "Training Results - Epoch[4] Avg loss: 2.29\n",
      "Validation Results - Epoch[4] Avg loss: 2.29\n",
      "Training Results - Epoch[5] Avg loss: 2.23\n",
      "Validation Results - Epoch[5] Avg loss: 2.23\n",
      "Training Results - Epoch[6] Avg loss: 2.19\n",
      "Validation Results - Epoch[6] Avg loss: 2.19\n",
      "Training Results - Epoch[7] Avg loss: 2.16\n",
      "Validation Results - Epoch[7] Avg loss: 2.15\n",
      "Training Results - Epoch[8] Avg loss: 2.13\n",
      "Validation Results - Epoch[8] Avg loss: 2.13\n",
      "Training Results - Epoch[9] Avg loss: 2.12\n",
      "Validation Results - Epoch[9] Avg loss: 2.12\n",
      "Training Results - Epoch[10] Avg loss: 2.11\n"
     ]
    },
    {
     "name": "stderr",
     "output_type": "stream",
     "text": [
      "\u001b[32m[I 2022-01-30 17:27:26,335]\u001b[0m Trial 48 finished with value: 2.1090344965852648 and parameters: {'learning_rate': 8.000375231522993e-05, 'optimizer': 'Adam', 'latent_dim': 19}. Best is trial 36 with value: 1.2893139163389902.\u001b[0m\n"
     ]
    },
    {
     "name": "stdout",
     "output_type": "stream",
     "text": [
      "Validation Results - Epoch[10] Avg loss: 2.11\n",
      "Training Results - Epoch[1] Avg loss: 1.73\n",
      "Validation Results - Epoch[1] Avg loss: 1.73\n",
      "Training Results - Epoch[2] Avg loss: 1.65\n",
      "Validation Results - Epoch[2] Avg loss: 1.65\n",
      "Training Results - Epoch[3] Avg loss: 1.64\n",
      "Validation Results - Epoch[3] Avg loss: 1.64\n",
      "Training Results - Epoch[4] Avg loss: 1.63\n",
      "Validation Results - Epoch[4] Avg loss: 1.63\n",
      "Training Results - Epoch[5] Avg loss: 1.62\n",
      "Validation Results - Epoch[5] Avg loss: 1.62\n",
      "Training Results - Epoch[6] Avg loss: 1.60\n",
      "Validation Results - Epoch[6] Avg loss: 1.60\n",
      "Training Results - Epoch[7] Avg loss: 1.59\n",
      "Validation Results - Epoch[7] Avg loss: 1.59\n",
      "Training Results - Epoch[8] Avg loss: 1.57\n",
      "Validation Results - Epoch[8] Avg loss: 1.57\n",
      "Training Results - Epoch[9] Avg loss: 1.55\n",
      "Validation Results - Epoch[9] Avg loss: 1.55\n",
      "Training Results - Epoch[10] Avg loss: 1.53\n"
     ]
    },
    {
     "name": "stderr",
     "output_type": "stream",
     "text": [
      "\u001b[32m[I 2022-01-30 17:28:09,842]\u001b[0m Trial 49 finished with value: 1.5342475941639073 and parameters: {'learning_rate': 0.0027984499682895286, 'optimizer': 'Adam', 'latent_dim': 16}. Best is trial 36 with value: 1.2893139163389902.\u001b[0m\n"
     ]
    },
    {
     "name": "stdout",
     "output_type": "stream",
     "text": [
      "Validation Results - Epoch[10] Avg loss: 1.53\n"
     ]
    }
   ],
   "source": [
    "n_trials = 2\n",
    "\n",
    "study_ml, df_tuning_results_ml = tune_params(\n",
    "    model_name='AutoRec', \n",
    "    dataset_name='movielens', \n",
    "    max_epochs=max_epochs_ml,\n",
    "    n_trials=n_trials,\n",
    "    device=device\n",
    "    )"
   ]
  },
  {
   "cell_type": "code",
   "execution_count": 13,
   "metadata": {},
   "outputs": [
    {
     "data": {
      "text/html": [
       "<div>\n",
       "<style scoped>\n",
       "    .dataframe tbody tr th:only-of-type {\n",
       "        vertical-align: middle;\n",
       "    }\n",
       "\n",
       "    .dataframe tbody tr th {\n",
       "        vertical-align: top;\n",
       "    }\n",
       "\n",
       "    .dataframe thead th {\n",
       "        text-align: right;\n",
       "    }\n",
       "</style>\n",
       "<table border=\"1\" class=\"dataframe\">\n",
       "  <thead>\n",
       "    <tr style=\"text-align: right;\">\n",
       "      <th></th>\n",
       "      <th>number</th>\n",
       "      <th>value</th>\n",
       "      <th>datetime_start</th>\n",
       "      <th>datetime_complete</th>\n",
       "      <th>duration</th>\n",
       "      <th>params_latent_dim</th>\n",
       "      <th>params_learning_rate</th>\n",
       "      <th>params_optimizer</th>\n",
       "      <th>state</th>\n",
       "    </tr>\n",
       "  </thead>\n",
       "  <tbody>\n",
       "    <tr>\n",
       "      <th>36</th>\n",
       "      <td>36</td>\n",
       "      <td>1.289314</td>\n",
       "      <td>2022-01-30 17:20:13.691001</td>\n",
       "      <td>2022-01-30 17:20:52.057473</td>\n",
       "      <td>0 days 00:00:38.366472</td>\n",
       "      <td>12</td>\n",
       "      <td>0.012282</td>\n",
       "      <td>Adam</td>\n",
       "      <td>COMPLETE</td>\n",
       "    </tr>\n",
       "    <tr>\n",
       "      <th>39</th>\n",
       "      <td>39</td>\n",
       "      <td>1.436567</td>\n",
       "      <td>2022-01-30 17:21:42.034270</td>\n",
       "      <td>2022-01-30 17:22:03.011649</td>\n",
       "      <td>0 days 00:00:20.977379</td>\n",
       "      <td>13</td>\n",
       "      <td>0.007572</td>\n",
       "      <td>Adam</td>\n",
       "      <td>COMPLETE</td>\n",
       "    </tr>\n",
       "    <tr>\n",
       "      <th>5</th>\n",
       "      <td>5</td>\n",
       "      <td>1.463368</td>\n",
       "      <td>2022-01-30 17:01:12.785378</td>\n",
       "      <td>2022-01-30 17:02:04.007814</td>\n",
       "      <td>0 days 00:00:51.222436</td>\n",
       "      <td>15</td>\n",
       "      <td>0.008140</td>\n",
       "      <td>Adam</td>\n",
       "      <td>COMPLETE</td>\n",
       "    </tr>\n",
       "    <tr>\n",
       "      <th>25</th>\n",
       "      <td>25</td>\n",
       "      <td>1.496162</td>\n",
       "      <td>2022-01-30 17:13:45.379711</td>\n",
       "      <td>2022-01-30 17:14:24.324446</td>\n",
       "      <td>0 days 00:00:38.944735</td>\n",
       "      <td>14</td>\n",
       "      <td>0.003934</td>\n",
       "      <td>Adam</td>\n",
       "      <td>COMPLETE</td>\n",
       "    </tr>\n",
       "    <tr>\n",
       "      <th>49</th>\n",
       "      <td>49</td>\n",
       "      <td>1.534248</td>\n",
       "      <td>2022-01-30 17:27:26.335691</td>\n",
       "      <td>2022-01-30 17:28:09.842407</td>\n",
       "      <td>0 days 00:00:43.506716</td>\n",
       "      <td>16</td>\n",
       "      <td>0.002798</td>\n",
       "      <td>Adam</td>\n",
       "      <td>COMPLETE</td>\n",
       "    </tr>\n",
       "    <tr>\n",
       "      <th>32</th>\n",
       "      <td>32</td>\n",
       "      <td>1.559494</td>\n",
       "      <td>2022-01-30 17:17:48.018577</td>\n",
       "      <td>2022-01-30 17:18:26.517901</td>\n",
       "      <td>0 days 00:00:38.499324</td>\n",
       "      <td>14</td>\n",
       "      <td>0.007401</td>\n",
       "      <td>Adam</td>\n",
       "      <td>COMPLETE</td>\n",
       "    </tr>\n",
       "    <tr>\n",
       "      <th>44</th>\n",
       "      <td>44</td>\n",
       "      <td>1.569247</td>\n",
       "      <td>2022-01-30 17:24:28.414600</td>\n",
       "      <td>2022-01-30 17:24:51.639402</td>\n",
       "      <td>0 days 00:00:23.224802</td>\n",
       "      <td>11</td>\n",
       "      <td>0.007946</td>\n",
       "      <td>RMSprop</td>\n",
       "      <td>COMPLETE</td>\n",
       "    </tr>\n",
       "    <tr>\n",
       "      <th>18</th>\n",
       "      <td>18</td>\n",
       "      <td>1.577718</td>\n",
       "      <td>2022-01-30 17:09:30.138878</td>\n",
       "      <td>2022-01-30 17:10:10.282657</td>\n",
       "      <td>0 days 00:00:40.143779</td>\n",
       "      <td>12</td>\n",
       "      <td>0.001297</td>\n",
       "      <td>Adam</td>\n",
       "      <td>COMPLETE</td>\n",
       "    </tr>\n",
       "    <tr>\n",
       "      <th>0</th>\n",
       "      <td>0</td>\n",
       "      <td>1.621604</td>\n",
       "      <td>2022-01-30 16:57:01.586365</td>\n",
       "      <td>2022-01-30 16:57:56.332826</td>\n",
       "      <td>0 days 00:00:54.746461</td>\n",
       "      <td>14</td>\n",
       "      <td>0.026910</td>\n",
       "      <td>Adam</td>\n",
       "      <td>COMPLETE</td>\n",
       "    </tr>\n",
       "    <tr>\n",
       "      <th>17</th>\n",
       "      <td>17</td>\n",
       "      <td>1.684360</td>\n",
       "      <td>2022-01-30 17:08:52.448588</td>\n",
       "      <td>2022-01-30 17:09:30.136815</td>\n",
       "      <td>0 days 00:00:37.688227</td>\n",
       "      <td>13</td>\n",
       "      <td>0.011329</td>\n",
       "      <td>Adam</td>\n",
       "      <td>COMPLETE</td>\n",
       "    </tr>\n",
       "    <tr>\n",
       "      <th>28</th>\n",
       "      <td>28</td>\n",
       "      <td>1.702060</td>\n",
       "      <td>2022-01-30 17:15:26.398319</td>\n",
       "      <td>2022-01-30 17:16:01.897506</td>\n",
       "      <td>0 days 00:00:35.499187</td>\n",
       "      <td>12</td>\n",
       "      <td>0.008728</td>\n",
       "      <td>Adam</td>\n",
       "      <td>COMPLETE</td>\n",
       "    </tr>\n",
       "    <tr>\n",
       "      <th>3</th>\n",
       "      <td>3</td>\n",
       "      <td>1.716578</td>\n",
       "      <td>2022-01-30 16:59:37.830098</td>\n",
       "      <td>2022-01-30 17:00:39.502439</td>\n",
       "      <td>0 days 00:01:01.672341</td>\n",
       "      <td>15</td>\n",
       "      <td>0.000833</td>\n",
       "      <td>Adam</td>\n",
       "      <td>COMPLETE</td>\n",
       "    </tr>\n",
       "    <tr>\n",
       "      <th>15</th>\n",
       "      <td>15</td>\n",
       "      <td>1.740657</td>\n",
       "      <td>2022-01-30 17:07:38.578632</td>\n",
       "      <td>2022-01-30 17:08:18.586149</td>\n",
       "      <td>0 days 00:00:40.007517</td>\n",
       "      <td>14</td>\n",
       "      <td>0.001067</td>\n",
       "      <td>Adam</td>\n",
       "      <td>COMPLETE</td>\n",
       "    </tr>\n",
       "    <tr>\n",
       "      <th>30</th>\n",
       "      <td>30</td>\n",
       "      <td>1.821907</td>\n",
       "      <td>2022-01-30 17:16:38.146949</td>\n",
       "      <td>2022-01-30 17:17:12.582170</td>\n",
       "      <td>0 days 00:00:34.435221</td>\n",
       "      <td>16</td>\n",
       "      <td>0.006536</td>\n",
       "      <td>RMSprop</td>\n",
       "      <td>COMPLETE</td>\n",
       "    </tr>\n",
       "    <tr>\n",
       "      <th>24</th>\n",
       "      <td>24</td>\n",
       "      <td>1.972185</td>\n",
       "      <td>2022-01-30 17:13:12.565816</td>\n",
       "      <td>2022-01-30 17:13:45.378855</td>\n",
       "      <td>0 days 00:00:32.813039</td>\n",
       "      <td>17</td>\n",
       "      <td>0.000101</td>\n",
       "      <td>RMSprop</td>\n",
       "      <td>COMPLETE</td>\n",
       "    </tr>\n",
       "  </tbody>\n",
       "</table>\n",
       "</div>"
      ],
      "text/plain": [
       "    number     value             datetime_start          datetime_complete  \\\n",
       "36      36  1.289314 2022-01-30 17:20:13.691001 2022-01-30 17:20:52.057473   \n",
       "39      39  1.436567 2022-01-30 17:21:42.034270 2022-01-30 17:22:03.011649   \n",
       "5        5  1.463368 2022-01-30 17:01:12.785378 2022-01-30 17:02:04.007814   \n",
       "25      25  1.496162 2022-01-30 17:13:45.379711 2022-01-30 17:14:24.324446   \n",
       "49      49  1.534248 2022-01-30 17:27:26.335691 2022-01-30 17:28:09.842407   \n",
       "32      32  1.559494 2022-01-30 17:17:48.018577 2022-01-30 17:18:26.517901   \n",
       "44      44  1.569247 2022-01-30 17:24:28.414600 2022-01-30 17:24:51.639402   \n",
       "18      18  1.577718 2022-01-30 17:09:30.138878 2022-01-30 17:10:10.282657   \n",
       "0        0  1.621604 2022-01-30 16:57:01.586365 2022-01-30 16:57:56.332826   \n",
       "17      17  1.684360 2022-01-30 17:08:52.448588 2022-01-30 17:09:30.136815   \n",
       "28      28  1.702060 2022-01-30 17:15:26.398319 2022-01-30 17:16:01.897506   \n",
       "3        3  1.716578 2022-01-30 16:59:37.830098 2022-01-30 17:00:39.502439   \n",
       "15      15  1.740657 2022-01-30 17:07:38.578632 2022-01-30 17:08:18.586149   \n",
       "30      30  1.821907 2022-01-30 17:16:38.146949 2022-01-30 17:17:12.582170   \n",
       "24      24  1.972185 2022-01-30 17:13:12.565816 2022-01-30 17:13:45.378855   \n",
       "\n",
       "                 duration  params_latent_dim  params_learning_rate  \\\n",
       "36 0 days 00:00:38.366472                 12              0.012282   \n",
       "39 0 days 00:00:20.977379                 13              0.007572   \n",
       "5  0 days 00:00:51.222436                 15              0.008140   \n",
       "25 0 days 00:00:38.944735                 14              0.003934   \n",
       "49 0 days 00:00:43.506716                 16              0.002798   \n",
       "32 0 days 00:00:38.499324                 14              0.007401   \n",
       "44 0 days 00:00:23.224802                 11              0.007946   \n",
       "18 0 days 00:00:40.143779                 12              0.001297   \n",
       "0  0 days 00:00:54.746461                 14              0.026910   \n",
       "17 0 days 00:00:37.688227                 13              0.011329   \n",
       "28 0 days 00:00:35.499187                 12              0.008728   \n",
       "3  0 days 00:01:01.672341                 15              0.000833   \n",
       "15 0 days 00:00:40.007517                 14              0.001067   \n",
       "30 0 days 00:00:34.435221                 16              0.006536   \n",
       "24 0 days 00:00:32.813039                 17              0.000101   \n",
       "\n",
       "   params_optimizer     state  \n",
       "36             Adam  COMPLETE  \n",
       "39             Adam  COMPLETE  \n",
       "5              Adam  COMPLETE  \n",
       "25             Adam  COMPLETE  \n",
       "49             Adam  COMPLETE  \n",
       "32             Adam  COMPLETE  \n",
       "44          RMSprop  COMPLETE  \n",
       "18             Adam  COMPLETE  \n",
       "0              Adam  COMPLETE  \n",
       "17             Adam  COMPLETE  \n",
       "28             Adam  COMPLETE  \n",
       "3              Adam  COMPLETE  \n",
       "15             Adam  COMPLETE  \n",
       "30          RMSprop  COMPLETE  \n",
       "24          RMSprop  COMPLETE  "
      ]
     },
     "metadata": {},
     "output_type": "display_data"
    }
   ],
   "source": [
    "display(df_tuning_results_ml.sort_values(by='value').head(15))\n",
    "best_params_ml = study_ml.best_params"
   ]
  },
  {
   "cell_type": "markdown",
   "metadata": {},
   "source": [
    "## Full Training\n",
    "- Use the best hyperparameters to build the final model\n",
    "- Train the final model on the train+validation data sets (full_train)\n",
    "- Test it against the test set for final results"
   ]
  },
  {
   "cell_type": "code",
   "execution_count": 19,
   "metadata": {},
   "outputs": [
    {
     "name": "stdout",
     "output_type": "stream",
     "text": [
      "Training Results - Epoch[1] Avg loss: 3.40\n",
      "Validation Results - Epoch[1] Avg loss: 3.40\n",
      "Training Results - Epoch[2] Avg loss: 3.31\n",
      "Validation Results - Epoch[2] Avg loss: 3.31\n",
      "Training Results - Epoch[3] Avg loss: 3.20\n",
      "Validation Results - Epoch[3] Avg loss: 3.20\n",
      "Training Results - Epoch[4] Avg loss: 3.19\n",
      "Validation Results - Epoch[4] Avg loss: 3.18\n",
      "Training Results - Epoch[5] Avg loss: 3.18\n",
      "Validation Results - Epoch[5] Avg loss: 3.18\n",
      "Training Results - Epoch[6] Avg loss: 3.19\n",
      "Validation Results - Epoch[6] Avg loss: 3.18\n",
      "Training Results - Epoch[7] Avg loss: 3.18\n",
      "Validation Results - Epoch[7] Avg loss: 3.18\n",
      "Training Results - Epoch[8] Avg loss: 3.19\n",
      "Validation Results - Epoch[8] Avg loss: 3.19\n",
      "Training Results - Epoch[9] Avg loss: 3.19\n",
      "Validation Results - Epoch[9] Avg loss: 3.18\n",
      "Training Results - Epoch[10] Avg loss: 3.19\n",
      "Validation Results - Epoch[10] Avg loss: 3.18\n",
      "Final test loss = 3.1818695674668875\n"
     ]
    }
   ],
   "source": [
    "test_loss_ml, final_model_ml, test_mrr_ml = final_train(\n",
    "    model_name='AutoRec', \n",
    "    dataset_name='movielens', \n",
    "    best_params=best_params_ml,\n",
    "    max_epochs=max_epochs_ml, \n",
    "    device=device\n",
    "    )\n",
    "print(f'Final test loss = {test_loss_ml}\\nFinal test MRR = {test_mrr_ml}')"
   ]
  },
  {
   "cell_type": "code",
   "execution_count": null,
   "metadata": {},
   "outputs": [],
   "source": []
  },
  {
   "cell_type": "code",
   "execution_count": null,
   "metadata": {},
   "outputs": [],
   "source": []
  },
  {
   "cell_type": "code",
   "execution_count": null,
   "metadata": {},
   "outputs": [],
   "source": []
  },
  {
   "cell_type": "markdown",
   "metadata": {},
   "source": [
    "# Netflix"
   ]
  },
  {
   "cell_type": "code",
   "execution_count": null,
   "metadata": {},
   "outputs": [],
   "source": []
  },
  {
   "cell_type": "code",
   "execution_count": null,
   "metadata": {},
   "outputs": [],
   "source": []
  },
  {
   "cell_type": "code",
   "execution_count": null,
   "metadata": {},
   "outputs": [],
   "source": []
  },
  {
   "cell_type": "code",
   "execution_count": null,
   "metadata": {},
   "outputs": [],
   "source": []
  },
  {
   "cell_type": "code",
   "execution_count": null,
   "metadata": {},
   "outputs": [],
   "source": []
  },
  {
   "cell_type": "code",
   "execution_count": null,
   "metadata": {},
   "outputs": [],
   "source": [
    "%load_ext tensorboard\n",
    "%tensorboard --logdir=."
   ]
  },
  {
   "cell_type": "code",
   "execution_count": null,
   "metadata": {},
   "outputs": [],
   "source": []
  }
 ],
 "metadata": {
  "interpreter": {
   "hash": "8fa3c1106efc00f2c52b2a02cc212ceecaeaa00ccc3be33bf7c9b17ece6d5fb5"
  },
  "kernelspec": {
   "display_name": "Python 3.8.12 64-bit ('RecSys': conda)",
   "language": "python",
   "name": "python3"
  },
  "language_info": {
   "codemirror_mode": {
    "name": "ipython",
    "version": 3
   },
   "file_extension": ".py",
   "mimetype": "text/x-python",
   "name": "python",
   "nbconvert_exporter": "python",
   "pygments_lexer": "ipython3",
   "version": "3.8.12"
  },
  "orig_nbformat": 4
 },
 "nbformat": 4,
 "nbformat_minor": 2
}
