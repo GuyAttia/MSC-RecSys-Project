{
 "cells": [
  {
   "cell_type": "markdown",
   "metadata": {},
   "source": [
    "# Imports"
   ]
  },
  {
   "cell_type": "code",
   "execution_count": 16,
   "metadata": {},
   "outputs": [
    {
     "name": "stdout",
     "output_type": "stream",
     "text": [
      "The autoreload extension is already loaded. To reload it, use:\n",
      "  %reload_ext autoreload\n"
     ]
    }
   ],
   "source": [
    "import torch\n",
    "import matplotlib.pyplot as plt\n",
    "from torch import optim, nn\n",
    "\n",
    "%load_ext autoreload\n",
    "%autoreload 2"
   ]
  },
  {
   "cell_type": "code",
   "execution_count": 17,
   "metadata": {},
   "outputs": [
    {
     "name": "stdout",
     "output_type": "stream",
     "text": [
      "Using device: cpu\n"
     ]
    }
   ],
   "source": [
    "plt.rcParams.update({'font.size': 12})\n",
    "device = torch.device('cuda' if torch.cuda.is_available() else 'cpu')\n",
    "print('Using device:', device)"
   ]
  },
  {
   "cell_type": "code",
   "execution_count": 18,
   "metadata": {},
   "outputs": [],
   "source": [
    "from src.data import movielens_mf_dataloaders\n",
    "from src.hyperparams_tuning import tune_params"
   ]
  },
  {
   "cell_type": "markdown",
   "metadata": {},
   "source": [
    "# Data Loaders"
   ]
  },
  {
   "cell_type": "markdown",
   "metadata": {},
   "source": [
    "## MovieLens 1M"
   ]
  },
  {
   "cell_type": "code",
   "execution_count": 19,
   "metadata": {},
   "outputs": [
    {
     "name": "stdout",
     "output_type": "stream",
     "text": [
      "Movie-lens file already exists\n"
     ]
    }
   ],
   "source": [
    "dl_ml_train, dl_ml_valid, dl_ml_test = movielens_mf_dataloaders(batch_size=128)"
   ]
  },
  {
   "cell_type": "markdown",
   "metadata": {},
   "source": [
    "## Netflix"
   ]
  },
  {
   "cell_type": "code",
   "execution_count": null,
   "metadata": {},
   "outputs": [],
   "source": []
  },
  {
   "cell_type": "markdown",
   "metadata": {},
   "source": [
    "# HyperParameter Tuning"
   ]
  },
  {
   "cell_type": "markdown",
   "metadata": {},
   "source": [
    "## MovieLens 1M"
   ]
  },
  {
   "cell_type": "code",
   "execution_count": 20,
   "metadata": {},
   "outputs": [
    {
     "name": "stderr",
     "output_type": "stream",
     "text": [
      "\u001b[32m[I 2022-01-29 16:05:19,478]\u001b[0m A new study created in memory with name: no-name-67e64eac-c896-4fe2-a0df-3ccab2196a29\u001b[0m\n"
     ]
    },
    {
     "name": "stdout",
     "output_type": "stream",
     "text": [
      "Training Results - Epoch[1] Avg loss: 4.36\n",
      "Validation Results - Epoch[1] Avg loss: 4.32\n",
      "Training Results - Epoch[2] Avg loss: 3.94\n",
      "Validation Results - Epoch[2] Avg loss: 3.98\n",
      "Training Results - Epoch[3] Avg loss: 2.94\n",
      "Validation Results - Epoch[3] Avg loss: 3.20\n",
      "Training Results - Epoch[4] Avg loss: 1.60\n",
      "Validation Results - Epoch[4] Avg loss: 2.15\n",
      "Training Results - Epoch[5] Avg loss: 1.17\n",
      "Validation Results - Epoch[5] Avg loss: 1.79\n",
      "Training Results - Epoch[6] Avg loss: 1.02\n",
      "Validation Results - Epoch[6] Avg loss: 1.62\n",
      "Training Results - Epoch[7] Avg loss: 0.96\n",
      "Validation Results - Epoch[7] Avg loss: 1.51\n",
      "Training Results - Epoch[8] Avg loss: 0.93\n",
      "Validation Results - Epoch[8] Avg loss: 1.43\n",
      "Training Results - Epoch[9] Avg loss: 0.92\n",
      "Validation Results - Epoch[9] Avg loss: 1.36\n"
     ]
    },
    {
     "name": "stderr",
     "output_type": "stream",
     "text": [
      "\u001b[32m[I 2022-01-29 16:10:06,037]\u001b[0m Trial 0 finished with value: 1.3074785306887002 and parameters: {'learning_rate': 0.0006602618061239435, 'optimizer': 'Adam', 'latent_dim': 12}. Best is trial 0 with value: 1.3074785306887002.\u001b[0m\n"
     ]
    },
    {
     "name": "stdout",
     "output_type": "stream",
     "text": [
      "Training Results - Epoch[10] Avg loss: 0.90\n",
      "Validation Results - Epoch[10] Avg loss: 1.31\n",
      "Training Results - Epoch[1] Avg loss: 1.43\n",
      "Validation Results - Epoch[1] Avg loss: 1.55\n",
      "Training Results - Epoch[2] Avg loss: 1.32\n",
      "Validation Results - Epoch[2] Avg loss: 1.46\n",
      "Training Results - Epoch[3] Avg loss: 1.32\n",
      "Validation Results - Epoch[3] Avg loss: 1.53\n",
      "Training Results - Epoch[4] Avg loss: 1.32\n",
      "Validation Results - Epoch[4] Avg loss: 1.50\n"
     ]
    },
    {
     "name": "stderr",
     "output_type": "stream",
     "text": [
      "2022-01-29 16:12:21,538 ignite.handlers.early_stopping.EarlyStopping INFO: EarlyStopping: Stop training\n",
      "\u001b[32m[I 2022-01-29 16:12:21,540]\u001b[0m Trial 1 finished with value: 1.4558325231960765 and parameters: {'learning_rate': 0.027941843909435077, 'optimizer': 'Adam', 'latent_dim': 13}. Best is trial 0 with value: 1.3074785306887002.\u001b[0m\n"
     ]
    },
    {
     "name": "stdout",
     "output_type": "stream",
     "text": [
      "Training Results - Epoch[5] Avg loss: 1.32\n",
      "Validation Results - Epoch[5] Avg loss: 1.49\n"
     ]
    }
   ],
   "source": [
    "df_tuning_results = tune_params(model_name='MF', dataset_name='movielens', n_trials=2, dl_train=dl_ml_train, dl_valid=dl_ml_valid, device=device)"
   ]
  },
  {
   "cell_type": "code",
   "execution_count": 21,
   "metadata": {},
   "outputs": [
    {
     "data": {
      "text/html": [
       "<div>\n",
       "<style scoped>\n",
       "    .dataframe tbody tr th:only-of-type {\n",
       "        vertical-align: middle;\n",
       "    }\n",
       "\n",
       "    .dataframe tbody tr th {\n",
       "        vertical-align: top;\n",
       "    }\n",
       "\n",
       "    .dataframe thead th {\n",
       "        text-align: right;\n",
       "    }\n",
       "</style>\n",
       "<table border=\"1\" class=\"dataframe\">\n",
       "  <thead>\n",
       "    <tr style=\"text-align: right;\">\n",
       "      <th></th>\n",
       "      <th>number</th>\n",
       "      <th>value</th>\n",
       "      <th>datetime_start</th>\n",
       "      <th>datetime_complete</th>\n",
       "      <th>duration</th>\n",
       "      <th>params_latent_dim</th>\n",
       "      <th>params_learning_rate</th>\n",
       "      <th>params_optimizer</th>\n",
       "      <th>state</th>\n",
       "    </tr>\n",
       "  </thead>\n",
       "  <tbody>\n",
       "    <tr>\n",
       "      <th>0</th>\n",
       "      <td>0</td>\n",
       "      <td>1.307479</td>\n",
       "      <td>2022-01-29 16:05:19.479379</td>\n",
       "      <td>2022-01-29 16:10:06.037345</td>\n",
       "      <td>0 days 00:04:46.557966</td>\n",
       "      <td>12</td>\n",
       "      <td>0.000660</td>\n",
       "      <td>Adam</td>\n",
       "      <td>COMPLETE</td>\n",
       "    </tr>\n",
       "    <tr>\n",
       "      <th>1</th>\n",
       "      <td>1</td>\n",
       "      <td>1.455833</td>\n",
       "      <td>2022-01-29 16:10:06.038126</td>\n",
       "      <td>2022-01-29 16:12:21.540249</td>\n",
       "      <td>0 days 00:02:15.502123</td>\n",
       "      <td>13</td>\n",
       "      <td>0.027942</td>\n",
       "      <td>Adam</td>\n",
       "      <td>COMPLETE</td>\n",
       "    </tr>\n",
       "  </tbody>\n",
       "</table>\n",
       "</div>"
      ],
      "text/plain": [
       "   number     value             datetime_start          datetime_complete  \\\n",
       "0       0  1.307479 2022-01-29 16:05:19.479379 2022-01-29 16:10:06.037345   \n",
       "1       1  1.455833 2022-01-29 16:10:06.038126 2022-01-29 16:12:21.540249   \n",
       "\n",
       "                duration  params_latent_dim  params_learning_rate  \\\n",
       "0 0 days 00:04:46.557966                 12              0.000660   \n",
       "1 0 days 00:02:15.502123                 13              0.027942   \n",
       "\n",
       "  params_optimizer     state  \n",
       "0             Adam  COMPLETE  \n",
       "1             Adam  COMPLETE  "
      ]
     },
     "execution_count": 21,
     "metadata": {},
     "output_type": "execute_result"
    }
   ],
   "source": [
    "df_tuning_results"
   ]
  },
  {
   "cell_type": "markdown",
   "metadata": {},
   "source": [
    "## Netflix"
   ]
  },
  {
   "cell_type": "code",
   "execution_count": null,
   "metadata": {},
   "outputs": [],
   "source": []
  },
  {
   "cell_type": "code",
   "execution_count": null,
   "metadata": {},
   "outputs": [],
   "source": [
    "%load_ext tensorboard\n",
    "%tensorboard --logdir=."
   ]
  }
 ],
 "metadata": {
  "interpreter": {
   "hash": "8fa3c1106efc00f2c52b2a02cc212ceecaeaa00ccc3be33bf7c9b17ece6d5fb5"
  },
  "kernelspec": {
   "display_name": "Python 3.8.12 64-bit ('RecSys': conda)",
   "language": "python",
   "name": "python3"
  },
  "language_info": {
   "codemirror_mode": {
    "name": "ipython",
    "version": 3
   },
   "file_extension": ".py",
   "mimetype": "text/x-python",
   "name": "python",
   "nbconvert_exporter": "python",
   "pygments_lexer": "ipython3",
   "version": "3.8.12"
  },
  "orig_nbformat": 4
 },
 "nbformat": 4,
 "nbformat_minor": 2
}
