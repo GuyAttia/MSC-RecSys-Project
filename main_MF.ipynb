{
 "cells": [
  {
   "cell_type": "markdown",
   "metadata": {},
   "source": [
    "# Imports"
   ]
  },
  {
   "cell_type": "code",
   "execution_count": 4,
   "metadata": {},
   "outputs": [
    {
     "name": "stdout",
     "output_type": "stream",
     "text": [
      "The autoreload extension is already loaded. To reload it, use:\n",
      "  %reload_ext autoreload\n"
     ]
    }
   ],
   "source": [
    "import torch\n",
    "import matplotlib.pyplot as plt\n",
    "\n",
    "%load_ext autoreload\n",
    "%autoreload 2"
   ]
  },
  {
   "cell_type": "code",
   "execution_count": 5,
   "metadata": {},
   "outputs": [
    {
     "name": "stdout",
     "output_type": "stream",
     "text": [
      "Using device: cpu\n"
     ]
    }
   ],
   "source": [
    "plt.rcParams.update({'font.size': 12})\n",
    "device = torch.device('cuda' if torch.cuda.is_available() else 'cpu')\n",
    "print('Using device:', device)"
   ]
  },
  {
   "cell_type": "code",
   "execution_count": 17,
   "metadata": {},
   "outputs": [],
   "source": [
    "from src.data import movielens_mf_dataloaders\n",
    "from src.hyperparams_tuning import tune_params, final_train"
   ]
  },
  {
   "cell_type": "markdown",
   "metadata": {},
   "source": [
    "# MovieLens 1M"
   ]
  },
  {
   "cell_type": "markdown",
   "metadata": {},
   "source": [
    "## Data Loaders"
   ]
  },
  {
   "cell_type": "code",
   "execution_count": 15,
   "metadata": {},
   "outputs": [
    {
     "name": "stdout",
     "output_type": "stream",
     "text": [
      "Movie-lens file already exists\n"
     ]
    }
   ],
   "source": [
    "dl_ml_train, dl_ml_valid, dl_ml_test, dl_ml_full_train = movielens_mf_dataloaders(batch_size=128)"
   ]
  },
  {
   "cell_type": "markdown",
   "metadata": {},
   "source": [
    "## HyperParameter Tuning"
   ]
  },
  {
   "cell_type": "code",
   "execution_count": 16,
   "metadata": {},
   "outputs": [
    {
     "name": "stderr",
     "output_type": "stream",
     "text": [
      "\u001b[32m[I 2022-01-30 19:26:01,120]\u001b[0m A new study created in memory with name: no-name-75a9bbf1-e25e-4690-8a41-07fe14ae690d\u001b[0m\n"
     ]
    },
    {
     "name": "stdout",
     "output_type": "stream",
     "text": [
      "Training Results - Epoch[1] Avg loss: 1.11\n",
      "Validation Results - Epoch[1] Avg loss: 1.35\n",
      "Training Results - Epoch[2] Avg loss: 1.05\n",
      "Validation Results - Epoch[2] Avg loss: 1.22\n",
      "Training Results - Epoch[3] Avg loss: 1.02\n",
      "Validation Results - Epoch[3] Avg loss: 1.18\n",
      "Training Results - Epoch[4] Avg loss: 1.00\n",
      "Validation Results - Epoch[4] Avg loss: 1.16\n",
      "Training Results - Epoch[5] Avg loss: 0.99\n",
      "Validation Results - Epoch[5] Avg loss: 1.18\n",
      "Training Results - Epoch[6] Avg loss: 0.98\n",
      "Validation Results - Epoch[6] Avg loss: 1.18\n",
      "Training Results - Epoch[7] Avg loss: 0.97\n",
      "Validation Results - Epoch[7] Avg loss: 1.15\n",
      "Training Results - Epoch[8] Avg loss: 0.97\n",
      "Validation Results - Epoch[8] Avg loss: 1.14\n",
      "Training Results - Epoch[9] Avg loss: 0.96\n",
      "Validation Results - Epoch[9] Avg loss: 1.14\n",
      "Training Results - Epoch[10] Avg loss: 0.96\n"
     ]
    },
    {
     "name": "stderr",
     "output_type": "stream",
     "text": [
      "\u001b[32m[I 2022-01-30 19:30:42,884]\u001b[0m Trial 0 finished with value: 1.1367224906503959 and parameters: {'learning_rate': 0.013488590079462676, 'optimizer': 'RMSprop', 'latent_dim': 16}. Best is trial 0 with value: 1.1367224906503959.\u001b[0m\n"
     ]
    },
    {
     "name": "stdout",
     "output_type": "stream",
     "text": [
      "Validation Results - Epoch[10] Avg loss: 1.14\n",
      "Training Results - Epoch[1] Avg loss: 1.02\n",
      "Validation Results - Epoch[1] Avg loss: 1.16\n",
      "Training Results - Epoch[2] Avg loss: 0.97\n",
      "Validation Results - Epoch[2] Avg loss: 1.12\n",
      "Training Results - Epoch[3] Avg loss: 0.96\n",
      "Validation Results - Epoch[3] Avg loss: 1.09\n",
      "Training Results - Epoch[4] Avg loss: 0.95\n",
      "Validation Results - Epoch[4] Avg loss: 1.08\n",
      "Training Results - Epoch[5] Avg loss: 0.94\n",
      "Validation Results - Epoch[5] Avg loss: 1.07\n",
      "Training Results - Epoch[6] Avg loss: 0.93\n",
      "Validation Results - Epoch[6] Avg loss: 1.08\n",
      "Training Results - Epoch[7] Avg loss: 0.92\n",
      "Validation Results - Epoch[7] Avg loss: 1.07\n",
      "Training Results - Epoch[8] Avg loss: 0.92\n",
      "Validation Results - Epoch[8] Avg loss: 1.08\n",
      "Training Results - Epoch[9] Avg loss: 0.91\n",
      "Validation Results - Epoch[9] Avg loss: 1.06\n",
      "Training Results - Epoch[10] Avg loss: 0.91\n"
     ]
    },
    {
     "name": "stderr",
     "output_type": "stream",
     "text": [
      "\u001b[32m[I 2022-01-30 19:37:03,056]\u001b[0m Trial 1 finished with value: 1.0591665750038821 and parameters: {'learning_rate': 0.010825257093666968, 'optimizer': 'Adam', 'latent_dim': 11}. Best is trial 1 with value: 1.0591665750038821.\u001b[0m\n"
     ]
    },
    {
     "name": "stdout",
     "output_type": "stream",
     "text": [
      "Validation Results - Epoch[10] Avg loss: 1.06\n"
     ]
    }
   ],
   "source": [
    "study_ml, df_tuning_results_ml = tune_params(\n",
    "    model_name='MF', \n",
    "    dataset_name='movielens', \n",
    "    n_trials=2, \n",
    "    dl_train=dl_ml_train, \n",
    "    dl_valid=dl_ml_valid, \n",
    "    device=device\n",
    "    )"
   ]
  },
  {
   "cell_type": "code",
   "execution_count": 19,
   "metadata": {},
   "outputs": [
    {
     "data": {
      "text/html": [
       "<div>\n",
       "<style scoped>\n",
       "    .dataframe tbody tr th:only-of-type {\n",
       "        vertical-align: middle;\n",
       "    }\n",
       "\n",
       "    .dataframe tbody tr th {\n",
       "        vertical-align: top;\n",
       "    }\n",
       "\n",
       "    .dataframe thead th {\n",
       "        text-align: right;\n",
       "    }\n",
       "</style>\n",
       "<table border=\"1\" class=\"dataframe\">\n",
       "  <thead>\n",
       "    <tr style=\"text-align: right;\">\n",
       "      <th></th>\n",
       "      <th>number</th>\n",
       "      <th>value</th>\n",
       "      <th>datetime_start</th>\n",
       "      <th>datetime_complete</th>\n",
       "      <th>duration</th>\n",
       "      <th>params_latent_dim</th>\n",
       "      <th>params_learning_rate</th>\n",
       "      <th>params_optimizer</th>\n",
       "      <th>state</th>\n",
       "    </tr>\n",
       "  </thead>\n",
       "  <tbody>\n",
       "    <tr>\n",
       "      <th>1</th>\n",
       "      <td>1</td>\n",
       "      <td>1.059167</td>\n",
       "      <td>2022-01-30 19:30:42.885798</td>\n",
       "      <td>2022-01-30 19:37:03.056120</td>\n",
       "      <td>0 days 00:06:20.170322</td>\n",
       "      <td>11</td>\n",
       "      <td>0.010825</td>\n",
       "      <td>Adam</td>\n",
       "      <td>COMPLETE</td>\n",
       "    </tr>\n",
       "    <tr>\n",
       "      <th>0</th>\n",
       "      <td>0</td>\n",
       "      <td>1.136722</td>\n",
       "      <td>2022-01-30 19:26:01.128533</td>\n",
       "      <td>2022-01-30 19:30:42.884390</td>\n",
       "      <td>0 days 00:04:41.755857</td>\n",
       "      <td>16</td>\n",
       "      <td>0.013489</td>\n",
       "      <td>RMSprop</td>\n",
       "      <td>COMPLETE</td>\n",
       "    </tr>\n",
       "  </tbody>\n",
       "</table>\n",
       "</div>"
      ],
      "text/plain": [
       "   number     value             datetime_start          datetime_complete  \\\n",
       "1       1  1.059167 2022-01-30 19:30:42.885798 2022-01-30 19:37:03.056120   \n",
       "0       0  1.136722 2022-01-30 19:26:01.128533 2022-01-30 19:30:42.884390   \n",
       "\n",
       "                duration  params_latent_dim  params_learning_rate  \\\n",
       "1 0 days 00:06:20.170322                 11              0.010825   \n",
       "0 0 days 00:04:41.755857                 16              0.013489   \n",
       "\n",
       "  params_optimizer     state  \n",
       "1             Adam  COMPLETE  \n",
       "0          RMSprop  COMPLETE  "
      ]
     },
     "execution_count": 19,
     "metadata": {},
     "output_type": "execute_result"
    }
   ],
   "source": [
    "best_params_ml = study_ml.best_params\n",
    "df_tuning_results_ml.sort_values(by='value').head(15)"
   ]
  },
  {
   "cell_type": "markdown",
   "metadata": {},
   "source": [
    "## Full Training\n",
    "- Use the best hyperparameters to build the final model\n",
    "- Train the final model on the train+validation data sets (full_train)\n",
    "- Test it against the test set for final results"
   ]
  },
  {
   "cell_type": "code",
   "execution_count": 20,
   "metadata": {},
   "outputs": [
    {
     "name": "stdout",
     "output_type": "stream",
     "text": [
      "Training Results - Epoch[1] Avg loss: 1.03\n",
      "Validation Results - Epoch[1] Avg loss: 1.15\n",
      "Training Results - Epoch[2] Avg loss: 0.99\n",
      "Validation Results - Epoch[2] Avg loss: 1.11\n",
      "Training Results - Epoch[3] Avg loss: 0.96\n",
      "Validation Results - Epoch[3] Avg loss: 1.10\n",
      "Training Results - Epoch[4] Avg loss: 0.95\n",
      "Validation Results - Epoch[4] Avg loss: 1.12\n",
      "Training Results - Epoch[5] Avg loss: 0.94\n",
      "Validation Results - Epoch[5] Avg loss: 1.08\n",
      "Training Results - Epoch[6] Avg loss: 0.92\n",
      "Validation Results - Epoch[6] Avg loss: 1.09\n",
      "Training Results - Epoch[7] Avg loss: 0.92\n",
      "Validation Results - Epoch[7] Avg loss: 1.10\n",
      "Training Results - Epoch[8] Avg loss: 0.92\n",
      "Validation Results - Epoch[8] Avg loss: 1.06\n",
      "Training Results - Epoch[9] Avg loss: 0.91\n",
      "Validation Results - Epoch[9] Avg loss: 1.06\n",
      "Training Results - Epoch[10] Avg loss: 0.91\n",
      "Validation Results - Epoch[10] Avg loss: 1.07\n",
      "Final test loss = 1.0598941291215707\n"
     ]
    }
   ],
   "source": [
    "test_loss_ml, final_model_ml, test_mrr_ml = final_train(\n",
    "    model_name='MF', \n",
    "    dataset_name='movielens', \n",
    "    params=best_params_ml, \n",
    "    dl_full_train=dl_ml_full_train, \n",
    "    dl_test=dl_ml_test, \n",
    "    device=device\n",
    "    )\n",
    "print(f'Final test loss = {test_loss_ml}\\nFinal test MRR = {test_mrr_ml}')"
   ]
  },
  {
   "cell_type": "code",
   "execution_count": null,
   "metadata": {},
   "outputs": [],
   "source": []
  },
  {
   "cell_type": "code",
   "execution_count": null,
   "metadata": {},
   "outputs": [],
   "source": []
  },
  {
   "cell_type": "code",
   "execution_count": null,
   "metadata": {},
   "outputs": [],
   "source": []
  },
  {
   "cell_type": "code",
   "execution_count": null,
   "metadata": {},
   "outputs": [],
   "source": []
  },
  {
   "cell_type": "markdown",
   "metadata": {},
   "source": [
    "# Netflix"
   ]
  },
  {
   "cell_type": "code",
   "execution_count": null,
   "metadata": {},
   "outputs": [],
   "source": []
  },
  {
   "cell_type": "code",
   "execution_count": null,
   "metadata": {},
   "outputs": [],
   "source": []
  },
  {
   "cell_type": "code",
   "execution_count": null,
   "metadata": {},
   "outputs": [],
   "source": []
  },
  {
   "cell_type": "code",
   "execution_count": null,
   "metadata": {},
   "outputs": [],
   "source": []
  },
  {
   "cell_type": "code",
   "execution_count": 27,
   "metadata": {},
   "outputs": [
    {
     "data": {
      "text/plain": [
       "Reusing TensorBoard on port 6006 (pid 25193), started 9:27:25 ago. (Use '!kill 25193' to kill it.)"
      ]
     },
     "metadata": {},
     "output_type": "display_data"
    },
    {
     "data": {
      "text/html": [
       "\n",
       "      <iframe id=\"tensorboard-frame-5ca0cb8b893322b7\" width=\"100%\" height=\"800\" frameborder=\"0\">\n",
       "      </iframe>\n",
       "      <script>\n",
       "        (function() {\n",
       "          const frame = document.getElementById(\"tensorboard-frame-5ca0cb8b893322b7\");\n",
       "          const url = new URL(\"http://localhost\");\n",
       "          const port = 6006;\n",
       "          if (port) {\n",
       "            url.port = port;\n",
       "          }\n",
       "          frame.src = url;\n",
       "        })();\n",
       "      </script>\n",
       "    "
      ],
      "text/plain": [
       "<IPython.core.display.HTML object>"
      ]
     },
     "metadata": {},
     "output_type": "display_data"
    }
   ],
   "source": [
    "%reload_ext tensorboard\n",
    "%tensorboard --logdir=."
   ]
  },
  {
   "cell_type": "code",
   "execution_count": 25,
   "metadata": {},
   "outputs": [
    {
     "name": "stdout",
     "output_type": "stream",
     "text": [
      "The tensorboard extension is already loaded. To reload it, use:\n",
      "  %reload_ext tensorboard\n"
     ]
    },
    {
     "data": {
      "text/plain": [
       "Reusing TensorBoard on port 6006 (pid 25193), started 9:27:17 ago. (Use '!kill 25193' to kill it.)"
      ]
     },
     "metadata": {},
     "output_type": "display_data"
    },
    {
     "data": {
      "text/html": [
       "\n",
       "      <iframe id=\"tensorboard-frame-965848524a4c9250\" width=\"100%\" height=\"800\" frameborder=\"0\">\n",
       "      </iframe>\n",
       "      <script>\n",
       "        (function() {\n",
       "          const frame = document.getElementById(\"tensorboard-frame-965848524a4c9250\");\n",
       "          const url = new URL(\"http://localhost\");\n",
       "          const port = 6006;\n",
       "          if (port) {\n",
       "            url.port = port;\n",
       "          }\n",
       "          frame.src = url;\n",
       "        })();\n",
       "      </script>\n",
       "    "
      ],
      "text/plain": [
       "<IPython.core.display.HTML object>"
      ]
     },
     "metadata": {},
     "output_type": "display_data"
    }
   ],
   "source": [
    "%load_ext tensorboard\n",
    "%tensorboard --logdir=."
   ]
  }
 ],
 "metadata": {
  "interpreter": {
   "hash": "8fa3c1106efc00f2c52b2a02cc212ceecaeaa00ccc3be33bf7c9b17ece6d5fb5"
  },
  "kernelspec": {
   "display_name": "Python 3.8.12 64-bit ('RecSys': conda)",
   "language": "python",
   "name": "python3"
  },
  "language_info": {
   "codemirror_mode": {
    "name": "ipython",
    "version": 3
   },
   "file_extension": ".py",
   "mimetype": "text/x-python",
   "name": "python",
   "nbconvert_exporter": "python",
   "pygments_lexer": "ipython3",
   "version": "3.8.12"
  },
  "orig_nbformat": 4
 },
 "nbformat": 4,
 "nbformat_minor": 2
}
